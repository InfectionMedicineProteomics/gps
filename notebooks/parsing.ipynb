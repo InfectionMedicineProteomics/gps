{
 "cells": [
  {
   "cell_type": "code",
   "execution_count": 1,
   "metadata": {
    "collapsed": true
   },
   "outputs": [
    {
     "name": "stdout",
     "output_type": "stream",
     "text": [
      "time: 631 µs (started: 2022-02-04 13:56:57 +01:00)\n"
     ]
    }
   ],
   "source": [
    "%load_ext autotime\n",
    "\n",
    "from gscore.parsers.sqlite_file import SQLiteFile"
   ]
  },
  {
   "cell_type": "code",
   "execution_count": 2,
   "outputs": [
    {
     "name": "stdout",
     "output_type": "stream",
     "text": [
      "time: 796 µs (started: 2022-02-04 13:56:58 +01:00)\n"
     ]
    }
   ],
   "source": [
    "sqmass_file_path = \"/home/aaron/projects/ghost/data/spike_in/chromatograms/AAS_P2009_167.sqMass\"\n",
    "osw_file_path = \"/home/aaron/projects/ghost/data/spike_in/openswath/AAS_P2009_167.osw\""
   ],
   "metadata": {
    "collapsed": false,
    "pycharm": {
     "name": "#%%\n"
    }
   }
  },
  {
   "cell_type": "code",
   "execution_count": 3,
   "outputs": [
    {
     "name": "stdout",
     "output_type": "stream",
     "text": [
      "time: 1.4 ms (started: 2022-02-04 13:56:59 +01:00)\n"
     ]
    }
   ],
   "source": [
    "from gscore.parsers import queries"
   ],
   "metadata": {
    "collapsed": false,
    "pycharm": {
     "name": "#%%\n"
    }
   }
  },
  {
   "cell_type": "code",
   "execution_count": 4,
   "outputs": [
    {
     "name": "stdout",
     "output_type": "stream",
     "text": [
      "time: 1.02 s (started: 2022-02-04 13:57:01 +01:00)\n"
     ]
    }
   ],
   "source": [
    "from gscore.parsers import osw"
   ],
   "metadata": {
    "collapsed": false,
    "pycharm": {
     "name": "#%%\n"
    }
   }
  },
  {
   "cell_type": "code",
   "execution_count": 5,
   "outputs": [
    {
     "name": "stdout",
     "output_type": "stream",
     "text": [
      "time: 1.31 ms (started: 2022-02-04 13:57:02 +01:00)\n"
     ]
    }
   ],
   "source": [
    "osw_file = osw.OSWFile(\n",
    "    osw_file_path,\n",
    "    set_indices=True\n",
    ")"
   ],
   "metadata": {
    "collapsed": false,
    "pycharm": {
     "name": "#%%\n"
    }
   }
  },
  {
   "cell_type": "code",
   "execution_count": 6,
   "outputs": [
    {
     "name": "stdout",
     "output_type": "stream",
     "text": [
      "time: 3.15 s (started: 2022-02-04 13:57:05 +01:00)\n"
     ]
    }
   ],
   "source": [
    "precursors = osw_file.parse_to_precursors(\n",
    "    query=queries.SelectPeakGroups.FETCH_PREC_RECORDS\n",
    ")"
   ],
   "metadata": {
    "collapsed": false,
    "pycharm": {
     "name": "#%%\n"
    }
   }
  },
  {
   "cell_type": "code",
   "execution_count": 7,
   "outputs": [
    {
     "data": {
      "text/plain": "<gscore.precursors.Precursors at 0x7fb2ca7914f0>"
     },
     "execution_count": 7,
     "metadata": {},
     "output_type": "execute_result"
    },
    {
     "name": "stdout",
     "output_type": "stream",
     "text": [
      "time: 6.12 ms (started: 2022-02-04 13:57:10 +01:00)\n"
     ]
    }
   ],
   "source": [
    "precursors"
   ],
   "metadata": {
    "collapsed": false,
    "pycharm": {
     "name": "#%%\n"
    }
   }
  },
  {
   "cell_type": "code",
   "execution_count": 8,
   "outputs": [
    {
     "name": "stdout",
     "output_type": "stream",
     "text": [
      "time: 70.1 ms (started: 2022-02-04 13:57:10 +01:00)\n"
     ]
    }
   ],
   "source": [
    "from gscore.parsers import sqmass"
   ],
   "metadata": {
    "collapsed": false,
    "pycharm": {
     "name": "#%%\n"
    }
   }
  },
  {
   "cell_type": "code",
   "execution_count": 9,
   "outputs": [
    {
     "name": "stdout",
     "output_type": "stream",
     "text": [
      "time: 357 µs (started: 2022-02-04 13:57:11 +01:00)\n"
     ]
    }
   ],
   "source": [
    "sqmass_file = sqmass.SqMassFile(sqmass_file_path)"
   ],
   "metadata": {
    "collapsed": false,
    "pycharm": {
     "name": "#%%\n"
    }
   }
  },
  {
   "cell_type": "code",
   "execution_count": 10,
   "outputs": [
    {
     "name": "stdout",
     "output_type": "stream",
     "text": [
      "Warning: no full meta data found for run /home/aaron/projects/ghost/data/spike_in/chromatograms/AAS_P2009_167.sqMass from file /home/aaron/projects/ghost/data/spike_in/chromatograms/AAS_P2009_167.sqMass\n",
      "Warning: no meta data found, fall back to inference from SQL data structures.\n",
      "time: 14.8 s (started: 2022-02-04 13:57:13 +01:00)\n"
     ]
    }
   ],
   "source": [
    "chromatograms = sqmass_file.parse()"
   ],
   "metadata": {
    "collapsed": false,
    "pycharm": {
     "name": "#%%\n"
    }
   }
  },
  {
   "cell_type": "code",
   "execution_count": 11,
   "outputs": [
    {
     "name": "stdout",
     "output_type": "stream",
     "text": [
      "time: 313 ms (started: 2022-02-04 13:57:28 +01:00)\n"
     ]
    }
   ],
   "source": [
    "%load_ext Cython"
   ],
   "metadata": {
    "collapsed": false,
    "pycharm": {
     "name": "#%%\n"
    }
   }
  },
  {
   "cell_type": "code",
   "execution_count": 12,
   "outputs": [
    {
     "name": "stdout",
     "output_type": "stream",
     "text": [
      "time: 690 µs (started: 2022-02-04 13:57:28 +01:00)\n"
     ]
    }
   ],
   "source": [
    "from gscore.chromatograms import Chromatograms, Chromatogram\n",
    "import numpy as np\n",
    "\n",
    "def set_chromatograms(precursors, chromatograms):\n",
    "\n",
    "    for precursor in precursors:\n",
    "\n",
    "        precursor_chromatograms = chromatograms.get(\n",
    "            f\"{precursor.mz}_{precursor.charge}\",\n",
    "            precursor.unmodified_sequence\n",
    "        )\n",
    "\n",
    "        if precursor_chromatograms:\n",
    "\n",
    "            for peakgroup in precursor.peakgroups:\n",
    "\n",
    "                peakgroup_chromatograms = dict()\n",
    "\n",
    "                start_rt = peakgroup.start_rt\n",
    "                end_rt = peakgroup.end_rt\n",
    "\n",
    "                new_rt_steps = np.linspace(\n",
    "                    start_rt,\n",
    "                    end_rt,\n",
    "                    25\n",
    "                )\n",
    "\n",
    "                for key, chrom in precursor_chromatograms.items():\n",
    "\n",
    "                    peakgroup_chromatogram = Chromatogram(\n",
    "                        type=\"peakgroup\",\n",
    "                        chrom_id=key,\n",
    "                        precursor_mz=peakgroup.mz,\n",
    "                        intensities=chrom.interpolated_chromatogram(new_rt_steps),\n",
    "                        rts=new_rt_steps,\n",
    "                        start_rt=peakgroup.start_rt,\n",
    "                        end_rt=peakgroup.end_rt\n",
    "                    )\n",
    "\n",
    "                    peakgroup_chromatograms[key] = peakgroup_chromatogram\n",
    "\n",
    "                    peakgroup.chromatograms = peakgroup_chromatograms\n",
    "    return precursors"
   ],
   "metadata": {
    "collapsed": false,
    "pycharm": {
     "name": "#%%\n"
    }
   }
  },
  {
   "cell_type": "code",
   "execution_count": 13,
   "outputs": [
    {
     "name": "stdout",
     "output_type": "stream",
     "text": [
      "time: 15.2 s (started: 2022-02-04 13:57:28 +01:00)\n"
     ]
    }
   ],
   "source": [
    "precursors = set_chromatograms(\n",
    "    precursors,\n",
    "    chromatograms\n",
    ")"
   ],
   "metadata": {
    "collapsed": false,
    "pycharm": {
     "name": "#%%\n"
    }
   }
  },
  {
   "cell_type": "code",
   "execution_count": 14,
   "outputs": [
    {
     "name": "stdout",
     "output_type": "stream",
     "text": [
      "time: 208 µs (started: 2022-02-04 13:57:44 +01:00)\n"
     ]
    }
   ],
   "source": [
    "for precursor in precursors:\n",
    "\n",
    "    break"
   ],
   "metadata": {
    "collapsed": false,
    "pycharm": {
     "name": "#%%\n"
    }
   }
  },
  {
   "cell_type": "code",
   "execution_count": 15,
   "outputs": [
    {
     "name": "stdout",
     "output_type": "stream",
     "text": [
      "time: 631 µs (started: 2022-02-04 13:57:44 +01:00)\n"
     ]
    }
   ],
   "source": [
    "precursor.peakgroups.sort(key=lambda x: x.probability, reverse=True)\n",
    "\n",
    "peakgroup = precursor.peakgroups[0]"
   ],
   "metadata": {
    "collapsed": false,
    "pycharm": {
     "name": "#%%\n"
    }
   }
  },
  {
   "cell_type": "code",
   "execution_count": 18,
   "outputs": [
    {
     "data": {
      "text/plain": "0.9712142134907232"
     },
     "execution_count": 18,
     "metadata": {},
     "output_type": "execute_result"
    },
    {
     "name": "stdout",
     "output_type": "stream",
     "text": [
      "time: 2.26 ms (started: 2022-02-04 13:57:59 +01:00)\n"
     ]
    }
   ],
   "source": [
    "peakgroup.probability"
   ],
   "metadata": {
    "collapsed": false,
    "pycharm": {
     "name": "#%%\n"
    }
   }
  },
  {
   "cell_type": "code",
   "execution_count": 19,
   "outputs": [
    {
     "name": "stdout",
     "output_type": "stream",
     "text": [
      "time: 1.53 ms (started: 2022-02-04 13:57:59 +01:00)\n"
     ]
    }
   ],
   "source": [
    "interpolated_chromatograms = peakgroup.get_chromatogram_intensity_arrays(\n",
    "    use_relative_intensities=True\n",
    ")"
   ],
   "metadata": {
    "collapsed": false,
    "pycharm": {
     "name": "#%%\n"
    }
   }
  },
  {
   "cell_type": "code",
   "execution_count": 20,
   "outputs": [
    {
     "name": "stdout",
     "output_type": "stream",
     "text": [
      "time: 15.8 ms (started: 2022-02-04 13:58:01 +01:00)\n"
     ]
    }
   ],
   "source": [
    "import seaborn as sns"
   ],
   "metadata": {
    "collapsed": false,
    "pycharm": {
     "name": "#%%\n"
    }
   }
  },
  {
   "cell_type": "code",
   "execution_count": 21,
   "outputs": [
    {
     "name": "stdout",
     "output_type": "stream",
     "text": [
      "time: 1.74 ms (started: 2022-02-04 13:58:01 +01:00)\n"
     ]
    }
   ],
   "source": [
    "import pandas as pd\n",
    "\n",
    "chrom_df = pd.DataFrame(\n",
    "    interpolated_chromatograms.T\n",
    ").reset_index()"
   ],
   "metadata": {
    "collapsed": false,
    "pycharm": {
     "name": "#%%\n"
    }
   }
  },
  {
   "cell_type": "code",
   "execution_count": 22,
   "outputs": [
    {
     "data": {
      "text/plain": "     index variable     value\n0        0        0  0.000443\n1        1        0  0.023063\n2        2        0  0.045684\n3        3        0  0.031547\n4        4        0  0.008261\n..     ...      ...       ...\n145     20        5  0.298156\n146     21        5  0.214433\n147     22        5  0.149154\n148     23        5  0.152667\n149     24        5  0.156180\n\n[150 rows x 3 columns]",
      "text/html": "<div>\n<style scoped>\n    .dataframe tbody tr th:only-of-type {\n        vertical-align: middle;\n    }\n\n    .dataframe tbody tr th {\n        vertical-align: top;\n    }\n\n    .dataframe thead th {\n        text-align: right;\n    }\n</style>\n<table border=\"1\" class=\"dataframe\">\n  <thead>\n    <tr style=\"text-align: right;\">\n      <th></th>\n      <th>index</th>\n      <th>variable</th>\n      <th>value</th>\n    </tr>\n  </thead>\n  <tbody>\n    <tr>\n      <th>0</th>\n      <td>0</td>\n      <td>0</td>\n      <td>0.000443</td>\n    </tr>\n    <tr>\n      <th>1</th>\n      <td>1</td>\n      <td>0</td>\n      <td>0.023063</td>\n    </tr>\n    <tr>\n      <th>2</th>\n      <td>2</td>\n      <td>0</td>\n      <td>0.045684</td>\n    </tr>\n    <tr>\n      <th>3</th>\n      <td>3</td>\n      <td>0</td>\n      <td>0.031547</td>\n    </tr>\n    <tr>\n      <th>4</th>\n      <td>4</td>\n      <td>0</td>\n      <td>0.008261</td>\n    </tr>\n    <tr>\n      <th>...</th>\n      <td>...</td>\n      <td>...</td>\n      <td>...</td>\n    </tr>\n    <tr>\n      <th>145</th>\n      <td>20</td>\n      <td>5</td>\n      <td>0.298156</td>\n    </tr>\n    <tr>\n      <th>146</th>\n      <td>21</td>\n      <td>5</td>\n      <td>0.214433</td>\n    </tr>\n    <tr>\n      <th>147</th>\n      <td>22</td>\n      <td>5</td>\n      <td>0.149154</td>\n    </tr>\n    <tr>\n      <th>148</th>\n      <td>23</td>\n      <td>5</td>\n      <td>0.152667</td>\n    </tr>\n    <tr>\n      <th>149</th>\n      <td>24</td>\n      <td>5</td>\n      <td>0.156180</td>\n    </tr>\n  </tbody>\n</table>\n<p>150 rows × 3 columns</p>\n</div>"
     },
     "execution_count": 22,
     "metadata": {},
     "output_type": "execute_result"
    },
    {
     "name": "stdout",
     "output_type": "stream",
     "text": [
      "time: 8.82 ms (started: 2022-02-04 13:58:01 +01:00)\n"
     ]
    }
   ],
   "source": [
    "melted_chroms = pd.melt(\n",
    "    chrom_df,\n",
    "    id_vars=[\"index\"]\n",
    ")\n",
    "melted_chroms"
   ],
   "metadata": {
    "collapsed": false,
    "pycharm": {
     "name": "#%%\n"
    }
   }
  },
  {
   "cell_type": "code",
   "execution_count": 23,
   "outputs": [
    {
     "data": {
      "text/plain": "<AxesSubplot:>"
     },
     "execution_count": 23,
     "metadata": {},
     "output_type": "execute_result"
    },
    {
     "data": {
      "text/plain": "<Figure size 1800x720 with 3 Axes>",
      "image/png": "[encoded data removed]"
     },
     "metadata": {
      "needs_background": "light"
     },
     "output_type": "display_data"
    },
    {
     "name": "stdout",
     "output_type": "stream",
     "text": [
      "time: 468 ms (started: 2022-02-04 13:58:02 +01:00)\n"
     ]
    }
   ],
   "source": [
    "import matplotlib.pyplot as plt\n",
    "\n",
    "fig, axs = plt.subplots(ncols=2)\n",
    "\n",
    "sns.lineplot(\n",
    "    data=melted_chroms,\n",
    "    x=\"index\",\n",
    "    y=\"value\",\n",
    "    hue=\"variable\",\n",
    "    ax=axs[0]\n",
    ")\n",
    "\n",
    "axs[0].figure.set_size_inches(25, 10)\n",
    "\n",
    "sns.heatmap(\n",
    "    interpolated_chromatograms,\n",
    "    ax=axs[1]\n",
    ")"
   ],
   "metadata": {
    "collapsed": false,
    "pycharm": {
     "name": "#%%\n"
    }
   }
  },
  {
   "cell_type": "code",
   "execution_count": null,
   "outputs": [],
   "source": [],
   "metadata": {
    "collapsed": false,
    "pycharm": {
     "name": "#%%\n"
    }
   }
  }
 ],
 "metadata": {
  "kernelspec": {
   "display_name": "Python 3",
   "language": "python",
   "name": "python3"
  },
  "language_info": {
   "codemirror_mode": {
    "name": "ipython",
    "version": 2
   },
   "file_extension": ".py",
   "mimetype": "text/x-python",
   "name": "python",
   "nbconvert_exporter": "python",
   "pygments_lexer": "ipython2",
   "version": "2.7.6"
  }
 },
 "nbformat": 4,
 "nbformat_minor": 0
}