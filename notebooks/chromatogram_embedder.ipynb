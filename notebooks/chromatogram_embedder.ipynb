{
 "cells": [
  {
   "cell_type": "code",
   "execution_count": 1,
   "metadata": {
    "collapsed": true
   },
   "outputs": [
    {
     "name": "stdout",
     "output_type": "stream",
     "text": [
      "time: 1.51 s (started: 2022-02-22 14:11:47 +01:00)\n"
     ]
    }
   ],
   "source": [
    "import pandas as pd\n",
    "%load_ext autotime\n",
    "\n",
    "from gscore.parsers.osw import OSWFile\n",
    "from gscore.parsers.queries import SelectPeakGroups\n",
    "from gscore.parsers.sqmass import SqMassFile\n",
    "from gscore.models.deep_chromatogram_classifier import DeepChromScorer"
   ]
  },
  {
   "cell_type": "code",
   "execution_count": 2,
   "outputs": [
    {
     "name": "stdout",
     "output_type": "stream",
     "text": [
      "time: 937 µs (started: 2022-02-22 14:11:49 +01:00)\n"
     ]
    }
   ],
   "source": [
    "sqmass_file_path = \"/home/aaron/projects/ghost/data/spike_in/chromatograms/AAS_P2009_167.sqMass\"\n",
    "osw_file_path = \"/home/aaron/projects/ghost/data/spike_in/openswath/AAS_P2009_167.osw\""
   ],
   "metadata": {
    "collapsed": false,
    "pycharm": {
     "name": "#%%\n"
    }
   }
  },
  {
   "cell_type": "code",
   "execution_count": 3,
   "outputs": [
    {
     "name": "stdout",
     "output_type": "stream",
     "text": [
      "time: 7.59 s (started: 2022-02-22 14:11:50 +01:00)\n"
     ]
    }
   ],
   "source": [
    "osw_file = OSWFile(\n",
    "    osw_file_path,\n",
    "    set_indices=True\n",
    ")\n",
    "precursors = osw_file.parse_to_precursors(\n",
    "    query=SelectPeakGroups.FETCH_PREC_RECORDS\n",
    ")"
   ],
   "metadata": {
    "collapsed": false,
    "pycharm": {
     "name": "#%%\n"
    }
   }
  },
  {
   "cell_type": "code",
   "execution_count": 4,
   "outputs": [
    {
     "name": "stdout",
     "output_type": "stream",
     "text": [
      "Mean recall: 0.6491377302182427, Mean precision: 0.8865739845260474\n"
     ]
    },
    {
     "data": {
      "text/plain": "<gscore.precursors.Precursors at 0x7f6fd89b53a0>"
     },
     "execution_count": 4,
     "metadata": {},
     "output_type": "execute_result"
    },
    {
     "name": "stdout",
     "output_type": "stream",
     "text": [
      "time: 21.3 s (started: 2022-02-22 14:11:58 +01:00)\n"
     ]
    }
   ],
   "source": [
    "precursors.denoise(\n",
    "    num_folds=10,\n",
    "    num_classifiers=10,\n",
    "    num_threads=10,\n",
    "    vote_percentage=10,\n",
    ")"
   ],
   "metadata": {
    "collapsed": false,
    "pycharm": {
     "name": "#%%\n"
    }
   }
  },
  {
   "cell_type": "code",
   "execution_count": 5,
   "outputs": [
    {
     "name": "stdout",
     "output_type": "stream",
     "text": [
      "Warning: no full meta data found for run /home/aaron/projects/ghost/data/spike_in/chromatograms/AAS_P2009_167.sqMass from file /home/aaron/projects/ghost/data/spike_in/chromatograms/AAS_P2009_167.sqMass\n",
      "Warning: no meta data found, fall back to inference from SQL data structures.\n",
      "time: 29.6 s (started: 2022-02-22 14:12:19 +01:00)\n"
     ]
    }
   ],
   "source": [
    "chromatogram_file = SqMassFile(sqmass_file_path)\n",
    "\n",
    "chromatograms = chromatogram_file.parse()\n",
    "\n",
    "precursors.set_chromatograms(chromatograms)"
   ],
   "metadata": {
    "collapsed": false,
    "pycharm": {
     "name": "#%%\n"
    }
   }
  },
  {
   "cell_type": "code",
   "execution_count": 6,
   "outputs": [
    {
     "name": "stdout",
     "output_type": "stream",
     "text": [
      "time: 68.3 ms (started: 2022-02-22 14:12:49 +01:00)\n"
     ]
    }
   ],
   "source": [
    "positive_labels = precursors.filter_target_peakgroups(\n",
    "    rank=1, filter_key=\"VOTE_PERCENTAGE\", value=0.0\n",
    ")"
   ],
   "metadata": {
    "collapsed": false,
    "pycharm": {
     "name": "#%%\n"
    }
   }
  },
  {
   "cell_type": "code",
   "execution_count": 7,
   "outputs": [
    {
     "name": "stdout",
     "output_type": "stream",
     "text": [
      "time: 60.4 ms (started: 2022-02-22 14:12:49 +01:00)\n"
     ]
    }
   ],
   "source": [
    "negative_labels= precursors.get_decoy_peakgroups(\n",
    "    use_second_ranked=False\n",
    ")"
   ],
   "metadata": {
    "collapsed": false,
    "pycharm": {
     "name": "#%%\n"
    }
   }
  },
  {
   "cell_type": "code",
   "execution_count": 8,
   "outputs": [
    {
     "name": "stdout",
     "output_type": "stream",
     "text": [
      "Reformat\n",
      "[WARNING] 71 peakgroups with no found chromatograms found.\n",
      "time: 1.9 s (started: 2022-02-22 14:12:49 +01:00)\n"
     ]
    }
   ],
   "source": [
    "from gscore import preprocess\n",
    "\n",
    "combined = positive_labels + negative_labels\n",
    "\n",
    "(\n",
    "    all_data_labels,\n",
    "    all_data_indices,\n",
    "    all_chromatograms,\n",
    "    all_scores\n",
    ") = preprocess.reformat_chromatogram_data(\n",
    "    combined,\n",
    "    use_relative_intensities=True\n",
    ")"
   ],
   "metadata": {
    "collapsed": false,
    "pycharm": {
     "name": "#%%\n"
    }
   }
  },
  {
   "cell_type": "code",
   "execution_count": 9,
   "outputs": [
    {
     "data": {
      "text/plain": "(49062, 23)"
     },
     "execution_count": 9,
     "metadata": {},
     "output_type": "execute_result"
    },
    {
     "name": "stdout",
     "output_type": "stream",
     "text": [
      "time: 1.54 ms (started: 2022-02-22 14:12:54 +01:00)\n"
     ]
    }
   ],
   "source": [
    "all_scores.shape"
   ],
   "metadata": {
    "collapsed": false,
    "pycharm": {
     "name": "#%%\n"
    }
   }
  },
  {
   "cell_type": "code",
   "execution_count": 10,
   "outputs": [
    {
     "name": "stderr",
     "output_type": "stream",
     "text": [
      "GPU available: True, used: True\n",
      "TPU available: False, using: 0 TPU cores\n",
      "IPU available: False, using: 0 IPUs\n"
     ]
    },
    {
     "name": "stdout",
     "output_type": "stream",
     "text": [
      "time: 2.12 s (started: 2022-02-22 14:12:56 +01:00)\n"
     ]
    }
   ],
   "source": [
    "scoring_model = DeepChromScorer(\n",
    "    max_epochs=1,\n",
    "    gpus=1,\n",
    "    threads=10\n",
    ")"
   ],
   "metadata": {
    "collapsed": false,
    "pycharm": {
     "name": "#%%\n"
    }
   }
  },
  {
   "cell_type": "code",
   "execution_count": 24,
   "outputs": [
    {
     "name": "stdout",
     "output_type": "stream",
     "text": [
      "time: 197 ms (started: 2022-02-22 14:26:28 +01:00)\n"
     ]
    }
   ],
   "source": [
    "scoring_model.load(\n",
    "    \"/home/aaron/projects/ghost/data/spike_in/test-embedding.model\"\n",
    ")"
   ],
   "metadata": {
    "collapsed": false,
    "pycharm": {
     "name": "#%%\n"
    }
   }
  },
  {
   "cell_type": "code",
   "execution_count": 44,
   "outputs": [
    {
     "name": "stderr",
     "output_type": "stream",
     "text": [
      "GPU available: True, used: True\n",
      "TPU available: False, using: 0 TPU cores\n",
      "IPU available: False, using: 0 IPUs\n",
      "LOCAL_RANK: 0 - CUDA_VISIBLE_DEVICES: [0]\n"
     ]
    },
    {
     "data": {
      "text/plain": "Predicting: 0it [00:00, ?it/s]",
      "application/vnd.jupyter.widget-view+json": {
       "version_major": 2,
       "version_minor": 0,
       "model_id": "09dc7da7d477440c99d5cf592f6ef867"
      }
     },
     "metadata": {},
     "output_type": "display_data"
    },
    {
     "name": "stdout",
     "output_type": "stream",
     "text": [
      "time: 3.37 s (started: 2022-02-22 14:31:08 +01:00)\n"
     ]
    }
   ],
   "source": [
    "chromatogram_embeddings = scoring_model.encode(\n",
    "    all_chromatograms\n",
    ")"
   ],
   "metadata": {
    "collapsed": false,
    "pycharm": {
     "name": "#%%\n"
    }
   }
  },
  {
   "cell_type": "code",
   "execution_count": 45,
   "outputs": [
    {
     "data": {
      "text/plain": "(35.28483200073242, -42.34419250488281)"
     },
     "execution_count": 45,
     "metadata": {},
     "output_type": "execute_result"
    },
    {
     "name": "stdout",
     "output_type": "stream",
     "text": [
      "time: 3.63 ms (started: 2022-02-22 14:31:12 +01:00)\n"
     ]
    }
   ],
   "source": [
    "chromatogram_embeddings.max(), chromatogram_embeddings.min()"
   ],
   "metadata": {
    "collapsed": false,
    "pycharm": {
     "name": "#%%\n"
    }
   }
  },
  {
   "cell_type": "markdown",
   "source": [],
   "metadata": {
    "collapsed": false,
    "pycharm": {
     "name": "#%% md\n"
    }
   }
  },
  {
   "cell_type": "code",
   "execution_count": 46,
   "outputs": [
    {
     "data": {
      "text/plain": "(35.28483200073242, -42.34419250488281, False)"
     },
     "execution_count": 46,
     "metadata": {},
     "output_type": "execute_result"
    },
    {
     "name": "stdout",
     "output_type": "stream",
     "text": [
      "time: 4.96 ms (started: 2022-02-22 14:31:13 +01:00)\n"
     ]
    }
   ],
   "source": [
    "import numpy as np\n",
    "\n",
    "chromatogram_embeddings.max(), chromatogram_embeddings.min(), np.isnan(chromatogram_embeddings).any()"
   ],
   "metadata": {
    "collapsed": false,
    "pycharm": {
     "name": "#%%\n"
    }
   }
  },
  {
   "cell_type": "code",
   "execution_count": 47,
   "outputs": [
    {
     "name": "stdout",
     "output_type": "stream",
     "text": [
      "time: 509 µs (started: 2022-02-22 14:31:13 +01:00)\n"
     ]
    }
   ],
   "source": [
    "from gscore.scorer import XGBoostScorer\n",
    "from gscore.scaler import Scaler\n",
    "from sklearn.model_selection import train_test_split  # type: ignore\n",
    "from sklearn.utils import class_weight  # type: ignore\n",
    "from gscore import preprocess\n",
    "\n",
    "from sklearn.metrics import recall_score, precision_score\n",
    "\n",
    "import seaborn as sns"
   ],
   "metadata": {
    "collapsed": false,
    "pycharm": {
     "name": "#%%\n"
    }
   }
  },
  {
   "cell_type": "code",
   "execution_count": 48,
   "outputs": [
    {
     "name": "stdout",
     "output_type": "stream",
     "text": [
      "0.5899295147046909\n"
     ]
    },
    {
     "name": "stderr",
     "output_type": "stream",
     "text": [
      "/home/aaron/miniconda3/envs/ghostdev/lib/python3.8/site-packages/xgboost/sklearn.py:1224: UserWarning: The use of label encoder in XGBClassifier is deprecated and will be removed in a future release. To remove this warning, do the following: 1) Pass option use_label_encoder=False when constructing XGBClassifier object; and 2) Encode your labels (y) as integers starting with 0, i.e. 0, 1, 2, ..., [num_class - 1].\n",
      "  warnings.warn(label_encoder_deprecation_msg, UserWarning)\n"
     ]
    },
    {
     "name": "stdout",
     "output_type": "stream",
     "text": [
      "[14:31:14] WARNING: ../src/learner.cc:1115: Starting in XGBoost 1.3.0, the default evaluation metric used with the objective 'binary:logistic' was changed from 'error' to 'logloss'. Explicitly set eval_metric if you'd like to restore the old behavior.\n",
      "Evaluating model...\n",
      "Model ROC-AUC: 0.8287469415736718\n",
      "Model Precision: 0.908256880733945\n",
      "Model Recall: 0.6752192270217603\n",
      "time: 8.32 s (started: 2022-02-22 14:31:14 +01:00)\n"
     ]
    }
   ],
   "source": [
    "from collections import Counter\n",
    "\n",
    "training_data = np.concatenate(\n",
    "    (all_scores, chromatogram_embeddings),\n",
    "    axis=1\n",
    ")\n",
    "\n",
    "scaler = Scaler()\n",
    "\n",
    "training_data, testing_data, training_labels, testing_labels = train_test_split(\n",
    "    training_data, all_data_labels,\n",
    "    test_size=0.2,\n",
    "    shuffle=True\n",
    ")\n",
    "class_weights = class_weight.compute_class_weight(\n",
    "    class_weight=\"balanced\",\n",
    "    classes=np.unique(training_labels),\n",
    "    y=training_labels.ravel(),\n",
    ")\n",
    "\n",
    "counter: Counter = Counter(training_labels.ravel())\n",
    "scale_pos_weight = counter[0] / counter[1]\n",
    "\n",
    "print(scale_pos_weight)\n",
    "\n",
    "scorer = XGBoostScorer(scale_pos_weight=scale_pos_weight)\n",
    "\n",
    "training_data = scaler.fit_transform(training_data)\n",
    "\n",
    "scorer.fit(training_data, training_labels.ravel())\n",
    "\n",
    "testing_data = scaler.transform(testing_data)\n",
    "\n",
    "print(\"Evaluating model...\")\n",
    "\n",
    "roc = scorer.evaluate(testing_data, testing_labels)\n",
    "\n",
    "print(f\"Model ROC-AUC: {roc}\")\n",
    "recall = recall_score(\n",
    "    y_true=testing_labels.ravel(),\n",
    "    y_pred=scorer.model.predict(testing_data)\n",
    ")\n",
    "\n",
    "precision = precision_score(\n",
    "    y_true=testing_labels.ravel(),\n",
    "    y_pred=scorer.model.predict(testing_data)\n",
    ")\n",
    "\n",
    "print(f\"Model Precision: {precision}\")\n",
    "print(f\"Model Recall: {recall}\")"
   ],
   "metadata": {
    "collapsed": false,
    "pycharm": {
     "name": "#%%\n"
    }
   }
  },
  {
   "cell_type": "code",
   "execution_count": 49,
   "outputs": [
    {
     "data": {
      "text/plain": "<AxesSubplot:xlabel='scores', ylabel='Count'>"
     },
     "execution_count": 49,
     "metadata": {},
     "output_type": "execute_result"
    },
    {
     "data": {
      "text/plain": "<Figure size 432x288 with 1 Axes>",
      "image/png": "[encoded data removed]"
     },
     "metadata": {
      "needs_background": "light"
     },
     "output_type": "display_data"
    },
    {
     "name": "stdout",
     "output_type": "stream",
     "text": [
      "time: 165 ms (started: 2022-02-22 14:31:23 +01:00)\n"
     ]
    }
   ],
   "source": [
    "score_df = pd.DataFrame(\n",
    "    {\n",
    "        \"labels\": testing_labels.ravel(),\n",
    "        \"scores\": scorer.score(testing_data)\n",
    "    }\n",
    ")\n",
    "\n",
    "sns.histplot(\n",
    "    score_df,\n",
    "    x=\"scores\",\n",
    "    hue=\"labels\"\n",
    ")"
   ],
   "metadata": {
    "collapsed": false,
    "pycharm": {
     "name": "#%%\n"
    }
   }
  },
  {
   "cell_type": "code",
   "execution_count": 50,
   "outputs": [
    {
     "name": "stdout",
     "output_type": "stream",
     "text": [
      "0.5934150698278662\n",
      "[14:31:48] WARNING: ../src/learner.cc:1115: Starting in XGBoost 1.3.0, the default evaluation metric used with the objective 'binary:logistic' was changed from 'error' to 'logloss'. Explicitly set eval_metric if you'd like to restore the old behavior.\n"
     ]
    },
    {
     "name": "stderr",
     "output_type": "stream",
     "text": [
      "/home/aaron/miniconda3/envs/ghostdev/lib/python3.8/site-packages/xgboost/sklearn.py:1224: UserWarning: The use of label encoder in XGBClassifier is deprecated and will be removed in a future release. To remove this warning, do the following: 1) Pass option use_label_encoder=False when constructing XGBClassifier object; and 2) Encode your labels (y) as integers starting with 0, i.e. 0, 1, 2, ..., [num_class - 1].\n",
      "  warnings.warn(label_encoder_deprecation_msg, UserWarning)\n"
     ]
    },
    {
     "name": "stdout",
     "output_type": "stream",
     "text": [
      "Evaluating model...\n",
      "Model ROC-AUC: 0.8240966280204415\n",
      "Model Precision: 0.9042437431991295\n",
      "Model Recall: 0.6688667095943336\n",
      "time: 2.79 s (started: 2022-02-22 14:31:48 +01:00)\n"
     ]
    }
   ],
   "source": [
    "from collections import Counter\n",
    "\n",
    "scaler = Scaler()\n",
    "\n",
    "training_data, testing_data, training_labels, testing_labels = train_test_split(\n",
    "    all_scores, all_data_labels,\n",
    "    test_size=0.2,\n",
    "    shuffle=True\n",
    ")\n",
    "class_weights = class_weight.compute_class_weight(\n",
    "    class_weight=\"balanced\",\n",
    "    classes=np.unique(training_labels),\n",
    "    y=training_labels.ravel(),\n",
    ")\n",
    "\n",
    "counter: Counter = Counter(training_labels.ravel())\n",
    "scale_pos_weight = counter[0] / counter[1]\n",
    "\n",
    "print(scale_pos_weight)\n",
    "\n",
    "scorer = XGBoostScorer(scale_pos_weight=scale_pos_weight)\n",
    "\n",
    "training_data = scaler.fit_transform(training_data)\n",
    "\n",
    "scorer.fit(training_data, training_labels.ravel())\n",
    "\n",
    "testing_data = scaler.transform(testing_data)\n",
    "\n",
    "print(\"Evaluating model...\")\n",
    "\n",
    "roc = scorer.evaluate(testing_data, testing_labels)\n",
    "\n",
    "print(f\"Model ROC-AUC: {roc}\")\n",
    "\n",
    "recall = recall_score(\n",
    "    y_true=testing_labels.ravel(),\n",
    "    y_pred=scorer.model.predict(testing_data)\n",
    ")\n",
    "\n",
    "precision = precision_score(\n",
    "    y_true=testing_labels.ravel(),\n",
    "    y_pred=scorer.model.predict(testing_data)\n",
    ")\n",
    "\n",
    "print(f\"Model Precision: {precision}\")\n",
    "print(f\"Model Recall: {recall}\")"
   ],
   "metadata": {
    "collapsed": false,
    "pycharm": {
     "name": "#%%\n"
    }
   }
  },
  {
   "cell_type": "code",
   "execution_count": 51,
   "outputs": [
    {
     "data": {
      "text/plain": "<AxesSubplot:xlabel='scores', ylabel='Count'>"
     },
     "execution_count": 51,
     "metadata": {},
     "output_type": "execute_result"
    },
    {
     "data": {
      "text/plain": "<Figure size 432x288 with 1 Axes>",
      "image/png": "[encoded data removed]"
     },
     "metadata": {
      "needs_background": "light"
     },
     "output_type": "display_data"
    },
    {
     "name": "stdout",
     "output_type": "stream",
     "text": [
      "time: 187 ms (started: 2022-02-22 14:31:51 +01:00)\n"
     ]
    }
   ],
   "source": [
    "score_df = pd.DataFrame(\n",
    "    {\n",
    "        \"labels\": testing_labels.ravel(),\n",
    "        \"scores\": scorer.score(testing_data)\n",
    "    }\n",
    ")\n",
    "\n",
    "sns.histplot(\n",
    "    score_df,\n",
    "    x=\"scores\",\n",
    "    hue=\"labels\"\n",
    ")"
   ],
   "metadata": {
    "collapsed": false,
    "pycharm": {
     "name": "#%%\n"
    }
   }
  },
  {
   "cell_type": "code",
   "execution_count": null,
   "outputs": [],
   "source": [],
   "metadata": {
    "collapsed": false,
    "pycharm": {
     "name": "#%%\n"
    }
   }
  }
 ],
 "metadata": {
  "kernelspec": {
   "display_name": "Python 3",
   "language": "python",
   "name": "python3"
  },
  "language_info": {
   "codemirror_mode": {
    "name": "ipython",
    "version": 2
   },
   "file_extension": ".py",
   "mimetype": "text/x-python",
   "name": "python",
   "nbconvert_exporter": "python",
   "pygments_lexer": "ipython2",
   "version": "2.7.6"
  }
 },
 "nbformat": 4,
 "nbformat_minor": 0
}