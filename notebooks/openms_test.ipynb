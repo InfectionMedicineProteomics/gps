{
 "cells": [
  {
   "cell_type": "code",
   "execution_count": 1,
   "metadata": {
    "collapsed": true
   },
   "outputs": [
    {
     "name": "stdout",
     "output_type": "stream",
     "text": [
      "time: 177 ms (started: 2022-02-03 14:17:46 +01:00)\n"
     ]
    }
   ],
   "source": [
    "%load_ext autotime\n",
    "from pyopenms import *\n",
    "import numpy as np\n",
    "\n",
    "from scipy.interpolate import interp1d # type: ignore"
   ]
  },
  {
   "cell_type": "code",
   "execution_count": 2,
   "outputs": [
    {
     "name": "stdout",
     "output_type": "stream",
     "text": [
      "time: 234 µs (started: 2022-02-03 14:17:48 +01:00)\n"
     ]
    }
   ],
   "source": [
    "sqmass_file_path = \"/home/aaron/projects/ghost/data/spike_in/chromatograms/AAS_P2009_167.sqMass\"\n",
    "osw_file_path = \"/home/aaron/projects/ghost/data/spike_in/openswath/AAS_P2009_167.osw\""
   ],
   "metadata": {
    "collapsed": false,
    "pycharm": {
     "name": "#%%\n"
    }
   }
  },
  {
   "cell_type": "code",
   "execution_count": 3,
   "outputs": [
    {
     "name": "stdout",
     "output_type": "stream",
     "text": [
      "time: 2.62 ms (started: 2022-02-03 14:17:49 +01:00)\n"
     ]
    }
   ],
   "source": [
    "from gscore.parsers import sqmass"
   ],
   "metadata": {
    "collapsed": false,
    "pycharm": {
     "name": "#%%\n"
    }
   }
  },
  {
   "cell_type": "code",
   "execution_count": 4,
   "outputs": [
    {
     "name": "stdout",
     "output_type": "stream",
     "text": [
      "time: 838 µs (started: 2022-02-03 14:17:50 +01:00)\n"
     ]
    }
   ],
   "source": [
    "sqmass_file = sqmass.SqMassFile(\n",
    "    sqmass_file_path\n",
    ")"
   ],
   "metadata": {
    "collapsed": false,
    "pycharm": {
     "name": "#%%\n"
    }
   }
  },
  {
   "cell_type": "code",
   "execution_count": 5,
   "outputs": [
    {
     "name": "stdout",
     "output_type": "stream",
     "text": [
      "Warning: no full meta data found for run /home/aaron/projects/ghost/data/spike_in/chromatograms/AAS_P2009_167.sqMass from file /home/aaron/projects/ghost/data/spike_in/chromatograms/AAS_P2009_167.sqMass\n",
      "Warning: no meta data found, fall back to inference from SQL data structures.\n"
     ]
    },
    {
     "ename": "AttributeError",
     "evalue": "'pyopenms.pyopenms_1.MSChromatogram' object has no attribute 'getNativeId'",
     "output_type": "error",
     "traceback": [
      "\u001B[0;31m---------------------------------------------------------------------------\u001B[0m",
      "\u001B[0;31mAttributeError\u001B[0m                            Traceback (most recent call last)",
      "\u001B[0;32m/tmp/ipykernel_3256905/3115426189.py\u001B[0m in \u001B[0;36m<module>\u001B[0;34m\u001B[0m\n\u001B[0;32m----> 1\u001B[0;31m \u001B[0mchromatograms\u001B[0m \u001B[0;34m=\u001B[0m\u001B[0msqmass_file\u001B[0m\u001B[0;34m.\u001B[0m\u001B[0mparse\u001B[0m\u001B[0;34m(\u001B[0m\u001B[0;34m)\u001B[0m\u001B[0;34m\u001B[0m\u001B[0;34m\u001B[0m\u001B[0m\n\u001B[0m",
      "\u001B[0;32m~/projects/gscorer/gscore/gscore/parsers/sqmass.py\u001B[0m in \u001B[0;36mparse\u001B[0;34m(self, level)\u001B[0m\n\u001B[1;32m     99\u001B[0m             \u001B[0mretention_times\u001B[0m\u001B[0;34m,\u001B[0m \u001B[0mintensities\u001B[0m \u001B[0;34m=\u001B[0m \u001B[0mchromatogram\u001B[0m\u001B[0;34m.\u001B[0m\u001B[0mget_peaks\u001B[0m\u001B[0;34m(\u001B[0m\u001B[0;34m)\u001B[0m\u001B[0;34m\u001B[0m\u001B[0;34m\u001B[0m\u001B[0m\n\u001B[1;32m    100\u001B[0m \u001B[0;34m\u001B[0m\u001B[0m\n\u001B[0;32m--> 101\u001B[0;31m             \u001B[0mnative_id\u001B[0m \u001B[0;34m=\u001B[0m \u001B[0mchromatogram\u001B[0m\u001B[0;34m.\u001B[0m\u001B[0mgetNativeId\u001B[0m\u001B[0;34m(\u001B[0m\u001B[0;34m)\u001B[0m\u001B[0;34m\u001B[0m\u001B[0;34m\u001B[0m\u001B[0m\n\u001B[0m\u001B[1;32m    102\u001B[0m \u001B[0;34m\u001B[0m\u001B[0m\n\u001B[1;32m    103\u001B[0m             \u001B[0mprecursor\u001B[0m \u001B[0;34m=\u001B[0m \u001B[0mchromatogram\u001B[0m\u001B[0;34m.\u001B[0m\u001B[0mgetPrecursor\u001B[0m\u001B[0;34m(\u001B[0m\u001B[0;34m)\u001B[0m\u001B[0;34m\u001B[0m\u001B[0;34m\u001B[0m\u001B[0m\n",
      "\u001B[0;31mAttributeError\u001B[0m: 'pyopenms.pyopenms_1.MSChromatogram' object has no attribute 'getNativeId'"
     ]
    },
    {
     "name": "stdout",
     "output_type": "stream",
     "text": [
      "time: 12 s (started: 2022-02-03 14:17:54 +01:00)\n"
     ]
    }
   ],
   "source": [
    "chromatograms =sqmass_file.parse()"
   ],
   "metadata": {
    "collapsed": false,
    "pycharm": {
     "name": "#%%\n"
    }
   }
  },
  {
   "cell_type": "code",
   "execution_count": 7,
   "outputs": [
    {
     "name": "stdout",
     "output_type": "stream",
     "text": [
      "time: 21.5 s (started: 2022-02-03 12:52:26 +01:00)\n"
     ]
    }
   ],
   "source": [],
   "metadata": {
    "collapsed": false,
    "pycharm": {
     "name": "#%%\n"
    }
   }
  },
  {
   "cell_type": "code",
   "execution_count": 4,
   "outputs": [
    {
     "name": "stdout",
     "output_type": "stream",
     "text": [
      "time: 879 µs (started: 2022-02-03 12:59:38 +01:00)\n"
     ]
    }
   ],
   "source": [
    "chromatograms = MSExperiment()"
   ],
   "metadata": {
    "collapsed": false,
    "pycharm": {
     "name": "#%%\n"
    }
   }
  },
  {
   "cell_type": "code",
   "execution_count": 5,
   "outputs": [
    {
     "name": "stdout",
     "output_type": "stream",
     "text": [
      "time: 952 µs (started: 2022-02-03 12:59:39 +01:00)\n"
     ]
    }
   ],
   "source": [
    "sqmass_file = SqMassFile()\n",
    "\n",
    "sq_mass_config = SqMassConfig()\n",
    "sq_mass_config.write_full_meta = True\n",
    "\n",
    "sqmass_file.setConfig(sq_mass_config)"
   ],
   "metadata": {
    "collapsed": false,
    "pycharm": {
     "name": "#%%\n"
    }
   }
  },
  {
   "cell_type": "code",
   "execution_count": 6,
   "outputs": [
    {
     "name": "stdout",
     "output_type": "stream",
     "text": [
      "time: 9.89 s (started: 2022-02-03 12:59:41 +01:00)\n",
      "Warning: no full meta data found for run /home/aaron/projects/ghost/data/spike_in/chromatograms/AAS_P2009_167.sqMass from file /home/aaron/projects/ghost/data/spike_in/chromatograms/AAS_P2009_167.sqMass\n",
      "Warning: no meta data found, fall back to inference from SQL data structures.\n"
     ]
    }
   ],
   "source": [
    "sqmass_file.load(\n",
    "    sqmass_file_path,\n",
    "    chromatograms\n",
    ")"
   ],
   "metadata": {
    "collapsed": false,
    "pycharm": {
     "name": "#%%\n"
    }
   }
  },
  {
   "cell_type": "code",
   "execution_count": 1,
   "outputs": [
    {
     "ename": "NameError",
     "evalue": "name 'chromatograms' is not defined",
     "output_type": "error",
     "traceback": [
      "\u001B[0;31m---------------------------------------------------------------------------\u001B[0m",
      "\u001B[0;31mNameError\u001B[0m                                 Traceback (most recent call last)",
      "\u001B[0;32m/tmp/ipykernel_3278806/1774145256.py\u001B[0m in \u001B[0;36m<module>\u001B[0;34m\u001B[0m\n\u001B[1;32m      3\u001B[0m \u001B[0mchrom_records\u001B[0m \u001B[0;34m=\u001B[0m \u001B[0mChromatograms\u001B[0m\u001B[0;34m(\u001B[0m\u001B[0;34m)\u001B[0m\u001B[0;34m\u001B[0m\u001B[0;34m\u001B[0m\u001B[0m\n\u001B[1;32m      4\u001B[0m \u001B[0;34m\u001B[0m\u001B[0m\n\u001B[0;32m----> 5\u001B[0;31m \u001B[0;32mfor\u001B[0m \u001B[0mchrom\u001B[0m \u001B[0;32min\u001B[0m \u001B[0mchromatograms\u001B[0m\u001B[0;34m.\u001B[0m\u001B[0mgetChromatograms\u001B[0m\u001B[0;34m(\u001B[0m\u001B[0;34m)\u001B[0m\u001B[0;34m:\u001B[0m\u001B[0;34m\u001B[0m\u001B[0;34m\u001B[0m\u001B[0m\n\u001B[0m\u001B[1;32m      6\u001B[0m \u001B[0;34m\u001B[0m\u001B[0m\n\u001B[1;32m      7\u001B[0m     \u001B[0mretention_times\u001B[0m\u001B[0;34m,\u001B[0m \u001B[0mintensities\u001B[0m \u001B[0;34m=\u001B[0m \u001B[0mchrom\u001B[0m\u001B[0;34m.\u001B[0m\u001B[0mget_peaks\u001B[0m\u001B[0;34m(\u001B[0m\u001B[0;34m)\u001B[0m\u001B[0;34m\u001B[0m\u001B[0;34m\u001B[0m\u001B[0m\n",
      "\u001B[0;31mNameError\u001B[0m: name 'chromatograms' is not defined"
     ]
    }
   ],
   "source": [
    "from gscore.chromatograms import Chromatogram, Chromatograms\n",
    "\n",
    "chrom_records = Chromatograms()\n",
    "\n",
    "for chrom in chromatograms.getChromatograms():\n",
    "\n",
    "    retention_times, intensities = chrom.get_peaks()\n",
    "\n",
    "    native_id = chrom.getNativeID()\n",
    "\n",
    "    print(native_id)\n",
    "\n",
    "    precursor = chrom.getPrecursor()\n",
    "\n",
    "    precursor_id = f\"{precursor.getMZ()}_{precursor.getCharge()}\"\n",
    "\n",
    "    if precursor_id not in chrom_records:\n",
    "\n",
    "        chrom_records[precursor_id] = dict()\n",
    "\n",
    "    if \"Precursor\" not in native_id:\n",
    "\n",
    "        chromatogram = Chromatogram(\n",
    "            type=\"fragment\",\n",
    "            chrom_id=native_id,\n",
    "            precursor_mz=precursor.getMZ(),\n",
    "            charge=precursor.getCharge(),\n",
    "            peptide_sequence=precursor.getMetaValue(\"peptide_sequence\"),\n",
    "            rts=retention_times,\n",
    "            intensities=intensities,\n",
    "            calculate_interpolated_function=True\n",
    "        )\n",
    "\n",
    "        chrom_records[precursor_id][\n",
    "            native_id\n",
    "        ] = chromatogram\n",
    "\n"
   ],
   "metadata": {
    "collapsed": false,
    "pycharm": {
     "name": "#%%\n"
    }
   }
  },
  {
   "cell_type": "markdown",
   "source": [],
   "metadata": {
    "collapsed": false
   }
  },
  {
   "cell_type": "code",
   "execution_count": 8,
   "outputs": [
    {
     "name": "stdout",
     "output_type": "stream",
     "text": [
      "Parsing /home/aaron/projects/ghost/data/spike_in/openswath/AAS_P2009_167.osw\n",
      "Cleaning unused score columns.\n",
      "time: 15 s (started: 2022-02-03 13:00:09 +01:00)\n"
     ]
    }
   ],
   "source": [
    "from gscore.parsers import queries\n",
    "from gscore.parsers import osw\n",
    "\n",
    "with osw.OSWFile(osw_file_path) as osw_file:\n",
    "\n",
    "    print(f\"Parsing {osw_file_path}\")\n",
    "\n",
    "    precursors = osw_file.parse_to_precursors(\n",
    "        query=queries.SelectPeakGroups.FETCH_CHROMATOGRAM_TRAINING_RECORDS\n",
    "    )"
   ],
   "metadata": {
    "collapsed": false,
    "pycharm": {
     "name": "#%%\n"
    }
   }
  },
  {
   "cell_type": "code",
   "execution_count": 11,
   "outputs": [
    {
     "ename": "AttributeError",
     "evalue": "'Chromatogram' object has no attribute 'interpolated_chromatogram'",
     "output_type": "error",
     "traceback": [
      "\u001B[0;31m---------------------------------------------------------------------------\u001B[0m",
      "\u001B[0;31mAttributeError\u001B[0m                            Traceback (most recent call last)",
      "\u001B[0;32m/tmp/ipykernel_2800732/500845395.py\u001B[0m in \u001B[0;36m<module>\u001B[0;34m\u001B[0m\n\u001B[0;32m----> 1\u001B[0;31m \u001B[0mprecursors\u001B[0m\u001B[0;34m.\u001B[0m\u001B[0mset_chromatograms\u001B[0m\u001B[0;34m(\u001B[0m\u001B[0mchrom_records\u001B[0m\u001B[0;34m)\u001B[0m\u001B[0;34m\u001B[0m\u001B[0;34m\u001B[0m\u001B[0m\n\u001B[0m",
      "\u001B[0;32m~/projects/gscorer/gscore/gscore/precursors.py\u001B[0m in \u001B[0;36mset_chromatograms\u001B[0;34m(self, chromatograms)\u001B[0m\n\u001B[1;32m    168\u001B[0m                             \u001B[0mchrom_id\u001B[0m\u001B[0;34m=\u001B[0m\u001B[0mkey\u001B[0m\u001B[0;34m,\u001B[0m\u001B[0;34m\u001B[0m\u001B[0;34m\u001B[0m\u001B[0m\n\u001B[1;32m    169\u001B[0m                             \u001B[0mprecursor_mz\u001B[0m\u001B[0;34m=\u001B[0m\u001B[0mpeakgroup\u001B[0m\u001B[0;34m.\u001B[0m\u001B[0mmz\u001B[0m\u001B[0;34m,\u001B[0m\u001B[0;34m\u001B[0m\u001B[0;34m\u001B[0m\u001B[0m\n\u001B[0;32m--> 170\u001B[0;31m                             \u001B[0mintensities\u001B[0m\u001B[0;34m=\u001B[0m\u001B[0mchrom\u001B[0m\u001B[0;34m.\u001B[0m\u001B[0minterpolated_chromatogram\u001B[0m\u001B[0;34m(\u001B[0m\u001B[0mnew_rt_steps\u001B[0m\u001B[0;34m)\u001B[0m\u001B[0;34m,\u001B[0m\u001B[0;34m\u001B[0m\u001B[0;34m\u001B[0m\u001B[0m\n\u001B[0m\u001B[1;32m    171\u001B[0m                             \u001B[0mrts\u001B[0m\u001B[0;34m=\u001B[0m\u001B[0mnew_rt_steps\u001B[0m\u001B[0;34m,\u001B[0m\u001B[0;34m\u001B[0m\u001B[0;34m\u001B[0m\u001B[0m\n\u001B[1;32m    172\u001B[0m                             \u001B[0mstart_rt\u001B[0m\u001B[0;34m=\u001B[0m\u001B[0mpeakgroup\u001B[0m\u001B[0;34m.\u001B[0m\u001B[0mstart_rt\u001B[0m\u001B[0;34m,\u001B[0m\u001B[0;34m\u001B[0m\u001B[0;34m\u001B[0m\u001B[0m\n",
      "\u001B[0;31mAttributeError\u001B[0m: 'Chromatogram' object has no attribute 'interpolated_chromatogram'"
     ]
    },
    {
     "name": "stdout",
     "output_type": "stream",
     "text": [
      "time: 18.9 ms (started: 2022-02-03 13:03:05 +01:00)\n"
     ]
    }
   ],
   "source": [
    "precursors.set_chromatograms(chrom_records)"
   ],
   "metadata": {
    "collapsed": false,
    "pycharm": {
     "name": "#%%\n"
    }
   }
  },
  {
   "cell_type": "code",
   "execution_count": 14,
   "outputs": [
    {
     "data": {
      "text/plain": "{}"
     },
     "execution_count": 14,
     "metadata": {},
     "output_type": "execute_result"
    },
    {
     "name": "stdout",
     "output_type": "stream",
     "text": [
      "time: 1.52 ms (started: 2022-02-03 13:04:03 +01:00)\n"
     ]
    }
   ],
   "source": [
    "chrom_records.chromatogram_records[\"772.06050968_3\"]"
   ],
   "metadata": {
    "collapsed": false,
    "pycharm": {
     "name": "#%%\n"
    }
   }
  },
  {
   "cell_type": "code",
   "execution_count": 16,
   "outputs": [
    {
     "data": {
      "text/plain": "{'0': <gscore.chromatograms.Chromatogram at 0x7efbb27ab3d0>,\n '1': <gscore.chromatograms.Chromatogram at 0x7efbb27abd00>,\n '2': <gscore.chromatograms.Chromatogram at 0x7efbb272fc10>,\n '3': <gscore.chromatograms.Chromatogram at 0x7efbb27136d0>,\n '4': <gscore.chromatograms.Chromatogram at 0x7efbb265f760>,\n '5': <gscore.chromatograms.Chromatogram at 0x7efbb265fd60>}"
     },
     "execution_count": 16,
     "metadata": {},
     "output_type": "execute_result"
    },
    {
     "name": "stdout",
     "output_type": "stream",
     "text": [
      "time: 1.82 ms (started: 2022-02-03 14:12:59 +01:00)\n"
     ]
    }
   ],
   "source": [
    "chrom_records.chromatogram_records[\"350.2098_3\"]"
   ],
   "metadata": {
    "collapsed": false,
    "pycharm": {
     "name": "#%%\n"
    }
   }
  },
  {
   "cell_type": "code",
   "execution_count": null,
   "outputs": [],
   "source": [],
   "metadata": {
    "collapsed": false,
    "pycharm": {
     "name": "#%%\n"
    }
   }
  }
 ],
 "metadata": {
  "kernelspec": {
   "display_name": "Python 3",
   "language": "python",
   "name": "python3"
  },
  "language_info": {
   "codemirror_mode": {
    "name": "ipython",
    "version": 2
   },
   "file_extension": ".py",
   "mimetype": "text/x-python",
   "name": "python",
   "nbconvert_exporter": "python",
   "pygments_lexer": "ipython2",
   "version": "2.7.6"
  }
 },
 "nbformat": 4,
 "nbformat_minor": 0
}