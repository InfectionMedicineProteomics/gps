{
 "cells": [
  {
   "cell_type": "code",
   "execution_count": 2,
   "metadata": {
    "collapsed": true
   },
   "outputs": [],
   "source": [
    "from multiprocessing import Pool, Process, Queue"
   ]
  },
  {
   "cell_type": "code",
   "execution_count": 3,
   "outputs": [],
   "source": [
    "import random"
   ],
   "metadata": {
    "collapsed": false,
    "pycharm": {
     "name": "#%%\n"
    }
   }
  },
  {
   "cell_type": "code",
   "execution_count": 6,
   "outputs": [],
   "source": [
    "def raise_number(x, y):\n",
    "\n",
    "    num = x ** y\n",
    "\n",
    "    print(num)"
   ],
   "metadata": {
    "collapsed": false,
    "pycharm": {
     "name": "#%%\n"
    }
   }
  },
  {
   "cell_type": "code",
   "execution_count": 8,
   "outputs": [
    {
     "name": "stderr",
     "output_type": "stream",
     "text": [
      "Process Process-9:\n",
      "Traceback (most recent call last):\n",
      "Process Process-10:\n",
      "  File \"/home/aaron/miniconda3/envs/ghostdev/lib/python3.8/multiprocessing/process.py\", line 315, in _bootstrap\n",
      "    self.run()\n",
      "  File \"/tmp/ipykernel_2690692/1723640772.py\", line 3, in raise_number\n",
      "    num = x ** y\n",
      "Traceback (most recent call last):\n",
      "Process Process-11:\n",
      "  File \"/home/aaron/miniconda3/envs/ghostdev/lib/python3.8/multiprocessing/process.py\", line 108, in run\n",
      "    self._target(*self._args, **self._kwargs)\n",
      "  File \"/home/aaron/miniconda3/envs/ghostdev/lib/python3.8/multiprocessing/process.py\", line 315, in _bootstrap\n",
      "    self.run()\n",
      "TypeError: unsupported operand type(s) for ** or pow(): 'str' and 'str'\n",
      "Traceback (most recent call last):\n",
      "  File \"/home/aaron/miniconda3/envs/ghostdev/lib/python3.8/multiprocessing/process.py\", line 108, in run\n",
      "    self._target(*self._args, **self._kwargs)\n",
      "  File \"/tmp/ipykernel_2690692/1723640772.py\", line 3, in raise_number\n",
      "    num = x ** y\n",
      "  File \"/home/aaron/miniconda3/envs/ghostdev/lib/python3.8/multiprocessing/process.py\", line 315, in _bootstrap\n",
      "    self.run()\n",
      "Process Process-12:\n",
      "TypeError: unsupported operand type(s) for ** or pow(): 'str' and 'str'\n",
      "  File \"/home/aaron/miniconda3/envs/ghostdev/lib/python3.8/multiprocessing/process.py\", line 108, in run\n",
      "    self._target(*self._args, **self._kwargs)\n",
      "  File \"/tmp/ipykernel_2690692/1723640772.py\", line 3, in raise_number\n",
      "    num = x ** y\n",
      "TypeError: unsupported operand type(s) for ** or pow(): 'str' and 'str'\n",
      "Traceback (most recent call last):\n",
      "  File \"/home/aaron/miniconda3/envs/ghostdev/lib/python3.8/multiprocessing/process.py\", line 315, in _bootstrap\n",
      "    self.run()\n",
      "  File \"/home/aaron/miniconda3/envs/ghostdev/lib/python3.8/multiprocessing/process.py\", line 108, in run\n",
      "    self._target(*self._args, **self._kwargs)\n",
      "  File \"/tmp/ipykernel_2690692/1723640772.py\", line 3, in raise_number\n",
      "    num = x ** y\n",
      "TypeError: unsupported operand type(s) for ** or pow(): 'str' and 'str'\n"
     ]
    }
   ],
   "source": [
    "queue = Queue()\n",
    "\n",
    "processes = [\n",
    "    Process(\n",
    "        target=raise_number,\n",
    "        args={\n",
    "            \"x\": x,\n",
    "            \"y\": x + 1\n",
    "}\n",
    "    ) for x in range(4)\n",
    "]\n",
    "\n",
    "for p in processes:\n",
    "    p.start()\n",
    "\n",
    "for p in processes:\n",
    "    p.join()"
   ],
   "metadata": {
    "collapsed": false,
    "pycharm": {
     "name": "#%%\n"
    }
   }
  },
  {
   "cell_type": "code",
   "execution_count": null,
   "outputs": [],
   "source": [],
   "metadata": {
    "collapsed": false,
    "pycharm": {
     "name": "#%%\n"
    }
   }
  }
 ],
 "metadata": {
  "kernelspec": {
   "display_name": "Python 3",
   "language": "python",
   "name": "python3"
  },
  "language_info": {
   "codemirror_mode": {
    "name": "ipython",
    "version": 2
   },
   "file_extension": ".py",
   "mimetype": "text/x-python",
   "name": "python",
   "nbconvert_exporter": "python",
   "pygments_lexer": "ipython2",
   "version": "2.7.6"
  }
 },
 "nbformat": 4,
 "nbformat_minor": 0
}