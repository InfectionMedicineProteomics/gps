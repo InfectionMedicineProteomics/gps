{
 "cells": [
  {
   "cell_type": "code",
   "execution_count": 1,
   "metadata": {
    "collapsed": true
   },
   "outputs": [
    {
     "name": "stdout",
     "output_type": "stream",
     "text": [
      "time: 1.24 s (started: 2022-01-31 15:33:00 +01:00)\n"
     ]
    }
   ],
   "source": [
    "%load_ext autotime\n",
    "import seaborn as sns\n",
    "import pandas as pd\n",
    "import numpy as np\n",
    "\n",
    "\n",
    "from gscore.parsers import sqmass\n",
    "from gscore.parsers.osw import OSWFile\n",
    "from gscore.parsers import queries\n"
   ]
  },
  {
   "cell_type": "code",
   "execution_count": 2,
   "outputs": [
    {
     "name": "stdout",
     "output_type": "stream",
     "text": [
      "Cleaning unused score columns.\n",
      "time: 1min 51s (started: 2022-01-31 15:33:04 +01:00)\n"
     ]
    }
   ],
   "source": [
    "sqmass_file_path = \"/home/aaron/projects/ghost/data/spike_in/chromatograms/AAS_P2009_167.sqMass\"\n",
    "osw_file_path = \"/home/aaron/projects/ghost/data/spike_in/openswath/AAS_P2009_167.osw\"\n",
    "with sqmass.SqMassFile(sqmass_file_path) as sqmass_file:\n",
    "    chromatograms = sqmass_file.parse()\n",
    "with OSWFile(osw_file_path) as osw_file:\n",
    "    precursors = osw_file.parse_to_precursors(\n",
    "        query=queries.SelectPeakGroups.FETCH_CHROMATOGRAM_TRAINING_RECORDS\n",
    "    )\n",
    "precursors.set_chromatograms(chromatograms)"
   ],
   "metadata": {
    "collapsed": false,
    "pycharm": {
     "name": "#%%\n"
    }
   }
  },
  {
   "cell_type": "code",
   "execution_count": 3,
   "outputs": [
    {
     "name": "stdout",
     "output_type": "stream",
     "text": [
      "time: 24.1 s (started: 2022-01-31 15:35:16 +01:00)\n"
     ]
    }
   ],
   "source": [
    "labels = []\n",
    "scores = []\n",
    "chroms = []\n",
    "\n",
    "for precursor in precursors:\n",
    "\n",
    "    precursor.peakgroups.sort(key=lambda x: x.scores[\"PROBABILITY\"], reverse=True)\n",
    "\n",
    "    peakgroup = precursor.peakgroups[0]\n",
    "\n",
    "    if peakgroup.chromatograms:\n",
    "\n",
    "        score_array = peakgroup.get_sub_score_column_array(True)\n",
    "\n",
    "        scores.append(np.array(score_array))\n",
    "\n",
    "        labels.append(peakgroup.target)\n",
    "\n",
    "        chroms.append(\n",
    "            peakgroup.get_chromatogram_intensity_arrays(\n",
    "                interpolated=True, use_relative_intensities=True\n",
    "            )\n",
    "        )\n",
    "\n",
    "\n",
    "labels = np.array(labels).reshape(-1, 1)\n",
    "scores = np.array(scores)\n",
    "chroms = np.array(chroms).reshape((-1, 1, 6, 25))"
   ],
   "metadata": {
    "collapsed": false,
    "pycharm": {
     "name": "#%%\n"
    }
   }
  },
  {
   "cell_type": "code",
   "execution_count": 4,
   "outputs": [
    {
     "name": "stdout",
     "output_type": "stream",
     "text": [
      "time: 206 µs (started: 2022-01-31 15:35:57 +01:00)\n"
     ]
    }
   ],
   "source": [
    "from gscore.models.deep_chrom_feature_classifier import DeepChromFeatureScorer"
   ],
   "metadata": {
    "collapsed": false,
    "pycharm": {
     "name": "#%%\n"
    }
   }
  },
  {
   "cell_type": "code",
   "execution_count": 5,
   "outputs": [
    {
     "name": "stdout",
     "output_type": "stream",
     "text": [
      "time: 792 µs (started: 2022-01-31 15:35:58 +01:00)\n"
     ]
    }
   ],
   "source": [
    "from gscore.scaler import Scaler"
   ],
   "metadata": {
    "collapsed": false,
    "pycharm": {
     "name": "#%%\n"
    }
   }
  },
  {
   "cell_type": "code",
   "execution_count": 6,
   "outputs": [
    {
     "name": "stdout",
     "output_type": "stream",
     "text": [
      "time: 64.2 ms (started: 2022-01-31 15:36:00 +01:00)\n"
     ]
    }
   ],
   "source": [
    "scaler = Scaler()\n",
    "\n",
    "scores = scaler.fit_transform(scores)"
   ],
   "metadata": {
    "collapsed": false,
    "pycharm": {
     "name": "#%%\n"
    }
   }
  },
  {
   "cell_type": "code",
   "execution_count": 7,
   "outputs": [
    {
     "data": {
      "text/plain": "(49062, 33)"
     },
     "execution_count": 7,
     "metadata": {},
     "output_type": "execute_result"
    },
    {
     "name": "stdout",
     "output_type": "stream",
     "text": [
      "time: 7.05 ms (started: 2022-01-31 15:36:08 +01:00)\n"
     ]
    }
   ],
   "source": [
    "scores.shape"
   ],
   "metadata": {
    "collapsed": false,
    "pycharm": {
     "name": "#%%\n"
    }
   }
  },
  {
   "cell_type": "code",
   "execution_count": 8,
   "outputs": [
    {
     "name": "stderr",
     "output_type": "stream",
     "text": [
      "GPU available: True, used: True\n",
      "TPU available: False, using: 0 TPU cores\n",
      "IPU available: False, using: 0 IPUs\n"
     ]
    },
    {
     "name": "stdout",
     "output_type": "stream",
     "text": [
      "time: 53.2 ms (started: 2022-01-31 15:36:16 +01:00)\n"
     ]
    }
   ],
   "source": [
    "model = DeepChromFeatureScorer(\n",
    "    num_features=33,\n",
    "    threads=10,\n",
    "    max_epochs=5\n",
    ")"
   ],
   "metadata": {
    "collapsed": false,
    "pycharm": {
     "name": "#%%\n"
    }
   }
  },
  {
   "cell_type": "code",
   "execution_count": 9,
   "outputs": [
    {
     "name": "stderr",
     "output_type": "stream",
     "text": [
      "LOCAL_RANK: 0 - CUDA_VISIBLE_DEVICES: [0]\n",
      "\n",
      "  | Name          | Type       | Params\n",
      "---------------------------------------------\n",
      "0 | conv_layers   | Sequential | 10.9 K\n",
      "1 | linear_layers | Sequential | 2.1 M \n",
      "---------------------------------------------\n",
      "2.1 M     Trainable params\n",
      "0         Non-trainable params\n",
      "2.1 M     Total params\n",
      "8.317     Total estimated model params size (MB)\n"
     ]
    },
    {
     "data": {
      "text/plain": "Validation sanity check: 0it [00:00, ?it/s]",
      "application/vnd.jupyter.widget-view+json": {
       "version_major": 2,
       "version_minor": 0,
       "model_id": "8a1fc2ebd27d43fe82e206aec3d2e9bb"
      }
     },
     "metadata": {},
     "output_type": "display_data"
    },
    {
     "data": {
      "text/plain": "Training: 0it [00:00, ?it/s]",
      "application/vnd.jupyter.widget-view+json": {
       "version_major": 2,
       "version_minor": 0,
       "model_id": "1993a31cec324f198916ab0db5fe34fe"
      }
     },
     "metadata": {},
     "output_type": "display_data"
    },
    {
     "data": {
      "text/plain": "Validating: 0it [00:00, ?it/s]",
      "application/vnd.jupyter.widget-view+json": {
       "version_major": 2,
       "version_minor": 0,
       "model_id": "e0ea2b07691e4efe8cc7f0be8e0f5c75"
      }
     },
     "metadata": {},
     "output_type": "display_data"
    },
    {
     "data": {
      "text/plain": "Validating: 0it [00:00, ?it/s]",
      "application/vnd.jupyter.widget-view+json": {
       "version_major": 2,
       "version_minor": 0,
       "model_id": "a0b3cd42a171414380c8f6944b53e200"
      }
     },
     "metadata": {},
     "output_type": "display_data"
    },
    {
     "data": {
      "text/plain": "Validating: 0it [00:00, ?it/s]",
      "application/vnd.jupyter.widget-view+json": {
       "version_major": 2,
       "version_minor": 0,
       "model_id": "4b345fb4d0764ef7b212be359ad71fff"
      }
     },
     "metadata": {},
     "output_type": "display_data"
    },
    {
     "data": {
      "text/plain": "Validating: 0it [00:00, ?it/s]",
      "application/vnd.jupyter.widget-view+json": {
       "version_major": 2,
       "version_minor": 0,
       "model_id": "3bc33943d49f489db880c6ed2b6fce26"
      }
     },
     "metadata": {},
     "output_type": "display_data"
    },
    {
     "data": {
      "text/plain": "Validating: 0it [00:00, ?it/s]",
      "application/vnd.jupyter.widget-view+json": {
       "version_major": 2,
       "version_minor": 0,
       "model_id": "48177a541e97429e9e3a032afa760bf5"
      }
     },
     "metadata": {},
     "output_type": "display_data"
    },
    {
     "name": "stdout",
     "output_type": "stream",
     "text": [
      "time: 31.2 s (started: 2022-01-31 15:36:17 +01:00)\n"
     ]
    }
   ],
   "source": [
    "model.fit(\n",
    "    chroms,\n",
    "    scores,\n",
    "    labels\n",
    ")"
   ],
   "metadata": {
    "collapsed": false,
    "pycharm": {
     "name": "#%%\n"
    }
   }
  },
  {
   "cell_type": "code",
   "execution_count": 10,
   "outputs": [
    {
     "name": "stdout",
     "output_type": "stream",
     "text": [
      "time: 3.87 ms (started: 2022-01-31 15:37:01 +01:00)\n"
     ]
    }
   ],
   "source": [
    "scaler.save(\"/home/aaron/projects/ghost/data/spike_in/deepchrom/dc_v_t_1_29.scaler\")"
   ],
   "metadata": {
    "collapsed": false,
    "pycharm": {
     "name": "#%%\n"
    }
   }
  },
  {
   "cell_type": "code",
   "execution_count": 11,
   "outputs": [
    {
     "name": "stdout",
     "output_type": "stream",
     "text": [
      "time: 39.3 ms (started: 2022-01-31 15:37:02 +01:00)\n"
     ]
    }
   ],
   "source": [
    "model.save(\"/home/aaron/projects/ghost/data/spike_in/deepchrom/dc_v_t_1_29.model\")"
   ],
   "metadata": {
    "collapsed": false,
    "pycharm": {
     "name": "#%%\n"
    }
   }
  },
  {
   "cell_type": "code",
   "execution_count": 12,
   "outputs": [
    {
     "name": "stderr",
     "output_type": "stream",
     "text": [
      "GPU available: True, used: True\n",
      "TPU available: False, using: 0 TPU cores\n",
      "IPU available: False, using: 0 IPUs\n",
      "LOCAL_RANK: 0 - CUDA_VISIBLE_DEVICES: [0]\n"
     ]
    },
    {
     "data": {
      "text/plain": "Predicting: 0it [00:00, ?it/s]",
      "application/vnd.jupyter.widget-view+json": {
       "version_major": 2,
       "version_minor": 0,
       "model_id": "8eaefc8f097d4174870697a303ad16e4"
      }
     },
     "metadata": {},
     "output_type": "display_data"
    },
    {
     "name": "stderr",
     "output_type": "stream",
     "text": [
      "/home/aaron/miniconda3/envs/ghostdev/lib/python3.8/site-packages/pytorch_lightning/loops/epoch/prediction_epoch_loop.py:172: UserWarning: Lightning couldn't infer the indices fetched for your dataloader.\n",
      "  warning_cache.warn(\"Lightning couldn't infer the indices fetched for your dataloader.\")\n"
     ]
    },
    {
     "data": {
      "text/plain": "0.832254116554846"
     },
     "execution_count": 12,
     "metadata": {},
     "output_type": "execute_result"
    },
    {
     "name": "stdout",
     "output_type": "stream",
     "text": [
      "time: 1.2 s (started: 2022-01-31 15:37:04 +01:00)\n"
     ]
    }
   ],
   "source": [
    "model.evaluate(\n",
    "    chroms,\n",
    "    scores,\n",
    "    labels\n",
    ")"
   ],
   "metadata": {
    "collapsed": false,
    "pycharm": {
     "name": "#%%\n"
    }
   }
  },
  {
   "cell_type": "code",
   "execution_count": 13,
   "outputs": [
    {
     "name": "stderr",
     "output_type": "stream",
     "text": [
      "GPU available: True, used: True\n",
      "TPU available: False, using: 0 TPU cores\n",
      "IPU available: False, using: 0 IPUs\n",
      "LOCAL_RANK: 0 - CUDA_VISIBLE_DEVICES: [0]\n"
     ]
    },
    {
     "data": {
      "text/plain": "Predicting: 0it [00:00, ?it/s]",
      "application/vnd.jupyter.widget-view+json": {
       "version_major": 2,
       "version_minor": 0,
       "model_id": "5fdf025cf82c4b558bf0f3aba8d9dc3d"
      }
     },
     "metadata": {},
     "output_type": "display_data"
    },
    {
     "name": "stdout",
     "output_type": "stream",
     "text": [
      "time: 1.11 s (started: 2022-01-31 15:37:40 +01:00)\n"
     ]
    }
   ],
   "source": [
    "predictions = model.score(\n",
    "    chromatograms=chroms,\n",
    "    scores=scores\n",
    ")"
   ],
   "metadata": {
    "collapsed": false,
    "pycharm": {
     "name": "#%%\n"
    }
   }
  },
  {
   "cell_type": "code",
   "execution_count": 14,
   "outputs": [
    {
     "name": "stdout",
     "output_type": "stream",
     "text": [
      "time: 907 µs (started: 2022-01-31 15:37:56 +01:00)\n"
     ]
    }
   ],
   "source": [
    "import seaborn as sns\n",
    "import pandas as pd"
   ],
   "metadata": {
    "collapsed": false,
    "pycharm": {
     "name": "#%%\n"
    }
   }
  },
  {
   "cell_type": "code",
   "execution_count": 16,
   "outputs": [
    {
     "data": {
      "text/plain": "(49062, 1)"
     },
     "execution_count": 16,
     "metadata": {},
     "output_type": "execute_result"
    },
    {
     "name": "stdout",
     "output_type": "stream",
     "text": [
      "time: 3.31 ms (started: 2022-01-31 15:38:39 +01:00)\n"
     ]
    }
   ],
   "source": [
    "predictions.shape"
   ],
   "metadata": {
    "collapsed": false,
    "pycharm": {
     "name": "#%%\n"
    }
   }
  },
  {
   "cell_type": "code",
   "execution_count": 17,
   "outputs": [
    {
     "name": "stdout",
     "output_type": "stream",
     "text": [
      "time: 2.61 ms (started: 2022-01-31 15:38:48 +01:00)\n"
     ]
    }
   ],
   "source": [
    "df = pd.DataFrame(\n",
    "    {\n",
    "        \"score\": predictions.ravel(),\n",
    "        \"label\": labels.ravel()\n",
    "    }\n",
    ")"
   ],
   "metadata": {
    "collapsed": false,
    "pycharm": {
     "name": "#%%\n"
    }
   }
  },
  {
   "cell_type": "code",
   "execution_count": 18,
   "outputs": [
    {
     "data": {
      "text/plain": "<seaborn.axisgrid.FacetGrid at 0x7f9a161e58e0>"
     },
     "execution_count": 18,
     "metadata": {},
     "output_type": "execute_result"
    },
    {
     "data": {
      "text/plain": "<Figure size 402.375x360 with 1 Axes>",
      "image/png": "[encoded data removed]"
     },
     "metadata": {
      "needs_background": "light"
     },
     "output_type": "display_data"
    },
    {
     "name": "stdout",
     "output_type": "stream",
     "text": [
      "time: 370 ms (started: 2022-01-31 15:39:07 +01:00)\n"
     ]
    }
   ],
   "source": [
    "sns.displot(\n",
    "    data=df,\n",
    "    x=\"score\",\n",
    "    hue=\"label\"\n",
    ")"
   ],
   "metadata": {
    "collapsed": false,
    "pycharm": {
     "name": "#%%\n"
    }
   }
  },
  {
   "cell_type": "code",
   "execution_count": 19,
   "outputs": [
    {
     "name": "stdout",
     "output_type": "stream",
     "text": [
      "Cleaning unused score columns.\n",
      "time: 2min 22s (started: 2022-01-31 16:34:29 +01:00)\n"
     ]
    }
   ],
   "source": [
    "sqmass_file_path = \"/home/aaron/projects/ghost/data/spike_in/chromatograms/AAS_P2009_168.sqMass\"\n",
    "osw_file_path = \"/home/aaron/projects/ghost/data/spike_in/openswath/AAS_P2009_168.osw\"\n",
    "with sqmass.SqMassFile(sqmass_file_path) as sqmass_file:\n",
    "    chromatograms = sqmass_file.parse()\n",
    "with OSWFile(osw_file_path) as osw_file:\n",
    "    precursors = osw_file.parse_to_precursors(\n",
    "        query=queries.SelectPeakGroups.FETCH_CHROMATOGRAM_TRAINING_RECORDS\n",
    "    )\n",
    "precursors.set_chromatograms(chromatograms)\n",
    "labels = []\n",
    "scores = []\n",
    "chroms = []\n",
    "\n",
    "for precursor in precursors:\n",
    "\n",
    "    precursor.peakgroups.sort(key=lambda x: x.scores[\"PROBABILITY\"], reverse=True)\n",
    "\n",
    "    peakgroup = precursor.peakgroups[0]\n",
    "\n",
    "    if peakgroup.chromatograms:\n",
    "        score_array = peakgroup.get_sub_score_column_array(True)\n",
    "\n",
    "        scores.append(np.array(score_array))\n",
    "\n",
    "        labels.append(peakgroup.target)\n",
    "\n",
    "        chroms.append(\n",
    "            peakgroup.get_chromatogram_intensity_arrays(\n",
    "                interpolated=True, use_relative_intensities=True\n",
    "            )\n",
    "        )\n",
    "\n",
    "labels = np.array(labels).reshape(-1, 1)\n",
    "scores = np.array(scores)\n",
    "chroms = np.array(chroms).reshape((-1, 1, 6, 25))"
   ],
   "metadata": {
    "collapsed": false,
    "pycharm": {
     "name": "#%%\n"
    }
   }
  },
  {
   "cell_type": "code",
   "execution_count": 20,
   "outputs": [
    {
     "name": "stdout",
     "output_type": "stream",
     "text": [
      "time: 10.5 ms (started: 2022-01-31 16:37:42 +01:00)\n"
     ]
    }
   ],
   "source": [
    "scores = scaler.transform(scores)"
   ],
   "metadata": {
    "collapsed": false,
    "pycharm": {
     "name": "#%%\n"
    }
   }
  },
  {
   "cell_type": "code",
   "execution_count": 21,
   "outputs": [
    {
     "name": "stderr",
     "output_type": "stream",
     "text": [
      "GPU available: True, used: True\n",
      "TPU available: False, using: 0 TPU cores\n",
      "IPU available: False, using: 0 IPUs\n",
      "LOCAL_RANK: 0 - CUDA_VISIBLE_DEVICES: [0]\n"
     ]
    },
    {
     "data": {
      "text/plain": "Predicting: 0it [00:00, ?it/s]",
      "application/vnd.jupyter.widget-view+json": {
       "version_major": 2,
       "version_minor": 0,
       "model_id": "5472c891e97148ae876caa838ce95638"
      }
     },
     "metadata": {},
     "output_type": "display_data"
    },
    {
     "name": "stdout",
     "output_type": "stream",
     "text": [
      "time: 1.31 s (started: 2022-01-31 16:37:43 +01:00)\n"
     ]
    }
   ],
   "source": [
    "predictions = model.score(\n",
    "    chromatograms=chroms,\n",
    "    scores=scores\n",
    ")"
   ],
   "metadata": {
    "collapsed": false,
    "pycharm": {
     "name": "#%%\n"
    }
   }
  },
  {
   "cell_type": "code",
   "execution_count": 22,
   "outputs": [
    {
     "data": {
      "text/plain": "<seaborn.axisgrid.FacetGrid at 0x7f9ad4cb6b50>"
     },
     "execution_count": 22,
     "metadata": {},
     "output_type": "execute_result"
    },
    {
     "data": {
      "text/plain": "<Figure size 402.375x360 with 1 Axes>",
      "image/png": "[encoded data removed]"
     },
     "metadata": {
      "needs_background": "light"
     },
     "output_type": "display_data"
    },
    {
     "name": "stdout",
     "output_type": "stream",
     "text": [
      "time: 328 ms (started: 2022-01-31 16:38:01 +01:00)\n"
     ]
    }
   ],
   "source": [
    "df = pd.DataFrame(\n",
    "    {\n",
    "        \"score\": predictions.ravel(),\n",
    "        \"label\": labels.ravel()\n",
    "    }\n",
    ")\n",
    "sns.displot(\n",
    "    data=df,\n",
    "    x=\"score\",\n",
    "    hue=\"label\"\n",
    ")"
   ],
   "metadata": {
    "collapsed": false,
    "pycharm": {
     "name": "#%%\n"
    }
   }
  },
  {
   "cell_type": "code",
   "execution_count": null,
   "outputs": [],
   "source": [],
   "metadata": {
    "collapsed": false,
    "pycharm": {
     "name": "#%%\n"
    }
   }
  }
 ],
 "metadata": {
  "kernelspec": {
   "display_name": "Python 3",
   "language": "python",
   "name": "python3"
  },
  "language_info": {
   "codemirror_mode": {
    "name": "ipython",
    "version": 2
   },
   "file_extension": ".py",
   "mimetype": "text/x-python",
   "name": "python",
   "nbconvert_exporter": "python",
   "pygments_lexer": "ipython2",
   "version": "2.7.6"
  }
 },
 "nbformat": 4,
 "nbformat_minor": 0
}