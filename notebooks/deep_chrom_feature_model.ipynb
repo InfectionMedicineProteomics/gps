{
 "cells": [
  {
   "cell_type": "code",
   "execution_count": 4,
   "metadata": {
    "collapsed": true
   },
   "outputs": [
    {
     "name": "stdout",
     "output_type": "stream",
     "text": [
      "time: 182 ms (started: 2022-01-29 14:02:24 +01:00)\n"
     ]
    }
   ],
   "source": [
    "%load_ext autotime\n",
    "import seaborn as sns\n",
    "import pandas as pd\n",
    "import numpy as np\n",
    "\n",
    "\n",
    "from gscore.parsers import sqmass\n",
    "from gscore.parsers.osw import OSWFile\n",
    "from gscore.parsers import queries\n"
   ]
  },
  {
   "cell_type": "code",
   "execution_count": 5,
   "outputs": [
    {
     "name": "stdout",
     "output_type": "stream",
     "text": [
      "Cleaning unused score columns.\n",
      "time: 1min 49s (started: 2022-01-29 14:02:26 +01:00)\n"
     ]
    }
   ],
   "source": [
    "sqmass_file_path = \"/home/aaron/projects/ghost/data/spike_in/chromatograms/AAS_P2009_167.sqMass\"\n",
    "osw_file_path = \"/home/aaron/projects/ghost/data/spike_in/openswath/AAS_P2009_167.osw\"\n",
    "with sqmass.SqMassFile(sqmass_file_path) as sqmass_file:\n",
    "    chromatograms = sqmass_file.parse()\n",
    "with OSWFile(osw_file_path) as osw_file:\n",
    "    precursors = osw_file.parse_to_precursors(\n",
    "        query=queries.SelectPeakGroups.FETCH_CHROMATOGRAM_TRAINING_RECORDS\n",
    "    )\n",
    "precursors.set_chromatograms(chromatograms)"
   ],
   "metadata": {
    "collapsed": false,
    "pycharm": {
     "name": "#%%\n"
    }
   }
  },
  {
   "cell_type": "code",
   "execution_count": 6,
   "outputs": [
    {
     "name": "stdout",
     "output_type": "stream",
     "text": [
      "time: 25.1 s (started: 2022-01-29 14:04:15 +01:00)\n"
     ]
    }
   ],
   "source": [
    "labels = []\n",
    "scores = []\n",
    "chroms = []\n",
    "\n",
    "for precursor in precursors:\n",
    "\n",
    "    precursor.peakgroups.sort(key=lambda x: x.scores[\"PROBABILITY\"], reverse=True)\n",
    "\n",
    "    peakgroup = precursor.peakgroups[0]\n",
    "\n",
    "    if peakgroup.chromatograms:\n",
    "\n",
    "        pg_scores = []\n",
    "\n",
    "        for score in peakgroup.scores:\n",
    "\n",
    "            if score.startswith(\"VAR\") or score == \"PROBABILITY\":\n",
    "\n",
    "                pg_scores.append(peakgroup.scores[score])\n",
    "\n",
    "        scores.append(np.array(pg_scores))\n",
    "\n",
    "        labels.append(peakgroup.target)\n",
    "\n",
    "        chroms.append(\n",
    "            peakgroup.get_chromatogram_intensity_arrays(\n",
    "                scaled=False, interpolated=True, use_relative_intensities=True\n",
    "            )\n",
    "        )\n",
    "\n",
    "\n",
    "labels = np.array(labels).reshape(-1, 1)\n",
    "scores = np.array(scores)\n",
    "chroms = np.array(chroms).reshape((-1, 1, 6, 25))"
   ],
   "metadata": {
    "collapsed": false,
    "pycharm": {
     "name": "#%%\n"
    }
   }
  },
  {
   "cell_type": "code",
   "execution_count": 9,
   "outputs": [
    {
     "name": "stdout",
     "output_type": "stream",
     "text": [
      "time: 251 µs (started: 2022-01-29 14:05:23 +01:00)\n"
     ]
    }
   ],
   "source": [
    "from gscore.models.deep_chrom_feature_classifier import DeepChromFeatureScorer"
   ],
   "metadata": {
    "collapsed": false,
    "pycharm": {
     "name": "#%%\n"
    }
   }
  },
  {
   "cell_type": "code",
   "execution_count": 10,
   "outputs": [
    {
     "name": "stdout",
     "output_type": "stream",
     "text": [
      "time: 207 µs (started: 2022-01-29 14:05:25 +01:00)\n"
     ]
    }
   ],
   "source": [
    "from gscore.scaler import Scaler"
   ],
   "metadata": {
    "collapsed": false,
    "pycharm": {
     "name": "#%%\n"
    }
   }
  },
  {
   "cell_type": "code",
   "execution_count": 11,
   "outputs": [
    {
     "name": "stdout",
     "output_type": "stream",
     "text": [
      "time: 66.8 ms (started: 2022-01-29 14:05:26 +01:00)\n"
     ]
    }
   ],
   "source": [
    "scaler = Scaler()\n",
    "\n",
    "scores = scaler.fit_transform(scores)"
   ],
   "metadata": {
    "collapsed": false,
    "pycharm": {
     "name": "#%%\n"
    }
   }
  },
  {
   "cell_type": "code",
   "execution_count": 12,
   "outputs": [
    {
     "name": "stderr",
     "output_type": "stream",
     "text": [
      "GPU available: True, used: True\n",
      "TPU available: False, using: 0 TPU cores\n",
      "IPU available: False, using: 0 IPUs\n"
     ]
    },
    {
     "name": "stdout",
     "output_type": "stream",
     "text": [
      "time: 49.9 ms (started: 2022-01-29 14:05:35 +01:00)\n"
     ]
    }
   ],
   "source": [
    "model = DeepChromFeatureScorer(\n",
    "    num_features=32,\n",
    "    threads=10,\n",
    "    max_epochs=5\n",
    ")"
   ],
   "metadata": {
    "collapsed": false,
    "pycharm": {
     "name": "#%%\n"
    }
   }
  },
  {
   "cell_type": "code",
   "execution_count": 13,
   "outputs": [
    {
     "name": "stderr",
     "output_type": "stream",
     "text": [
      "LOCAL_RANK: 0 - CUDA_VISIBLE_DEVICES: [0]\n",
      "\n",
      "  | Name          | Type       | Params\n",
      "---------------------------------------------\n",
      "0 | conv_layers   | Sequential | 10.9 K\n",
      "1 | linear_layers | Sequential | 2.1 M \n",
      "---------------------------------------------\n",
      "2.1 M     Trainable params\n",
      "0         Non-trainable params\n",
      "2.1 M     Total params\n",
      "8.313     Total estimated model params size (MB)\n"
     ]
    },
    {
     "data": {
      "text/plain": "Validation sanity check: 0it [00:00, ?it/s]",
      "application/vnd.jupyter.widget-view+json": {
       "version_major": 2,
       "version_minor": 0,
       "model_id": "18e36f6fd377403c913fbd85d867e975"
      }
     },
     "metadata": {},
     "output_type": "display_data"
    },
    {
     "data": {
      "text/plain": "Training: 0it [00:00, ?it/s]",
      "application/vnd.jupyter.widget-view+json": {
       "version_major": 2,
       "version_minor": 0,
       "model_id": "5a4c7799b3dd48e593f2b599806186b7"
      }
     },
     "metadata": {},
     "output_type": "display_data"
    },
    {
     "data": {
      "text/plain": "Validating: 0it [00:00, ?it/s]",
      "application/vnd.jupyter.widget-view+json": {
       "version_major": 2,
       "version_minor": 0,
       "model_id": "759394b492a84acea8aaa7625b1d04f0"
      }
     },
     "metadata": {},
     "output_type": "display_data"
    },
    {
     "data": {
      "text/plain": "Validating: 0it [00:00, ?it/s]",
      "application/vnd.jupyter.widget-view+json": {
       "version_major": 2,
       "version_minor": 0,
       "model_id": "56e620c209854e7f83e0c05f5eb8c157"
      }
     },
     "metadata": {},
     "output_type": "display_data"
    },
    {
     "data": {
      "text/plain": "Validating: 0it [00:00, ?it/s]",
      "application/vnd.jupyter.widget-view+json": {
       "version_major": 2,
       "version_minor": 0,
       "model_id": "33365ccecd0148ca883b266e47d6bb2e"
      }
     },
     "metadata": {},
     "output_type": "display_data"
    },
    {
     "data": {
      "text/plain": "Validating: 0it [00:00, ?it/s]",
      "application/vnd.jupyter.widget-view+json": {
       "version_major": 2,
       "version_minor": 0,
       "model_id": "15501e123cc34c0cbc7b6d9770bba4e5"
      }
     },
     "metadata": {},
     "output_type": "display_data"
    },
    {
     "data": {
      "text/plain": "Validating: 0it [00:00, ?it/s]",
      "application/vnd.jupyter.widget-view+json": {
       "version_major": 2,
       "version_minor": 0,
       "model_id": "3265bd7c4d0a45448bc6e417824fe192"
      }
     },
     "metadata": {},
     "output_type": "display_data"
    },
    {
     "name": "stdout",
     "output_type": "stream",
     "text": [
      "time: 29.2 s (started: 2022-01-29 14:05:37 +01:00)\n"
     ]
    }
   ],
   "source": [
    "model.fit(\n",
    "    chroms,\n",
    "    scores,\n",
    "    labels\n",
    ")"
   ],
   "metadata": {
    "collapsed": false,
    "pycharm": {
     "name": "#%%\n"
    }
   }
  },
  {
   "cell_type": "code",
   "execution_count": 14,
   "outputs": [
    {
     "name": "stdout",
     "output_type": "stream",
     "text": [
      "time: 1.67 ms (started: 2022-01-29 14:06:12 +01:00)\n"
     ]
    }
   ],
   "source": [
    "scaler.save(\"/home/aaron/projects/ghost/data/spike_in/deepchrom/dc_v_t_1_29.scaler\")"
   ],
   "metadata": {
    "collapsed": false,
    "pycharm": {
     "name": "#%%\n"
    }
   }
  },
  {
   "cell_type": "code",
   "execution_count": 15,
   "outputs": [
    {
     "name": "stdout",
     "output_type": "stream",
     "text": [
      "time: 36.7 ms (started: 2022-01-29 14:06:12 +01:00)\n"
     ]
    }
   ],
   "source": [
    "model.save(\"/home/aaron/projects/ghost/data/spike_in/deepchrom/dc_v_t_1_29.model\")"
   ],
   "metadata": {
    "collapsed": false,
    "pycharm": {
     "name": "#%%\n"
    }
   }
  },
  {
   "cell_type": "code",
   "execution_count": 16,
   "outputs": [
    {
     "name": "stderr",
     "output_type": "stream",
     "text": [
      "GPU available: True, used: True\n",
      "TPU available: False, using: 0 TPU cores\n",
      "IPU available: False, using: 0 IPUs\n",
      "LOCAL_RANK: 0 - CUDA_VISIBLE_DEVICES: [0]\n"
     ]
    },
    {
     "data": {
      "text/plain": "Predicting: 0it [00:00, ?it/s]",
      "application/vnd.jupyter.widget-view+json": {
       "version_major": 2,
       "version_minor": 0,
       "model_id": "9cc389a812c94a56b7353631cf77f54e"
      }
     },
     "metadata": {},
     "output_type": "display_data"
    },
    {
     "name": "stderr",
     "output_type": "stream",
     "text": [
      "/home/aaron/miniconda3/envs/ghostdev/lib/python3.8/site-packages/pytorch_lightning/loops/epoch/prediction_epoch_loop.py:172: UserWarning: Lightning couldn't infer the indices fetched for your dataloader.\n",
      "  warning_cache.warn(\"Lightning couldn't infer the indices fetched for your dataloader.\")\n"
     ]
    },
    {
     "data": {
      "text/plain": "0.8329125281417511"
     },
     "execution_count": 16,
     "metadata": {},
     "output_type": "execute_result"
    },
    {
     "name": "stdout",
     "output_type": "stream",
     "text": [
      "time: 1.05 s (started: 2022-01-29 14:06:39 +01:00)\n"
     ]
    }
   ],
   "source": [
    "model.evaluate(\n",
    "    chroms,\n",
    "    scores,\n",
    "    labels\n",
    ")"
   ],
   "metadata": {
    "collapsed": false,
    "pycharm": {
     "name": "#%%\n"
    }
   }
  },
  {
   "cell_type": "code",
   "execution_count": null,
   "outputs": [],
   "source": [],
   "metadata": {
    "collapsed": false,
    "pycharm": {
     "name": "#%%\n"
    }
   }
  }
 ],
 "metadata": {
  "kernelspec": {
   "display_name": "Python 3",
   "language": "python",
   "name": "python3"
  },
  "language_info": {
   "codemirror_mode": {
    "name": "ipython",
    "version": 2
   },
   "file_extension": ".py",
   "mimetype": "text/x-python",
   "name": "python",
   "nbconvert_exporter": "python",
   "pygments_lexer": "ipython2",
   "version": "2.7.6"
  }
 },
 "nbformat": 4,
 "nbformat_minor": 0
}