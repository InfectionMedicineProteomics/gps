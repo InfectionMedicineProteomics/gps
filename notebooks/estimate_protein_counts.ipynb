{
 "cells": [
  {
   "cell_type": "code",
   "execution_count": 1,
   "metadata": {},
   "outputs": [],
   "source": [
    "import pandas as pd\n",
    "import numpy as np\n",
    "\n",
    "from gscore.osw.peakgroups import fetch_peak_groups\n",
    "from gscore.osw.queries import (\n",
    "    FETCH_EXPORT_DATA\n",
    ")\n",
    "from gscore.models.denoiser import DenoizingClassifier\n",
    "from gscore.osw.connection import create_table\n",
    "\n",
    "from gscore.models.preprocess import STANDARD_SCALAR_PIPELINE\n",
    "from gscore.models.distributions import build_false_target_protein_distributions, ScoreDistribution"
   ]
  },
  {
   "cell_type": "code",
   "execution_count": 3,
   "metadata": {},
   "outputs": [],
   "source": [
    "osw_path = '/home/aaron/projects/gscorer/data/openswath/temp/Simon_S1608_052.osw'"
   ]
  },
  {
   "cell_type": "code",
   "execution_count": 4,
   "metadata": {},
   "outputs": [],
   "source": [
    "\n",
    "peak_groups = fetch_peak_groups(\n",
    "    host=osw_path, \n",
    "    query=FETCH_EXPORT_DATA\n",
    ")\n",
    "\n",
    "# peak_groups.rerank_groups(\n",
    "#     rerank_keys=['var_xcorr_shape'], \n",
    "#     ascending=False\n",
    "# )\n",
    "\n",
    "# highest_ranking = peak_groups.select_peak_group(\n",
    "#     rank=1,\n",
    "#     rerank_keys=['var_xcorr_shape'], \n",
    "#     ascending=False\n",
    "# )\n",
    "    "
   ]
  },
  {
   "cell_type": "code",
   "execution_count": 5,
   "metadata": {},
   "outputs": [],
   "source": [
    "all_peak_groups = peak_groups.select_peak_group(\n",
    "    return_all=True\n",
    ")"
   ]
  },
  {
   "cell_type": "code",
   "execution_count": 5,
   "metadata": {},
   "outputs": [],
   "source": [
    "# highest_ranking_swath_data = all_peak_groups.loc[\n",
    "#     all_peak_groups.groupby(['transition_group_id'])['var_xcorr_shape_weighted'].idxmax()\n",
    "# ]"
   ]
  },
  {
   "cell_type": "code",
   "execution_count": 7,
   "metadata": {},
   "outputs": [],
   "source": [
    "cutoff = 0.01"
   ]
  },
  {
   "cell_type": "code",
   "execution_count": 8,
   "metadata": {},
   "outputs": [],
   "source": [
    "pass_threshold = all_peak_groups.loc[\n",
    "    all_peak_groups.groupby(['transition_group_id'])['m_score'].idxmin()\n",
    "]\n",
    "\n",
    "# Need to fix this if both have 0.0 q value to take the highest scoring"
   ]
  },
  {
   "cell_type": "code",
   "execution_count": 13,
   "metadata": {},
   "outputs": [],
   "source": [
    "pass_threshold = pass_threshold[(pass_threshold['m_score'] <= cutoff)].copy()"
   ]
  },
  {
   "cell_type": "code",
   "execution_count": 14,
   "metadata": {},
   "outputs": [
    {
     "name": "stdout",
     "output_type": "stream",
     "text": [
      "0 11634\n"
     ]
    }
   ],
   "source": [
    "print(len(pass_threshold[pass_threshold['target'] == 0.0]), len(pass_threshold[pass_threshold['target'] == 1.0]))"
   ]
  },
  {
   "cell_type": "code",
   "execution_count": 15,
   "metadata": {},
   "outputs": [
    {
     "data": {
      "text/plain": [
       "Index(['transition_group_id', 'feature_id', 'exp_rt', 'norm_rt', 'delta_rt',\n",
       "       'mz', 'charge', 'decoy', 'peptide_sequence',\n",
       "       'modified_peptide_sequence', 'protein_accession', 'protein_decoy',\n",
       "       'area_intensity', 'apex_intensity', 'ms2_area_intensity',\n",
       "       'total_area_intensity', 'vote_percentage', 'd_score', 'm_score',\n",
       "       'alt_d_score', 'ghost_score_id', 'target'],\n",
       "      dtype='object')"
      ]
     },
     "execution_count": 15,
     "metadata": {},
     "output_type": "execute_result"
    }
   ],
   "source": [
    "pass_threshold.columns"
   ]
  },
  {
   "cell_type": "code",
   "execution_count": 16,
   "metadata": {},
   "outputs": [],
   "source": [
    "pass_threshold['peptide_sequence_charge'] = pass_threshold.apply(\n",
    "    lambda row: '{}_{}'.format(row['peptide_sequence'], row['charge']),\n",
    "    axis=1\n",
    ")"
   ]
  },
  {
   "cell_type": "code",
   "execution_count": 17,
   "metadata": {},
   "outputs": [],
   "source": [
    "proteotypic_counts = pd.DataFrame(\n",
    "    pass_threshold['peptide_sequence_charge'].value_counts(),\n",
    ").reset_index()"
   ]
  },
  {
   "cell_type": "code",
   "execution_count": 18,
   "metadata": {},
   "outputs": [],
   "source": [
    "proteotypic_counts.columns = ['peptide_charge', 'count']"
   ]
  },
  {
   "cell_type": "code",
   "execution_count": 19,
   "metadata": {},
   "outputs": [],
   "source": [
    "proteotypic_peptides = list(\n",
    "    proteotypic_counts[\n",
    "        proteotypic_counts['count'] == 1\n",
    "    ]['peptide_charge']\n",
    ")"
   ]
  },
  {
   "cell_type": "code",
   "execution_count": 20,
   "metadata": {},
   "outputs": [
    {
     "data": {
      "text/plain": [
       "10845"
      ]
     },
     "execution_count": 20,
     "metadata": {},
     "output_type": "execute_result"
    }
   ],
   "source": [
    "len(proteotypic_peptides)"
   ]
  },
  {
   "cell_type": "code",
   "execution_count": 21,
   "metadata": {},
   "outputs": [
    {
     "data": {
      "text/plain": [
       "5097"
      ]
     },
     "execution_count": 21,
     "metadata": {},
     "output_type": "execute_result"
    }
   ],
   "source": [
    "len(pass_threshold[pass_threshold['target'] == 1.0].groupby(['protein_accession']))"
   ]
  },
  {
   "cell_type": "code",
   "execution_count": 22,
   "metadata": {},
   "outputs": [],
   "source": [
    "protein_groups = pass_threshold[pass_threshold['target'] == 1.0].groupby(['protein_accession'])"
   ]
  },
  {
   "cell_type": "code",
   "execution_count": 23,
   "metadata": {},
   "outputs": [],
   "source": [
    "pg_df = [group for _, group in protein_groups]"
   ]
  },
  {
   "cell_type": "code",
   "execution_count": 24,
   "metadata": {},
   "outputs": [],
   "source": [
    "protein_groups = list()\n",
    "for group in pg_df:\n",
    "    if len(group) >= 2:\n",
    "        protein_groups.append(group)"
   ]
  },
  {
   "cell_type": "code",
   "execution_count": 25,
   "metadata": {},
   "outputs": [
    {
     "data": {
      "text/plain": [
       "2370"
      ]
     },
     "execution_count": 25,
     "metadata": {},
     "output_type": "execute_result"
    }
   ],
   "source": [
    "len(protein_groups)"
   ]
  },
  {
   "cell_type": "code",
   "execution_count": null,
   "metadata": {},
   "outputs": [],
   "source": []
  }
 ],
 "metadata": {
  "kernelspec": {
   "display_name": "Python 3",
   "language": "python",
   "name": "python3"
  },
  "language_info": {
   "codemirror_mode": {
    "name": "ipython",
    "version": 3
   },
   "file_extension": ".py",
   "mimetype": "text/x-python",
   "name": "python",
   "nbconvert_exporter": "python",
   "pygments_lexer": "ipython3",
   "version": "3.8.5"
  }
 },
 "nbformat": 4,
 "nbformat_minor": 4
}
