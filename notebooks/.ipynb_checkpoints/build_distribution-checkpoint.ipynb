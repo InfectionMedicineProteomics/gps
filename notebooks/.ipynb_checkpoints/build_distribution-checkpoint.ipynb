{
 "cells": [
  {
   "cell_type": "code",
   "execution_count": 1,
   "metadata": {},
   "outputs": [],
   "source": [
    "import pandas as pd\n",
    "import numpy as np\n",
    "\n",
    "from gscore.osw.peakgroups import fetch_peak_groups\n",
    "from gscore.osw.queries import (\n",
    "    FETCH_SCORED_DATA\n",
    ")\n",
    "from gscore.models.denoiser import DenoizingClassifier\n",
    "from gscore.osw.connection import create_table\n",
    "\n",
    "from gscore.models.preprocess import STANDARD_SCALAR_PIPELINE\n",
    "from gscore.models.distributions import build_false_target_protein_distributions, ScoreDistribution"
   ]
  },
  {
   "cell_type": "code",
   "execution_count": 2,
   "metadata": {},
   "outputs": [],
   "source": [
    "osw_path = '/home/aaron/projects/gscorer/data/Simon_S1607_178.osw'"
   ]
  },
  {
   "cell_type": "code",
   "execution_count": 3,
   "metadata": {},
   "outputs": [],
   "source": [
    "\n",
    "peak_groups = fetch_peak_groups(\n",
    "    host=osw_path, \n",
    "    query=FETCH_SCORED_DATA\n",
    ")\n",
    "\n",
    "peak_groups.rerank_groups(\n",
    "    rerank_keys=['alt_d_score'], \n",
    "    ascending=False\n",
    ")\n",
    "\n",
    "highest_ranking = peak_groups.select_peak_group(\n",
    "    rank=1,\n",
    "    rerank_keys=['alt_d_score'], \n",
    "    ascending=False\n",
    ")\n",
    "    "
   ]
  },
  {
   "cell_type": "code",
   "execution_count": 4,
   "metadata": {},
   "outputs": [],
   "source": [
    "proteotypic_peptides = peak_groups.select_proteotypic_peptides(\n",
    "    rerank_keys=['alt_d_score']\n",
    ")"
   ]
  },
  {
   "cell_type": "code",
   "execution_count": 5,
   "metadata": {},
   "outputs": [],
   "source": [
    "protein_groups = peak_groups.select_protein_groups(\n",
    "    rerank_keys=['alt_d_score']\n",
    ")"
   ]
  },
  {
   "cell_type": "code",
   "execution_count": 6,
   "metadata": {},
   "outputs": [
    {
     "data": {
      "text/plain": [
       "81703"
      ]
     },
     "execution_count": 6,
     "metadata": {},
     "output_type": "execute_result"
    }
   ],
   "source": [
    "len(proteotypic_peptides)"
   ]
  },
  {
   "cell_type": "code",
   "execution_count": 7,
   "metadata": {},
   "outputs": [],
   "source": [
    "first_group = highest_ranking"
   ]
  },
  {
   "cell_type": "code",
   "execution_count": 8,
   "metadata": {},
   "outputs": [
    {
     "data": {
      "text/plain": [
       "1.000    51111\n",
       "0.000    38943\n",
       "0.996     1486\n",
       "0.992      844\n",
       "0.988      572\n",
       "         ...  \n",
       "0.200       13\n",
       "0.176       13\n",
       "0.172       12\n",
       "0.300       10\n",
       "0.184        9\n",
       "Name: vote_percentage, Length: 251, dtype: int64"
      ]
     },
     "execution_count": 8,
     "metadata": {},
     "output_type": "execute_result"
    }
   ],
   "source": [
    "first_group.vote_percentage.value_counts()"
   ]
  },
  {
   "cell_type": "code",
   "execution_count": 9,
   "metadata": {},
   "outputs": [],
   "source": [
    "first_group['peptide_sequence_charge'] = first_group.apply(\n",
    "    lambda row: '{}_{}'.format(row['peptide_sequence'], row['charge']),\n",
    "    axis=1\n",
    ")"
   ]
  },
  {
   "cell_type": "code",
   "execution_count": 10,
   "metadata": {},
   "outputs": [],
   "source": [
    "cutoff = .85"
   ]
  },
  {
   "cell_type": "code",
   "execution_count": 11,
   "metadata": {},
   "outputs": [],
   "source": [
    "targets = first_group[\n",
    "    first_group['vote_percentage'] == 1.0\n",
    "].copy()"
   ]
  },
  {
   "cell_type": "code",
   "execution_count": 12,
   "metadata": {},
   "outputs": [],
   "source": [
    "targets = targets.loc[\n",
    "    targets.peptide_sequence_charge.isin(proteotypic_peptides)\n",
    "].copy()"
   ]
  },
  {
   "cell_type": "code",
   "execution_count": 13,
   "metadata": {},
   "outputs": [],
   "source": [
    "decoys = first_group[\n",
    "    first_group['vote_percentage'] == 0\n",
    "].copy()"
   ]
  },
  {
   "cell_type": "code",
   "execution_count": 14,
   "metadata": {},
   "outputs": [],
   "source": [
    "decoys = decoys.loc[\n",
    "    decoys.peptide_sequence_charge.isin(proteotypic_peptides)\n",
    "].copy()"
   ]
  },
  {
   "cell_type": "code",
   "execution_count": 15,
   "metadata": {},
   "outputs": [],
   "source": [
    "model_distribution = build_false_target_protein_distributions(\n",
    "    targets,\n",
    "    decoys\n",
    ")"
   ]
  },
  {
   "cell_type": "code",
   "execution_count": 45,
   "metadata": {},
   "outputs": [],
   "source": [
    "%reload_ext autoreload\n",
    "%autoreload 2\n",
    "\n",
    "from gscore.models.distributions import ScoreDistribution"
   ]
  },
  {
   "cell_type": "code",
   "execution_count": 39,
   "metadata": {},
   "outputs": [
    {
     "data": {
      "text/plain": [
       "0.2272205909734022"
      ]
     },
     "execution_count": 39,
     "metadata": {},
     "output_type": "execute_result"
    }
   ],
   "source": [
    "model_distribution['alt_d_score'].min()"
   ]
  },
  {
   "cell_type": "code",
   "execution_count": 46,
   "metadata": {},
   "outputs": [
    {
     "name": "stdout",
     "output_type": "stream",
     "text": [
      "[0.22722059 0.23846814 0.24503108 ... 2.79359253 2.82714022 2.87254643]\n"
     ]
    }
   ],
   "source": [
    "score_distribution = ScoreDistribution(\n",
    "    data=model_distribution\n",
    ")"
   ]
  },
  {
   "cell_type": "code",
   "execution_count": 47,
   "metadata": {},
   "outputs": [
    {
     "data": {
      "image/png": "[encoded data removed]",
      "text/plain": [
       "<Figure size 432x288 with 1 Axes>"
      ]
     },
     "metadata": {
      "needs_background": "light"
     },
     "output_type": "display_data"
    }
   ],
   "source": [
    "import matplotlib.pyplot as plt\n",
    "\n",
    "plt.plot(score_distribution.target_kde.x_axis, score_distribution.target_kde.values, lw=2, color='cornflowerblue', linestyle='-')\n",
    "plt.plot(score_distribution.null_kde.x_axis, score_distribution.null_kde.values, lw=2, color='red', linestyle='-')\n",
    "plt.show()\n"
   ]
  },
  {
   "cell_type": "code",
   "execution_count": 48,
   "metadata": {},
   "outputs": [],
   "source": [
    "all_peak_groups = peak_groups.select_peak_group(\n",
    "    return_all=True\n",
    ")"
   ]
  },
  {
   "cell_type": "code",
   "execution_count": 49,
   "metadata": {},
   "outputs": [],
   "source": [
    "all_peak_groups['q_value'] = all_peak_groups['alt_d_score'].apply(\n",
    "    score_distribution.calc_q_value\n",
    ")"
   ]
  },
  {
   "cell_type": "code",
   "execution_count": 50,
   "metadata": {},
   "outputs": [
    {
     "data": {
      "text/plain": [
       "1.000000    43784\n",
       "0.000000    28014\n",
       "0.212626        1\n",
       "0.499430        1\n",
       "0.389686        1\n",
       "            ...  \n",
       "0.493101        1\n",
       "0.184505        1\n",
       "0.438203        1\n",
       "0.400412        1\n",
       "0.486843        1\n",
       "Name: q_value, Length: 448693, dtype: int64"
      ]
     },
     "execution_count": 50,
     "metadata": {},
     "output_type": "execute_result"
    }
   ],
   "source": [
    "all_peak_groups.q_value.value_counts()"
   ]
  },
  {
   "cell_type": "code",
   "execution_count": 51,
   "metadata": {},
   "outputs": [],
   "source": [
    "cutoff = 0.01"
   ]
  },
  {
   "cell_type": "code",
   "execution_count": 52,
   "metadata": {},
   "outputs": [],
   "source": [
    "all_peak_groups = all_peak_groups.loc[\n",
    "    all_peak_groups.groupby(['transition_group_id'])['q_value'].idxmin()\n",
    "]\n",
    "\n",
    "# Need to fix this if both have 0.0 q value to take the highest scoring"
   ]
  },
  {
   "cell_type": "code",
   "execution_count": 53,
   "metadata": {},
   "outputs": [],
   "source": [
    "pass_threshold = all_peak_groups[(all_peak_groups['q_value'] <= cutoff)].copy()"
   ]
  },
  {
   "cell_type": "code",
   "execution_count": 54,
   "metadata": {},
   "outputs": [
    {
     "name": "stdout",
     "output_type": "stream",
     "text": [
      "0 37753\n"
     ]
    }
   ],
   "source": [
    "print(len(pass_threshold[pass_threshold['target'] == 0.0]), len(pass_threshold[pass_threshold['target'] == 1.0]))"
   ]
  },
  {
   "cell_type": "code",
   "execution_count": 55,
   "metadata": {},
   "outputs": [
    {
     "data": {
      "text/plain": [
       "Index(['transition_group_id', 'feature_id', 'exp_rt', 'norm_rt', 'delta_rt',\n",
       "       'mz', 'charge', 'decoy', 'peptide_sequence',\n",
       "       'modified_peptide_sequence', 'protein_accession', 'protein_decoy',\n",
       "       'area_intensity', 'apex_intensity', 'ms2_area_intensity',\n",
       "       'total_area_intensity', 'var_xcorr_shape', 'vote_percentage', 'd_score',\n",
       "       'alt_d_score', 'target', 'q_value'],\n",
       "      dtype='object')"
      ]
     },
     "execution_count": 55,
     "metadata": {},
     "output_type": "execute_result"
    }
   ],
   "source": [
    "pass_threshold.columns"
   ]
  },
  {
   "cell_type": "code",
   "execution_count": 56,
   "metadata": {},
   "outputs": [],
   "source": [
    "pass_threshold['peptide_sequence_charge'] = pass_threshold.apply(\n",
    "    lambda row: '{}_{}'.format(row['peptide_sequence'], row['charge']),\n",
    "    axis=1\n",
    ")"
   ]
  },
  {
   "cell_type": "code",
   "execution_count": 57,
   "metadata": {},
   "outputs": [],
   "source": [
    "proteotypic_counts = pd.DataFrame(\n",
    "    pass_threshold['peptide_sequence_charge'].value_counts(),\n",
    ").reset_index()"
   ]
  },
  {
   "cell_type": "code",
   "execution_count": 58,
   "metadata": {},
   "outputs": [],
   "source": [
    "proteotypic_counts.columns = ['peptide_charge', 'count']"
   ]
  },
  {
   "cell_type": "code",
   "execution_count": 59,
   "metadata": {},
   "outputs": [],
   "source": [
    "proteotypic_peptides = list(\n",
    "    proteotypic_counts[\n",
    "        proteotypic_counts['count'] == 1\n",
    "    ]['peptide_charge']\n",
    ")"
   ]
  },
  {
   "cell_type": "code",
   "execution_count": 60,
   "metadata": {},
   "outputs": [
    {
     "data": {
      "text/plain": [
       "33350"
      ]
     },
     "execution_count": 60,
     "metadata": {},
     "output_type": "execute_result"
    }
   ],
   "source": [
    "len(proteotypic_peptides)"
   ]
  },
  {
   "cell_type": "code",
   "execution_count": 61,
   "metadata": {},
   "outputs": [
    {
     "data": {
      "text/plain": [
       "8626"
      ]
     },
     "execution_count": 61,
     "metadata": {},
     "output_type": "execute_result"
    }
   ],
   "source": [
    "len(pass_threshold[pass_threshold['target'] == 1.0].groupby(['protein_accession']))"
   ]
  },
  {
   "cell_type": "code",
   "execution_count": 62,
   "metadata": {},
   "outputs": [],
   "source": [
    "protein_groups = pass_threshold[pass_threshold['target'] == 1.0].groupby(['protein_accession'])"
   ]
  },
  {
   "cell_type": "code",
   "execution_count": 63,
   "metadata": {},
   "outputs": [],
   "source": [
    "pg_df = [group for _, group in protein_groups]"
   ]
  },
  {
   "cell_type": "code",
   "execution_count": 64,
   "metadata": {},
   "outputs": [],
   "source": [
    "protein_groups = list()\n",
    "for group in pg_df:\n",
    "    if len(group) >= 2:\n",
    "        protein_groups.append(group)"
   ]
  },
  {
   "cell_type": "code",
   "execution_count": 65,
   "metadata": {},
   "outputs": [
    {
     "data": {
      "text/plain": [
       "5671"
      ]
     },
     "execution_count": 65,
     "metadata": {},
     "output_type": "execute_result"
    }
   ],
   "source": [
    "len(protein_groups)"
   ]
  },
  {
   "cell_type": "code",
   "execution_count": null,
   "metadata": {},
   "outputs": [],
   "source": []
  }
 ],
 "metadata": {
  "kernelspec": {
   "display_name": "Python 3",
   "language": "python",
   "name": "python3"
  },
  "language_info": {
   "codemirror_mode": {
    "name": "ipython",
    "version": 3
   },
   "file_extension": ".py",
   "mimetype": "text/x-python",
   "name": "python",
   "nbconvert_exporter": "python",
   "pygments_lexer": "ipython3",
   "version": "3.8.5"
  }
 },
 "nbformat": 4,
 "nbformat_minor": 4
}
