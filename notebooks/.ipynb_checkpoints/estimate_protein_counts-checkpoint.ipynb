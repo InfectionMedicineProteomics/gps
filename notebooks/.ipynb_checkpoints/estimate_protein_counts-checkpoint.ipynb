{
 "cells": [
  {
   "cell_type": "code",
   "execution_count": 1,
   "metadata": {},
   "outputs": [],
   "source": [
    "import pandas as pd\n",
    "import numpy as np\n",
    "\n",
    "from gscore.osw.peakgroups import fetch_peak_groups\n",
    "from gscore.osw.queries import (\n",
    "    FETCH_UNSCORED_PEAK_GROUPS\n",
    ")\n",
    "from gscore.models.denoiser import DenoizingClassifier\n",
    "from gscore.osw.connection import create_table\n",
    "\n",
    "from gscore.models.preprocess import STANDARD_SCALAR_PIPELINE\n",
    "from gscore.models.distributions import build_false_target_protein_distributions, ScoreDistribution"
   ]
  },
  {
   "cell_type": "code",
   "execution_count": 2,
   "metadata": {},
   "outputs": [],
   "source": [
    "osw_path = '/home/aaron/projects/gscorer/data/openswath/Simon_S1608_050.osw'"
   ]
  },
  {
   "cell_type": "code",
   "execution_count": 3,
   "metadata": {},
   "outputs": [],
   "source": [
    "\n",
    "peak_groups = fetch_peak_groups(\n",
    "    host=osw_path, \n",
    "    query=FETCH_UNSCORED_PEAK_GROUPS\n",
    ")\n",
    "\n",
    "# peak_groups.rerank_groups(\n",
    "#     rerank_keys=['var_xcorr_shape'], \n",
    "#     ascending=False\n",
    "# )\n",
    "\n",
    "# highest_ranking = peak_groups.select_peak_group(\n",
    "#     rank=1,\n",
    "#     rerank_keys=['var_xcorr_shape'], \n",
    "#     ascending=False\n",
    "# )\n",
    "    "
   ]
  },
  {
   "cell_type": "code",
   "execution_count": 4,
   "metadata": {},
   "outputs": [],
   "source": [
    "all_peak_groups = peak_groups.select_peak_group(\n",
    "    return_all=True\n",
    ")"
   ]
  },
  {
   "cell_type": "code",
   "execution_count": 5,
   "metadata": {},
   "outputs": [],
   "source": [
    "highest_ranking_swath_data = all_peak_groups.loc[\n",
    "    all_peak_groups.groupby(['transition_group_id'])['var_xcorr_shape_weighted'].idxmax()\n",
    "]"
   ]
  },
  {
   "cell_type": "code",
   "execution_count": 6,
   "metadata": {},
   "outputs": [
    {
     "data": {
      "text/plain": [
       "1032396"
      ]
     },
     "execution_count": 6,
     "metadata": {},
     "output_type": "execute_result"
    }
   ],
   "source": [
    "len(all_peak_groups)"
   ]
  },
  {
   "cell_type": "code",
   "execution_count": 7,
   "metadata": {},
   "outputs": [
    {
     "data": {
      "text/plain": [
       "Index(['transition_group_id', 'feature_id', 'exp_rt', 'norm_rt', 'delta_rt',\n",
       "       'mz', 'charge', 'decoy', 'peptide_sequence',\n",
       "       'modified_peptide_sequence', 'protein_accession', 'protein_decoy',\n",
       "       'area_intensity', 'apex_intensity', 'ms2_area_intensity',\n",
       "       'total_area_intensity', 'var_massdev_score_ms1',\n",
       "       'var_isotope_correlation_score_ms1', 'var_isotope_overlap_score_ms1',\n",
       "       'var_xcorr_coelution_contrast_ms1', 'var_xcorr_coelution_combined_ms1',\n",
       "       'var_xcorr_shape_contrast_ms1', 'var_xcorr_shape_combined_ms1',\n",
       "       'var_bseries_score', 'var_dotprod_score', 'var_intensity_score',\n",
       "       'var_isotope_correlation_score', 'var_isotope_overlap_score',\n",
       "       'var_library_corr', 'var_library_dotprod', 'var_library_manhattan',\n",
       "       'var_library_rmsd', 'var_library_rootmeansquare', 'var_library_sangle',\n",
       "       'var_log_sn_score', 'var_manhattan_score', 'var_massdev_score',\n",
       "       'var_massdev_score_weighted', 'var_norm_rt_score',\n",
       "       'var_xcorr_coelution', 'var_xcorr_coelution_weighted',\n",
       "       'var_xcorr_shape', 'var_xcorr_shape_weighted', 'var_yseries_score',\n",
       "       'target'],\n",
       "      dtype='object')"
      ]
     },
     "execution_count": 7,
     "metadata": {},
     "output_type": "execute_result"
    }
   ],
   "source": [
    "highest_ranking_swath_data.columns"
   ]
  },
  {
   "cell_type": "code",
   "execution_count": 25,
   "metadata": {},
   "outputs": [
    {
     "name": "stderr",
     "output_type": "stream",
     "text": [
      "<ipython-input-25-d932c726d0af>:14: UserWarning: Matplotlib is currently using module://ipykernel.pylab.backend_inline, which is a non-GUI backend, so cannot show the figure.\n",
      "  test.show()\n"
     ]
    },
    {
     "data": {
      "image/png": "[encoded data removed]",
      "text/plain": [
       "<Figure size 1008x720 with 1 Axes>"
      ]
     },
     "metadata": {
      "needs_background": "light"
     },
     "output_type": "display_data"
    }
   ],
   "source": [
    "import matplotlib.pyplot as pyplot\n",
    "from matplotlib.pyplot import figure\n",
    "\n",
    "test = figure(figsize=(14, 10))\n",
    "\n",
    "bins = 250\n",
    "\n",
    "corr_n, corr_bins, _ = pyplot.hist(all_peak_groups[all_peak_groups['decoy'] == 0]['var_norm_rt_score'], bins='auto', histtype='step', alpha=0.5, label='Targets')\n",
    "corr_n, corr_bins, _ = pyplot.hist(all_peak_groups[all_peak_groups['decoy'] == 1]['var_norm_rt_score'], bins='auto', histtype='step', alpha=0.5, label='Decoy')\n",
    "#incorr_n, incorr_bins, _ = pyplot.hist(decoys['alt_d_score'], bins='auto', histtype='step', alpha=0.5, label='Decoys')\n",
    "#pyplot.show()\n",
    "test.legend(loc='upper right')\n",
    "\n",
    "test.show()"
   ]
  },
  {
   "cell_type": "code",
   "execution_count": 5,
   "metadata": {},
   "outputs": [],
   "source": [
    "proteotypic_peptides = peak_groups.select_proteotypic_peptides(\n",
    "    rerank_keys=['alt_d_score']\n",
    ")"
   ]
  },
  {
   "cell_type": "code",
   "execution_count": 6,
   "metadata": {},
   "outputs": [],
   "source": [
    "protein_groups = peak_groups.select_protein_groups(\n",
    "    rerank_keys=['alt_d_score']\n",
    ")"
   ]
  },
  {
   "cell_type": "code",
   "execution_count": 7,
   "metadata": {},
   "outputs": [
    {
     "data": {
      "text/plain": [
       "81689"
      ]
     },
     "execution_count": 7,
     "metadata": {},
     "output_type": "execute_result"
    }
   ],
   "source": [
    "len(proteotypic_peptides)"
   ]
  },
  {
   "cell_type": "code",
   "execution_count": 7,
   "metadata": {},
   "outputs": [],
   "source": [
    "first_group = highest_ranking"
   ]
  },
  {
   "cell_type": "code",
   "execution_count": 9,
   "metadata": {},
   "outputs": [
    {
     "data": {
      "text/plain": [
       "1.000    63039\n",
       "0.000    24129\n",
       "0.998     1043\n",
       "0.002      682\n",
       "0.996      530\n",
       "         ...  \n",
       "0.432        8\n",
       "0.342        8\n",
       "0.672        8\n",
       "0.600        8\n",
       "0.640        6\n",
       "Name: vote_percentage, Length: 501, dtype: int64"
      ]
     },
     "execution_count": 9,
     "metadata": {},
     "output_type": "execute_result"
    }
   ],
   "source": [
    "first_group.vote_percentage.value_counts()"
   ]
  },
  {
   "cell_type": "code",
   "execution_count": 10,
   "metadata": {},
   "outputs": [],
   "source": [
    "first_group['peptide_sequence_charge'] = first_group.apply(\n",
    "    lambda row: '{}_{}'.format(row['peptide_sequence'], row['charge']),\n",
    "    axis=1\n",
    ")"
   ]
  },
  {
   "cell_type": "code",
   "execution_count": 10,
   "metadata": {},
   "outputs": [],
   "source": [
    "cutoff = .85"
   ]
  },
  {
   "cell_type": "code",
   "execution_count": 11,
   "metadata": {},
   "outputs": [],
   "source": [
    "targets = first_group[\n",
    "    first_group['vote_percentage'] == 1.0\n",
    "].copy()"
   ]
  },
  {
   "cell_type": "code",
   "execution_count": 12,
   "metadata": {},
   "outputs": [],
   "source": [
    "targets = targets.loc[\n",
    "    targets.peptide_sequence_charge.isin(proteotypic_peptides)\n",
    "].copy()"
   ]
  },
  {
   "cell_type": "code",
   "execution_count": 13,
   "metadata": {},
   "outputs": [],
   "source": [
    "decoys = first_group[\n",
    "    first_group['vote_percentage'] == 0\n",
    "].copy()"
   ]
  },
  {
   "cell_type": "code",
   "execution_count": 14,
   "metadata": {},
   "outputs": [],
   "source": [
    "decoys = decoys.loc[\n",
    "    decoys.peptide_sequence_charge.isin(proteotypic_peptides)\n",
    "].copy()"
   ]
  },
  {
   "cell_type": "code",
   "execution_count": 15,
   "metadata": {},
   "outputs": [],
   "source": [
    "model_distribution = build_false_target_protein_distributions(\n",
    "    targets,\n",
    "    decoys\n",
    ")"
   ]
  },
  {
   "cell_type": "code",
   "execution_count": 16,
   "metadata": {},
   "outputs": [],
   "source": [
    "%reload_ext autoreload\n",
    "%autoreload 2\n",
    "\n",
    "from gscore.models.distributions import ScoreDistribution"
   ]
  },
  {
   "cell_type": "code",
   "execution_count": 39,
   "metadata": {},
   "outputs": [
    {
     "data": {
      "text/plain": [
       "<AxesSubplot:>"
      ]
     },
     "execution_count": 39,
     "metadata": {},
     "output_type": "execute_result"
    },
    {
     "data": {
      "image/png": "[encoded data removed]",
      "text/plain": [
       "<Figure size 432x288 with 1 Axes>"
      ]
     },
     "metadata": {
      "needs_background": "light"
     },
     "output_type": "display_data"
    }
   ],
   "source": [
    "decoys['alt_d_score'].hist(bins='auto')"
   ]
  },
  {
   "cell_type": "code",
   "execution_count": 18,
   "metadata": {},
   "outputs": [],
   "source": [
    "score_distribution = ScoreDistribution(\n",
    "    data=model_distribution\n",
    ")"
   ]
  },
  {
   "cell_type": "code",
   "execution_count": 10,
   "metadata": {},
   "outputs": [
    {
     "data": {
      "text/html": [
       "<div>\n",
       "<style scoped>\n",
       "    .dataframe tbody tr th:only-of-type {\n",
       "        vertical-align: middle;\n",
       "    }\n",
       "\n",
       "    .dataframe tbody tr th {\n",
       "        vertical-align: top;\n",
       "    }\n",
       "\n",
       "    .dataframe thead th {\n",
       "        text-align: right;\n",
       "    }\n",
       "</style>\n",
       "<table border=\"1\" class=\"dataframe\">\n",
       "  <thead>\n",
       "    <tr style=\"text-align: right;\">\n",
       "      <th></th>\n",
       "      <th>transition_group_id</th>\n",
       "      <th>feature_id</th>\n",
       "      <th>exp_rt</th>\n",
       "      <th>norm_rt</th>\n",
       "      <th>delta_rt</th>\n",
       "      <th>mz</th>\n",
       "      <th>charge</th>\n",
       "      <th>decoy</th>\n",
       "      <th>peptide_sequence</th>\n",
       "      <th>modified_peptide_sequence</th>\n",
       "      <th>...</th>\n",
       "      <th>area_intensity</th>\n",
       "      <th>apex_intensity</th>\n",
       "      <th>ms2_area_intensity</th>\n",
       "      <th>total_area_intensity</th>\n",
       "      <th>var_xcorr_shape</th>\n",
       "      <th>vote_percentage</th>\n",
       "      <th>d_score</th>\n",
       "      <th>alt_d_score</th>\n",
       "      <th>ghost_score_id</th>\n",
       "      <th>target</th>\n",
       "    </tr>\n",
       "  </thead>\n",
       "  <tbody>\n",
       "    <tr>\n",
       "      <th>0</th>\n",
       "      <td>0</td>\n",
       "      <td>7662984433728754483</td>\n",
       "      <td>4018.98</td>\n",
       "      <td>58.4677</td>\n",
       "      <td>166.7330</td>\n",
       "      <td>778.4130</td>\n",
       "      <td>2</td>\n",
       "      <td>0</td>\n",
       "      <td>AAAAAAAAAAAAAAAASAGGK</td>\n",
       "      <td>AAAAAAAAAAAAAAAASAGGK</td>\n",
       "      <td>...</td>\n",
       "      <td>1.122136e+06</td>\n",
       "      <td>3.590698e+05</td>\n",
       "      <td>1661410.0</td>\n",
       "      <td>3.082187e+06</td>\n",
       "      <td>0.853045</td>\n",
       "      <td>0.0</td>\n",
       "      <td>-0.304269</td>\n",
       "      <td>-0.304269</td>\n",
       "      <td>1</td>\n",
       "      <td>1.0</td>\n",
       "    </tr>\n",
       "    <tr>\n",
       "      <th>7</th>\n",
       "      <td>1</td>\n",
       "      <td>5978912985154497292</td>\n",
       "      <td>3882.21</td>\n",
       "      <td>55.4999</td>\n",
       "      <td>-287.5970</td>\n",
       "      <td>532.9533</td>\n",
       "      <td>3</td>\n",
       "      <td>0</td>\n",
       "      <td>AAAAAAAAAAAAAAAGAGAGAK</td>\n",
       "      <td>AAAAAAAAAAAAAAAGAGAGAK</td>\n",
       "      <td>...</td>\n",
       "      <td>0.000000e+00</td>\n",
       "      <td>0.000000e+00</td>\n",
       "      <td>130750.0</td>\n",
       "      <td>4.190732e+06</td>\n",
       "      <td>0.518888</td>\n",
       "      <td>0.0</td>\n",
       "      <td>-0.304269</td>\n",
       "      <td>-0.304269</td>\n",
       "      <td>9</td>\n",
       "      <td>1.0</td>\n",
       "    </tr>\n",
       "    <tr>\n",
       "      <th>10</th>\n",
       "      <td>2</td>\n",
       "      <td>2387986158954138547</td>\n",
       "      <td>3361.70</td>\n",
       "      <td>45.6272</td>\n",
       "      <td>67.1763</td>\n",
       "      <td>823.8739</td>\n",
       "      <td>2</td>\n",
       "      <td>0</td>\n",
       "      <td>AAAAAWEEPSSGNGTAR</td>\n",
       "      <td>AAAAAWEEPSSGN(UniMod:7)GTAR</td>\n",
       "      <td>...</td>\n",
       "      <td>1.253232e+05</td>\n",
       "      <td>6.426611e+04</td>\n",
       "      <td>3927.4</td>\n",
       "      <td>3.980769e+05</td>\n",
       "      <td>0.277173</td>\n",
       "      <td>0.0</td>\n",
       "      <td>-0.304269</td>\n",
       "      <td>-0.304269</td>\n",
       "      <td>12</td>\n",
       "      <td>1.0</td>\n",
       "    </tr>\n",
       "    <tr>\n",
       "      <th>15</th>\n",
       "      <td>3</td>\n",
       "      <td>4870518085553302979</td>\n",
       "      <td>3375.26</td>\n",
       "      <td>45.8668</td>\n",
       "      <td>58.3335</td>\n",
       "      <td>583.8062</td>\n",
       "      <td>2</td>\n",
       "      <td>0</td>\n",
       "      <td>AAATTAQEYLK</td>\n",
       "      <td>AAATTAQEYLK</td>\n",
       "      <td>...</td>\n",
       "      <td>3.357814e+06</td>\n",
       "      <td>8.232510e+05</td>\n",
       "      <td>22212.9</td>\n",
       "      <td>8.606719e+05</td>\n",
       "      <td>0.127069</td>\n",
       "      <td>0.0</td>\n",
       "      <td>-0.304269</td>\n",
       "      <td>-0.304269</td>\n",
       "      <td>20</td>\n",
       "      <td>1.0</td>\n",
       "    </tr>\n",
       "    <tr>\n",
       "      <th>20</th>\n",
       "      <td>4</td>\n",
       "      <td>5965667651822010633</td>\n",
       "      <td>4076.61</td>\n",
       "      <td>59.7586</td>\n",
       "      <td>-132.9410</td>\n",
       "      <td>697.3212</td>\n",
       "      <td>2</td>\n",
       "      <td>0</td>\n",
       "      <td>ACGNFGIPCELR</td>\n",
       "      <td>AC(UniMod:4)GNFGIPC(UniMod:4)ELR</td>\n",
       "      <td>...</td>\n",
       "      <td>1.078549e+07</td>\n",
       "      <td>5.925113e+06</td>\n",
       "      <td>102315.0</td>\n",
       "      <td>6.945596e+05</td>\n",
       "      <td>0.813330</td>\n",
       "      <td>0.0</td>\n",
       "      <td>-0.304269</td>\n",
       "      <td>-0.304269</td>\n",
       "      <td>21</td>\n",
       "      <td>1.0</td>\n",
       "    </tr>\n",
       "    <tr>\n",
       "      <th>...</th>\n",
       "      <td>...</td>\n",
       "      <td>...</td>\n",
       "      <td>...</td>\n",
       "      <td>...</td>\n",
       "      <td>...</td>\n",
       "      <td>...</td>\n",
       "      <td>...</td>\n",
       "      <td>...</td>\n",
       "      <td>...</td>\n",
       "      <td>...</td>\n",
       "      <td>...</td>\n",
       "      <td>...</td>\n",
       "      <td>...</td>\n",
       "      <td>...</td>\n",
       "      <td>...</td>\n",
       "      <td>...</td>\n",
       "      <td>...</td>\n",
       "      <td>...</td>\n",
       "      <td>...</td>\n",
       "      <td>...</td>\n",
       "      <td>...</td>\n",
       "    </tr>\n",
       "    <tr>\n",
       "      <th>518965</th>\n",
       "      <td>108884</td>\n",
       "      <td>7089144497916120027</td>\n",
       "      <td>3176.47</td>\n",
       "      <td>42.4058</td>\n",
       "      <td>65.8234</td>\n",
       "      <td>533.2698</td>\n",
       "      <td>2</td>\n",
       "      <td>0</td>\n",
       "      <td>VLTGDYGQGR</td>\n",
       "      <td>VLTGDYGQGR</td>\n",
       "      <td>...</td>\n",
       "      <td>1.078744e+06</td>\n",
       "      <td>3.805305e+05</td>\n",
       "      <td>265686.0</td>\n",
       "      <td>2.178196e+06</td>\n",
       "      <td>0.375150</td>\n",
       "      <td>0.0</td>\n",
       "      <td>-0.304269</td>\n",
       "      <td>-0.304269</td>\n",
       "      <td>518968</td>\n",
       "      <td>1.0</td>\n",
       "    </tr>\n",
       "    <tr>\n",
       "      <th>518970</th>\n",
       "      <td>108885</td>\n",
       "      <td>6011460451364995441</td>\n",
       "      <td>3157.10</td>\n",
       "      <td>42.0771</td>\n",
       "      <td>-203.9550</td>\n",
       "      <td>578.8379</td>\n",
       "      <td>2</td>\n",
       "      <td>0</td>\n",
       "      <td>VLTGNLNVQAK</td>\n",
       "      <td>VLTGNLNVQAK</td>\n",
       "      <td>...</td>\n",
       "      <td>3.326211e+04</td>\n",
       "      <td>1.929024e+04</td>\n",
       "      <td>346633.0</td>\n",
       "      <td>3.336165e+06</td>\n",
       "      <td>0.756991</td>\n",
       "      <td>0.0</td>\n",
       "      <td>-0.304269</td>\n",
       "      <td>-0.304269</td>\n",
       "      <td>518971</td>\n",
       "      <td>1.0</td>\n",
       "    </tr>\n",
       "    <tr>\n",
       "      <th>518975</th>\n",
       "      <td>108886</td>\n",
       "      <td>867027695432585068</td>\n",
       "      <td>4514.66</td>\n",
       "      <td>69.8862</td>\n",
       "      <td>-288.9690</td>\n",
       "      <td>523.6421</td>\n",
       "      <td>3</td>\n",
       "      <td>0</td>\n",
       "      <td>VLTGNTIALVLGGGGAR</td>\n",
       "      <td>VLTGNTIALVLGGGGAR</td>\n",
       "      <td>...</td>\n",
       "      <td>0.000000e+00</td>\n",
       "      <td>0.000000e+00</td>\n",
       "      <td>52759.3</td>\n",
       "      <td>7.319680e+05</td>\n",
       "      <td>0.574070</td>\n",
       "      <td>0.0</td>\n",
       "      <td>-0.304269</td>\n",
       "      <td>-0.304269</td>\n",
       "      <td>518976</td>\n",
       "      <td>1.0</td>\n",
       "    </tr>\n",
       "    <tr>\n",
       "      <th>518980</th>\n",
       "      <td>108887</td>\n",
       "      <td>1272449281611581879</td>\n",
       "      <td>2876.28</td>\n",
       "      <td>37.4195</td>\n",
       "      <td>-237.8930</td>\n",
       "      <td>814.3909</td>\n",
       "      <td>2</td>\n",
       "      <td>0</td>\n",
       "      <td>VLTGVAGEDAECHAAK</td>\n",
       "      <td>VLTGVAGEDAEC(UniMod:4)HAAK</td>\n",
       "      <td>...</td>\n",
       "      <td>1.967030e+06</td>\n",
       "      <td>3.790366e+05</td>\n",
       "      <td>59997.1</td>\n",
       "      <td>2.134571e+06</td>\n",
       "      <td>0.423770</td>\n",
       "      <td>0.0</td>\n",
       "      <td>-0.304269</td>\n",
       "      <td>-0.304269</td>\n",
       "      <td>518981</td>\n",
       "      <td>1.0</td>\n",
       "    </tr>\n",
       "    <tr>\n",
       "      <th>518985</th>\n",
       "      <td>108888</td>\n",
       "      <td>4571489110651779981</td>\n",
       "      <td>3128.59</td>\n",
       "      <td>41.5941</td>\n",
       "      <td>22.7361</td>\n",
       "      <td>543.2630</td>\n",
       "      <td>3</td>\n",
       "      <td>0</td>\n",
       "      <td>VLTGVAGEDAECHAAK</td>\n",
       "      <td>VLTGVAGEDAEC(UniMod:4)HAAK</td>\n",
       "      <td>...</td>\n",
       "      <td>2.692371e+06</td>\n",
       "      <td>8.754658e+05</td>\n",
       "      <td>45673.8</td>\n",
       "      <td>5.791120e+05</td>\n",
       "      <td>0.245093</td>\n",
       "      <td>0.0</td>\n",
       "      <td>-0.304269</td>\n",
       "      <td>-0.304269</td>\n",
       "      <td>518987</td>\n",
       "      <td>1.0</td>\n",
       "    </tr>\n",
       "  </tbody>\n",
       "</table>\n",
       "<p>104213 rows × 22 columns</p>\n",
       "</div>"
      ],
      "text/plain": [
       "        transition_group_id           feature_id   exp_rt  norm_rt  delta_rt  \\\n",
       "0                         0  7662984433728754483  4018.98  58.4677  166.7330   \n",
       "7                         1  5978912985154497292  3882.21  55.4999 -287.5970   \n",
       "10                        2  2387986158954138547  3361.70  45.6272   67.1763   \n",
       "15                        3  4870518085553302979  3375.26  45.8668   58.3335   \n",
       "20                        4  5965667651822010633  4076.61  59.7586 -132.9410   \n",
       "...                     ...                  ...      ...      ...       ...   \n",
       "518965               108884  7089144497916120027  3176.47  42.4058   65.8234   \n",
       "518970               108885  6011460451364995441  3157.10  42.0771 -203.9550   \n",
       "518975               108886   867027695432585068  4514.66  69.8862 -288.9690   \n",
       "518980               108887  1272449281611581879  2876.28  37.4195 -237.8930   \n",
       "518985               108888  4571489110651779981  3128.59  41.5941   22.7361   \n",
       "\n",
       "              mz  charge  decoy        peptide_sequence  \\\n",
       "0       778.4130       2      0   AAAAAAAAAAAAAAAASAGGK   \n",
       "7       532.9533       3      0  AAAAAAAAAAAAAAAGAGAGAK   \n",
       "10      823.8739       2      0       AAAAAWEEPSSGNGTAR   \n",
       "15      583.8062       2      0             AAATTAQEYLK   \n",
       "20      697.3212       2      0            ACGNFGIPCELR   \n",
       "...          ...     ...    ...                     ...   \n",
       "518965  533.2698       2      0              VLTGDYGQGR   \n",
       "518970  578.8379       2      0             VLTGNLNVQAK   \n",
       "518975  523.6421       3      0       VLTGNTIALVLGGGGAR   \n",
       "518980  814.3909       2      0        VLTGVAGEDAECHAAK   \n",
       "518985  543.2630       3      0        VLTGVAGEDAECHAAK   \n",
       "\n",
       "               modified_peptide_sequence  ... area_intensity  apex_intensity  \\\n",
       "0                  AAAAAAAAAAAAAAAASAGGK  ...   1.122136e+06    3.590698e+05   \n",
       "7                 AAAAAAAAAAAAAAAGAGAGAK  ...   0.000000e+00    0.000000e+00   \n",
       "10           AAAAAWEEPSSGN(UniMod:7)GTAR  ...   1.253232e+05    6.426611e+04   \n",
       "15                           AAATTAQEYLK  ...   3.357814e+06    8.232510e+05   \n",
       "20      AC(UniMod:4)GNFGIPC(UniMod:4)ELR  ...   1.078549e+07    5.925113e+06   \n",
       "...                                  ...  ...            ...             ...   \n",
       "518965                        VLTGDYGQGR  ...   1.078744e+06    3.805305e+05   \n",
       "518970                       VLTGNLNVQAK  ...   3.326211e+04    1.929024e+04   \n",
       "518975                 VLTGNTIALVLGGGGAR  ...   0.000000e+00    0.000000e+00   \n",
       "518980        VLTGVAGEDAEC(UniMod:4)HAAK  ...   1.967030e+06    3.790366e+05   \n",
       "518985        VLTGVAGEDAEC(UniMod:4)HAAK  ...   2.692371e+06    8.754658e+05   \n",
       "\n",
       "        ms2_area_intensity  total_area_intensity  var_xcorr_shape  \\\n",
       "0                1661410.0          3.082187e+06         0.853045   \n",
       "7                 130750.0          4.190732e+06         0.518888   \n",
       "10                  3927.4          3.980769e+05         0.277173   \n",
       "15                 22212.9          8.606719e+05         0.127069   \n",
       "20                102315.0          6.945596e+05         0.813330   \n",
       "...                    ...                   ...              ...   \n",
       "518965            265686.0          2.178196e+06         0.375150   \n",
       "518970            346633.0          3.336165e+06         0.756991   \n",
       "518975             52759.3          7.319680e+05         0.574070   \n",
       "518980             59997.1          2.134571e+06         0.423770   \n",
       "518985             45673.8          5.791120e+05         0.245093   \n",
       "\n",
       "        vote_percentage   d_score  alt_d_score  ghost_score_id  target  \n",
       "0                   0.0 -0.304269    -0.304269               1     1.0  \n",
       "7                   0.0 -0.304269    -0.304269               9     1.0  \n",
       "10                  0.0 -0.304269    -0.304269              12     1.0  \n",
       "15                  0.0 -0.304269    -0.304269              20     1.0  \n",
       "20                  0.0 -0.304269    -0.304269              21     1.0  \n",
       "...                 ...       ...          ...             ...     ...  \n",
       "518965              0.0 -0.304269    -0.304269          518968     1.0  \n",
       "518970              0.0 -0.304269    -0.304269          518971     1.0  \n",
       "518975              0.0 -0.304269    -0.304269          518976     1.0  \n",
       "518980              0.0 -0.304269    -0.304269          518981     1.0  \n",
       "518985              0.0 -0.304269    -0.304269          518987     1.0  \n",
       "\n",
       "[104213 rows x 22 columns]"
      ]
     },
     "execution_count": 10,
     "metadata": {},
     "output_type": "execute_result"
    }
   ],
   "source": [
    "highest_ranking"
   ]
  },
  {
   "cell_type": "code",
   "execution_count": 48,
   "metadata": {},
   "outputs": [],
   "source": [
    "all_peak_groups = peak_groups.select_peak_group(\n",
    "    return_all=True\n",
    ")"
   ]
  },
  {
   "cell_type": "code",
   "execution_count": 49,
   "metadata": {},
   "outputs": [],
   "source": [
    "all_peak_groups['q_value'] = all_peak_groups['alt_d_score'].apply(\n",
    "    score_distribution.calc_q_value\n",
    ")"
   ]
  },
  {
   "cell_type": "code",
   "execution_count": 50,
   "metadata": {},
   "outputs": [
    {
     "data": {
      "text/plain": [
       "1.000000    43784\n",
       "0.000000    28014\n",
       "0.212626        1\n",
       "0.499430        1\n",
       "0.389686        1\n",
       "            ...  \n",
       "0.493101        1\n",
       "0.184505        1\n",
       "0.438203        1\n",
       "0.400412        1\n",
       "0.486843        1\n",
       "Name: q_value, Length: 448693, dtype: int64"
      ]
     },
     "execution_count": 50,
     "metadata": {},
     "output_type": "execute_result"
    }
   ],
   "source": [
    "all_peak_groups.q_value.value_counts()"
   ]
  },
  {
   "cell_type": "code",
   "execution_count": 51,
   "metadata": {},
   "outputs": [],
   "source": [
    "cutoff = 0.01"
   ]
  },
  {
   "cell_type": "code",
   "execution_count": 52,
   "metadata": {},
   "outputs": [],
   "source": [
    "all_peak_groups = all_peak_groups.loc[\n",
    "    all_peak_groups.groupby(['transition_group_id'])['q_value'].idxmin()\n",
    "]\n",
    "\n",
    "# Need to fix this if both have 0.0 q value to take the highest scoring"
   ]
  },
  {
   "cell_type": "code",
   "execution_count": 53,
   "metadata": {},
   "outputs": [],
   "source": [
    "pass_threshold = all_peak_groups[(all_peak_groups['q_value'] <= cutoff)].copy()"
   ]
  },
  {
   "cell_type": "code",
   "execution_count": 54,
   "metadata": {},
   "outputs": [
    {
     "name": "stdout",
     "output_type": "stream",
     "text": [
      "0 37753\n"
     ]
    }
   ],
   "source": [
    "print(len(pass_threshold[pass_threshold['target'] == 0.0]), len(pass_threshold[pass_threshold['target'] == 1.0]))"
   ]
  },
  {
   "cell_type": "code",
   "execution_count": 55,
   "metadata": {},
   "outputs": [
    {
     "data": {
      "text/plain": [
       "Index(['transition_group_id', 'feature_id', 'exp_rt', 'norm_rt', 'delta_rt',\n",
       "       'mz', 'charge', 'decoy', 'peptide_sequence',\n",
       "       'modified_peptide_sequence', 'protein_accession', 'protein_decoy',\n",
       "       'area_intensity', 'apex_intensity', 'ms2_area_intensity',\n",
       "       'total_area_intensity', 'var_xcorr_shape', 'vote_percentage', 'd_score',\n",
       "       'alt_d_score', 'target', 'q_value'],\n",
       "      dtype='object')"
      ]
     },
     "execution_count": 55,
     "metadata": {},
     "output_type": "execute_result"
    }
   ],
   "source": [
    "pass_threshold.columns"
   ]
  },
  {
   "cell_type": "code",
   "execution_count": 56,
   "metadata": {},
   "outputs": [],
   "source": [
    "pass_threshold['peptide_sequence_charge'] = pass_threshold.apply(\n",
    "    lambda row: '{}_{}'.format(row['peptide_sequence'], row['charge']),\n",
    "    axis=1\n",
    ")"
   ]
  },
  {
   "cell_type": "code",
   "execution_count": 57,
   "metadata": {},
   "outputs": [],
   "source": [
    "proteotypic_counts = pd.DataFrame(\n",
    "    pass_threshold['peptide_sequence_charge'].value_counts(),\n",
    ").reset_index()"
   ]
  },
  {
   "cell_type": "code",
   "execution_count": 58,
   "metadata": {},
   "outputs": [],
   "source": [
    "proteotypic_counts.columns = ['peptide_charge', 'count']"
   ]
  },
  {
   "cell_type": "code",
   "execution_count": 59,
   "metadata": {},
   "outputs": [],
   "source": [
    "proteotypic_peptides = list(\n",
    "    proteotypic_counts[\n",
    "        proteotypic_counts['count'] == 1\n",
    "    ]['peptide_charge']\n",
    ")"
   ]
  },
  {
   "cell_type": "code",
   "execution_count": 60,
   "metadata": {},
   "outputs": [
    {
     "data": {
      "text/plain": [
       "33350"
      ]
     },
     "execution_count": 60,
     "metadata": {},
     "output_type": "execute_result"
    }
   ],
   "source": [
    "len(proteotypic_peptides)"
   ]
  },
  {
   "cell_type": "code",
   "execution_count": 61,
   "metadata": {},
   "outputs": [
    {
     "data": {
      "text/plain": [
       "8626"
      ]
     },
     "execution_count": 61,
     "metadata": {},
     "output_type": "execute_result"
    }
   ],
   "source": [
    "len(pass_threshold[pass_threshold['target'] == 1.0].groupby(['protein_accession']))"
   ]
  },
  {
   "cell_type": "code",
   "execution_count": 62,
   "metadata": {},
   "outputs": [],
   "source": [
    "protein_groups = pass_threshold[pass_threshold['target'] == 1.0].groupby(['protein_accession'])"
   ]
  },
  {
   "cell_type": "code",
   "execution_count": 63,
   "metadata": {},
   "outputs": [],
   "source": [
    "pg_df = [group for _, group in protein_groups]"
   ]
  },
  {
   "cell_type": "code",
   "execution_count": 64,
   "metadata": {},
   "outputs": [],
   "source": [
    "protein_groups = list()\n",
    "for group in pg_df:\n",
    "    if len(group) >= 2:\n",
    "        protein_groups.append(group)"
   ]
  },
  {
   "cell_type": "code",
   "execution_count": 65,
   "metadata": {},
   "outputs": [
    {
     "data": {
      "text/plain": [
       "5671"
      ]
     },
     "execution_count": 65,
     "metadata": {},
     "output_type": "execute_result"
    }
   ],
   "source": [
    "len(protein_groups)"
   ]
  },
  {
   "cell_type": "code",
   "execution_count": null,
   "metadata": {},
   "outputs": [],
   "source": []
  }
 ],
 "metadata": {
  "kernelspec": {
   "display_name": "Python 3",
   "language": "python",
   "name": "python3"
  },
  "language_info": {
   "codemirror_mode": {
    "name": "ipython",
    "version": 3
   },
   "file_extension": ".py",
   "mimetype": "text/x-python",
   "name": "python",
   "nbconvert_exporter": "python",
   "pygments_lexer": "ipython3",
   "version": "3.8.5"
  }
 },
 "nbformat": 4,
 "nbformat_minor": 4
}
