{
 "cells": [
  {
   "cell_type": "code",
   "execution_count": 1,
   "metadata": {},
   "outputs": [],
   "source": [
    "import pandas as pd\n",
    "import sqlite3\n",
    "\n",
    "import tensorflow as tf\n",
    "\n",
    "from tensorflow import keras\n",
    "\n",
    "from sklearn.model_selection import train_test_split\n",
    "\n",
    "import matplotlib.pyplot as plt"
   ]
  },
  {
   "cell_type": "code",
   "execution_count": 2,
   "metadata": {},
   "outputs": [],
   "source": [
    "pyprophet_export_command = \"\"\"\n",
    "select\n",
    "\tprecursor.id transition_group_id,\n",
    "    feature.id feature_id,\n",
    "\tfeature.exp_rt exp_rt,\n",
    "\tfeature.norm_rt norm_rt,\n",
    "\tfeature.delta_rt delta_rt,\n",
    "\tprecursor.PRECURSOR_MZ mz,\n",
    "\tprecursor.CHARGE charge,\n",
    "\tprecursor.DECOY decoy,\n",
    "\tpeptide.UNMODIFIED_SEQUENCE peptide_sequence,\n",
    "\tpeptide.MODIFIED_SEQUENCE modified_peptide_sequence,\n",
    "\tprotein.PROTEIN_ACCESSION protein_accession,\n",
    "\tprotein.decoy protein_decoy,\n",
    "\tms1.AREA_INTENSITY area_intensity,\n",
    "\tms1.APEX_INTENSITY apex_intensity,\n",
    "\tms2.AREA_INTENSITY ms2_area_intensity,\n",
    "\tms2.TOTAL_AREA_INTENSITY total_area_intensity,\n",
    "\tms1.var_massdev_score,\n",
    "\tms1.var_isotope_correlation_score,\n",
    "\tms1.var_isotope_overlap_score,\n",
    "\tms1.var_xcorr_coelution_contrast,\n",
    "\tms1.var_xcorr_coelution_combined,\n",
    "\tms1.var_xcorr_shape_contrast,\n",
    "\tms1.var_xcorr_shape_combined,\n",
    "\tms2.VAR_BSERIES_SCORE,\n",
    "\tms2.VAR_DOTPROD_SCORE,\n",
    "\tms2.VAR_INTENSITY_SCORE,\n",
    "\tms2.VAR_ISOTOPE_CORRELATION_SCORE,\n",
    "\tms2.VAR_ISOTOPE_OVERLAP_SCORE,\n",
    "\tms2.VAR_LIBRARY_CORR,\n",
    "\tms2.VAR_LIBRARY_DOTPROD,\n",
    "\tms2.VAR_LIBRARY_MANHATTAN,\n",
    "\tms2.VAR_LIBRARY_RMSD,\n",
    "\tms2.VAR_LIBRARY_ROOTMEANSQUARE,\n",
    "\tms2.VAR_LIBRARY_SANGLE,\n",
    "\tms2.VAR_LOG_SN_SCORE,\n",
    "\tms2.VAR_MANHATTAN_SCORE,\n",
    "\tms2.VAR_MASSDEV_SCORE,\n",
    "\tms2.VAR_MASSDEV_SCORE_WEIGHTED,\n",
    "\tms2.VAR_NORM_RT_SCORE,\n",
    "\tms2.VAR_XCORR_COELUTION,\n",
    "\tms2.VAR_XCORR_COELUTION_WEIGHTED,\n",
    "\tms2.VAR_XCORR_SHAPE,\n",
    "\tms2.VAR_XCORR_SHAPE_WEIGHTED,\n",
    "\tms2.VAR_YSERIES_SCORE\n",
    "from precursor \n",
    "inner join PRECURSOR_PEPTIDE_MAPPING as pre_pep_map on pre_pep_map.precursor_id = precursor.id\n",
    "inner join peptide as peptide on peptide.id = pre_pep_map.peptide_id\n",
    "inner join feature on feature.precursor_id = precursor.id \n",
    "left join feature_ms2 as ms2 on ms2.feature_id = feature.id \n",
    "left join feature_ms1 as ms1 on ms1.feature_id = feature.id \n",
    "inner join PEPTIDE_PROTEIN_MAPPING as pep_prot_map on pep_prot_map.peptide_id = peptide.id\n",
    "inner join protein as protein on protein.id = pep_prot_map.protein_id\n",
    "order by transition_group_id;\n",
    "\"\"\""
   ]
  },
  {
   "cell_type": "code",
   "execution_count": 3,
   "metadata": {},
   "outputs": [],
   "source": [
    "import sqlite3\n",
    "\n",
    "class Queries:\n",
    "    \n",
    "    ADD_RECORD = \"\"\"INSERT INTO {table_name} ({list_fields}) VALUES ({list_values});\"\"\"\n",
    "\n",
    "class OSWConnection:\n",
    "    \n",
    "    def __init__(self, db_path):\n",
    "        \n",
    "        self.db_path = db_path\n",
    "        \n",
    "        self.conn = sqlite3.connect(self.db_path)\n",
    "        \n",
    "        self.conn.row_factory = sqlite3.Row\n",
    "    \n",
    "    def __enter__(self):\n",
    "        return self\n",
    "    \n",
    "    def __exit__(self, exc_type, exc_val, exc_tb):\n",
    "        self.conn.close()\n",
    "    \n",
    "    def iterate_records(self, query):\n",
    "        \n",
    "        cursor = self.conn.cursor()\n",
    "        \n",
    "        cursor.execute(query)\n",
    "        \n",
    "        for row in cursor:\n",
    "            \n",
    "            if len(row) > 0:\n",
    "                \n",
    "                record_dict = {column: value for column, value in zip(row.keys(), row)}\n",
    "                \n",
    "                yield record_dict\n",
    "                \n",
    "    def add_records(self, table_name='', records=[]):\n",
    "        \n",
    "        input_records = list()\n",
    "        \n",
    "        for record_num, record in enumerate(records):\n",
    "            \n",
    "            field_names = [field_name for field_name, field_value in record.items()]\n",
    "            field_values = list()\n",
    "            \n",
    "            for field_name, field_value in record.items():\n",
    "    \n",
    "                field_values.append(field_value)\n",
    "        \n",
    "            input_records.append(tuple(field_values))\n",
    "            \n",
    "            if record_num % 1000 == 0 and record_num > 0:\n",
    "                \n",
    "                holders = ','.join('?' * len(field_names))\n",
    "                \n",
    "                add_record_query = Queries.ADD_RECORD.format(\n",
    "                    table_name=table_name,\n",
    "                    list_fields=','.join(field_names),\n",
    "                    list_values=holders\n",
    "                )\n",
    "                \n",
    "                cursor = self.conn.cursor()\n",
    "                \n",
    "                cursor.executemany(add_record_query, input_records)\n",
    "\n",
    "                self.conn.commit()\n",
    "                \n",
    "                input_records = list()\n",
    "        \n",
    "        if input_records:\n",
    "            holders = ','.join('?' * len(field_names))\n",
    "                \n",
    "            add_record_query = Queries.ADD_RECORD.format(\n",
    "                table_name=table_name,\n",
    "                list_fields=','.join(field_names),\n",
    "                list_values=holders\n",
    "            )\n",
    "\n",
    "            cursor = self.conn.cursor()\n",
    "\n",
    "            cursor.executemany(add_record_query, input_records)\n",
    "\n",
    "            self.conn.commit()\n",
    "\n",
    "            input_records = list()\n",
    "            \n",
    "    \n",
    "    def run_raw_sql(self, sql):\n",
    "        \n",
    "        cursor = self.conn.cursor()\n",
    "        \n",
    "        cursor.execute(sql)\n",
    "        \n",
    "        \n",
    "def connect(db_path):\n",
    "    conn = OSWConnection(db_path)\n",
    "    return conn"
   ]
  },
  {
   "cell_type": "code",
   "execution_count": 4,
   "metadata": {},
   "outputs": [],
   "source": [
    "osw_path = '/home/aaron/projects/ghost/data/hatlas/openswath/Simon_S1607_248.osw'"
   ]
  },
  {
   "cell_type": "code",
   "execution_count": 5,
   "metadata": {},
   "outputs": [],
   "source": [
    "conn = connect(osw_path)"
   ]
  },
  {
   "cell_type": "code",
   "execution_count": 6,
   "metadata": {},
   "outputs": [],
   "source": [
    "def fetch_decoy_free(query):\n",
    "    \n",
    "    peak_groups = list()\n",
    "    for record in conn.iterate_records(query):\n",
    "        if record['decoy'] == 0:\n",
    "            peak_groups.append(record)\n",
    "            \n",
    "    peak_groups = preprocess_swath_data(\n",
    "        pd.DataFrame(peak_groups)\n",
    "    )\n",
    "    \n",
    "    split_peak_groups = dict(\n",
    "        tuple(peak_groups.groupby('transition_group_id'))\n",
    "    )\n",
    "    \n",
    "    peak_groups = PeakGroupList(split_peak_groups)\n",
    "    \n",
    "    return peak_groups\n",
    "    \n",
    "    "
   ]
  },
  {
   "cell_type": "code",
   "execution_count": 7,
   "metadata": {},
   "outputs": [],
   "source": [
    "def add_target_column(df):\n",
    "\n",
    "    df.loc[df['decoy'] == 0, 'target'] = 1\n",
    "    df.loc[df['decoy'] == 1, 'target'] = 0\n",
    "    \n",
    "    return df"
   ]
  },
  {
   "cell_type": "code",
   "execution_count": 8,
   "metadata": {},
   "outputs": [],
   "source": [
    "def preprocess_swath_data(swath_df):\n",
    "    \n",
    "    swath_df = swath_df.dropna(how='all', axis=1)\n",
    "    \n",
    "    swath_df.columns = map(str.lower, swath_df.columns)\n",
    "    \n",
    "    swath_df = add_target_column(swath_df)\n",
    "    \n",
    "    return swath_df"
   ]
  },
  {
   "cell_type": "code",
   "execution_count": 9,
   "metadata": {},
   "outputs": [],
   "source": [
    "class PeakGroup:\n",
    "    \n",
    "    def __init__(self, peak_group):\n",
    "        \n",
    "        self.peak_group = peak_group\n",
    "        \n",
    "    def sort(self, rerank_keys=[], ascending=True):\n",
    "        \n",
    "        self.peak_group = self.peak_group.sort_values(\n",
    "            by=rerank_keys,\n",
    "            ascending=ascending\n",
    "        )\n",
    "        "
   ]
  },
  {
   "cell_type": "code",
   "execution_count": 10,
   "metadata": {},
   "outputs": [],
   "source": [
    "class PeakGroupList:\n",
    "    \n",
    "    def __init__(self, peak_groups):\n",
    "        \n",
    "        self.peak_groups = list()\n",
    "        \n",
    "        for key, group in peak_groups.items():\n",
    "            self.peak_groups.append(PeakGroup(group))\n",
    "            \n",
    "        self.sort_key = None\n",
    "        \n",
    "    @property\n",
    "    def ml_features(self):\n",
    "        ml_features = [\n",
    "            col for col in self.peak_groups[0].peak_group.columns\n",
    "            if col.startswith('var')\n",
    "        ]\n",
    "        \n",
    "        return ml_features\n",
    "    \n",
    "    def rerank_groups(self, rerank_keys=[], ascending=True):\n",
    "        \n",
    "        for peak_group in self.peak_groups:\n",
    "            peak_group.sort(rerank_keys=rerank_keys, ascending=ascending)\n",
    "            \n",
    "        self.sort_key = rerank_keys\n",
    "        \n",
    "    \n",
    "    def select_peak_group(self, rank=0, rerank_keys=[], ascending=True, return_all=False):\n",
    "        \n",
    "        if return_all:\n",
    "            return pd.concat(\n",
    "                [peak_group.peak_group for peak_group in self.peak_groups]\n",
    "            )\n",
    "        \n",
    "        if rerank_keys != self.sort_key:\n",
    "            print('here')\n",
    "            self.rerank_groups(\n",
    "                rerank_keys=rerank_keys,\n",
    "                ascending=ascending\n",
    "            )\n",
    "        \n",
    "        rank = rank - 1\n",
    "        \n",
    "        highest_ranking = list()\n",
    "        \n",
    "        for peak_group in self.peak_groups:\n",
    "            \n",
    "            try:\n",
    "                highest_ranking.append(\n",
    "                    peak_group.peak_group.iloc[rank]\n",
    "                ) \n",
    "            except IndexError:\n",
    "                pass\n",
    "        \n",
    "        return pd.DataFrame(highest_ranking)\n",
    "        \n",
    "        \n",
    "            "
   ]
  },
  {
   "cell_type": "code",
   "execution_count": 11,
   "metadata": {},
   "outputs": [],
   "source": [
    "scoring_model = keras.models.load_model('models/hatlas.0.1.no_dropout')"
   ]
  },
  {
   "cell_type": "code",
   "execution_count": 12,
   "metadata": {},
   "outputs": [],
   "source": [
    "peak_groups = fetch_decoy_free(pyprophet_export_command)"
   ]
  },
  {
   "cell_type": "code",
   "execution_count": 13,
   "metadata": {},
   "outputs": [],
   "source": [
    "all_peak_groups = peak_groups.select_peak_group(\n",
    "    return_all=True\n",
    ")"
   ]
  },
  {
   "cell_type": "code",
   "execution_count": 14,
   "metadata": {},
   "outputs": [],
   "source": [
    "import pickle\n",
    "\n",
    "with open('scalers/standard_scaler.pkl', 'rb') as pkl:\n",
    "    pipeline = pickle.load(pkl)"
   ]
  },
  {
   "cell_type": "code",
   "execution_count": 15,
   "metadata": {},
   "outputs": [],
   "source": [
    "def preprocess_data(pipeline, data, columns, train=False):\n",
    "    \n",
    "    if train == True:\n",
    "        \n",
    "        data[columns] = pipeline.fit_transform(data[columns])\n",
    "        \n",
    "        return data, pipeline\n",
    "        \n",
    "    else:\n",
    "        \n",
    "        data[columns] = pipeline.transform(data[columns])\n",
    "        return data\n",
    "        \n",
    "    "
   ]
  },
  {
   "cell_type": "code",
   "execution_count": 16,
   "metadata": {},
   "outputs": [],
   "source": [
    "all_peak_groups = preprocess_data(\n",
    "    pipeline=pipeline,\n",
    "    data=all_peak_groups.copy(),\n",
    "    columns=peak_groups.ml_features,\n",
    ")"
   ]
  },
  {
   "cell_type": "code",
   "execution_count": 17,
   "metadata": {},
   "outputs": [],
   "source": [
    "all_peak_groups['d_score'] = scoring_model.predict(all_peak_groups[peak_groups.ml_features]).ravel()"
   ]
  },
  {
   "cell_type": "code",
   "execution_count": 18,
   "metadata": {},
   "outputs": [],
   "source": [
    "create_ghostscore_table = \"\"\"CREATE TABLE IF NOT EXISTS ghost_score_table (\n",
    "    ghost_score_id INTEGER PRIMARY KEY,\n",
    "    feature_id INTEGER not null,\n",
    "    vote_percentage REAL,\n",
    "    m_score REAL,\n",
    "    d_score REAL,\n",
    "    FOREIGN KEY (feature_id)\n",
    "        REFERENCES FEATURE (id)\n",
    ")\n",
    "\"\"\""
   ]
  },
  {
   "cell_type": "code",
   "execution_count": 19,
   "metadata": {},
   "outputs": [],
   "source": [
    "conn.run_raw_sql(create_ghostscore_table)"
   ]
  },
  {
   "cell_type": "code",
   "execution_count": 20,
   "metadata": {},
   "outputs": [],
   "source": [
    "record_updates = all_peak_groups[\n",
    "    [\n",
    "        'feature_id',\n",
    "        'd_score'\n",
    "    ]\n",
    "]"
   ]
  },
  {
   "cell_type": "code",
   "execution_count": 21,
   "metadata": {},
   "outputs": [],
   "source": [
    "feature_ids = list(record_updates['feature_id'])\n",
    "votes = list(record_updates['d_score'])"
   ]
  },
  {
   "cell_type": "code",
   "execution_count": 22,
   "metadata": {},
   "outputs": [],
   "source": [
    "record_updates = list()\n",
    "for feature_id, vote in zip(feature_ids, votes):\n",
    "    record_updates.append(\n",
    "        {'feature_id': feature_id,\n",
    "         'd_score': vote}\n",
    "    )"
   ]
  },
  {
   "cell_type": "code",
   "execution_count": 23,
   "metadata": {},
   "outputs": [],
   "source": [
    "conn.add_records(table_name='ghost_score_table', records=record_updates)"
   ]
  },
  {
   "cell_type": "code",
   "execution_count": 11,
   "metadata": {},
   "outputs": [],
   "source": [
    "scored_data = \"\"\"\n",
    "select\n",
    "\tprecursor.id transition_group_id,\n",
    "    feature.id feature_id,\n",
    "\tfeature.exp_rt exp_rt,\n",
    "\tfeature.norm_rt norm_rt,\n",
    "\tfeature.delta_rt delta_rt,\n",
    "\tprecursor.PRECURSOR_MZ mz,\n",
    "\tprecursor.CHARGE charge,\n",
    "\tprecursor.DECOY decoy,\n",
    "\tpeptide.UNMODIFIED_SEQUENCE peptide_sequence,\n",
    "\tpeptide.MODIFIED_SEQUENCE modified_peptide_sequence,\n",
    "\tprotein.PROTEIN_ACCESSION protein_accession,\n",
    "\tprotein.decoy protein_decoy,\n",
    "\tms1.AREA_INTENSITY area_intensity,\n",
    "\tms1.APEX_INTENSITY apex_intensity,\n",
    "\tms2.AREA_INTENSITY ms2_area_intensity,\n",
    "\tms2.TOTAL_AREA_INTENSITY total_area_intensity,\n",
    "\tms1.var_massdev_score,\n",
    "\tms1.var_isotope_correlation_score,\n",
    "\tms1.var_isotope_overlap_score,\n",
    "\tms1.var_xcorr_coelution_contrast,\n",
    "\tms1.var_xcorr_coelution_combined,\n",
    "\tms1.var_xcorr_shape_contrast,\n",
    "\tms1.var_xcorr_shape_combined,\n",
    "\tms2.VAR_BSERIES_SCORE,\n",
    "\tms2.VAR_DOTPROD_SCORE,\n",
    "\tms2.VAR_INTENSITY_SCORE,\n",
    "\tms2.VAR_ISOTOPE_CORRELATION_SCORE,\n",
    "\tms2.VAR_ISOTOPE_OVERLAP_SCORE,\n",
    "\tms2.VAR_LIBRARY_CORR,\n",
    "\tms2.VAR_LIBRARY_DOTPROD,\n",
    "\tms2.VAR_LIBRARY_MANHATTAN,\n",
    "\tms2.VAR_LIBRARY_RMSD,\n",
    "\tms2.VAR_LIBRARY_ROOTMEANSQUARE,\n",
    "\tms2.VAR_LIBRARY_SANGLE,\n",
    "\tms2.VAR_LOG_SN_SCORE,\n",
    "\tms2.VAR_MANHATTAN_SCORE,\n",
    "\tms2.VAR_MASSDEV_SCORE,\n",
    "\tms2.VAR_MASSDEV_SCORE_WEIGHTED,\n",
    "\tms2.VAR_NORM_RT_SCORE,\n",
    "\tms2.VAR_XCORR_COELUTION,\n",
    "\tms2.VAR_XCORR_COELUTION_WEIGHTED,\n",
    "\tms2.VAR_XCORR_SHAPE,\n",
    "\tms2.VAR_XCORR_SHAPE_WEIGHTED,\n",
    "\tms2.VAR_YSERIES_SCORE,\n",
    "    gst.d_score\n",
    "from precursor \n",
    "inner join PRECURSOR_PEPTIDE_MAPPING as pre_pep_map on pre_pep_map.precursor_id = precursor.id\n",
    "inner join peptide as peptide on peptide.id = pre_pep_map.peptide_id\n",
    "inner join feature on feature.precursor_id = precursor.id\n",
    "left join ghost_score_table as gst on gst.feature_id = feature.id\n",
    "left join feature_ms2 as ms2 on ms2.feature_id = feature.id \n",
    "left join feature_ms1 as ms1 on ms1.feature_id = feature.id \n",
    "inner join PEPTIDE_PROTEIN_MAPPING as pep_prot_map on pep_prot_map.peptide_id = peptide.id\n",
    "inner join protein as protein on protein.id = pep_prot_map.protein_id\n",
    "order by transition_group_id;\n",
    "\"\"\""
   ]
  },
  {
   "cell_type": "code",
   "execution_count": 12,
   "metadata": {},
   "outputs": [],
   "source": [
    "peak_groups = fetch_decoy_free(scored_data)"
   ]
  },
  {
   "cell_type": "code",
   "execution_count": 13,
   "metadata": {},
   "outputs": [],
   "source": [
    "peak_groups.rerank_groups(rerank_keys=['var_xcorr_shape'], ascending=False)"
   ]
  },
  {
   "cell_type": "code",
   "execution_count": 14,
   "metadata": {},
   "outputs": [],
   "source": [
    "second_ranking = peak_groups.select_peak_group(\n",
    "    rank=2,\n",
    "    rerank_keys=['var_xcorr_shape'], \n",
    "    ascending=False\n",
    ")"
   ]
  },
  {
   "cell_type": "code",
   "execution_count": 24,
   "metadata": {},
   "outputs": [
    {
     "data": {
      "text/plain": [
       "0.0    104218\n",
       "Name: target, dtype: int64"
      ]
     },
     "execution_count": 24,
     "metadata": {},
     "output_type": "execute_result"
    }
   ],
   "source": [
    "second_ranking.target.value_counts()"
   ]
  },
  {
   "cell_type": "code",
   "execution_count": 16,
   "metadata": {},
   "outputs": [],
   "source": [
    "second_ranking['target'] = 0.0"
   ]
  },
  {
   "cell_type": "code",
   "execution_count": 17,
   "metadata": {},
   "outputs": [],
   "source": [
    "highest_ranking = peak_groups.select_peak_group(\n",
    "    rank=1,\n",
    "    rerank_keys=['var_xcorr_shape'], \n",
    "    ascending=False\n",
    ")"
   ]
  },
  {
   "cell_type": "code",
   "execution_count": 18,
   "metadata": {},
   "outputs": [],
   "source": [
    "noisey_labels = pd.concat(\n",
    "    [\n",
    "        highest_ranking,\n",
    "        second_ranking\n",
    "    ]\n",
    ")"
   ]
  },
  {
   "cell_type": "code",
   "execution_count": 25,
   "metadata": {},
   "outputs": [
    {
     "data": {
      "text/plain": [
       "1.0    104227\n",
       "0.0    104218\n",
       "Name: target, dtype: int64"
      ]
     },
     "execution_count": 25,
     "metadata": {},
     "output_type": "execute_result"
    }
   ],
   "source": [
    "noisey_labels.target.value_counts()"
   ]
  },
  {
   "cell_type": "code",
   "execution_count": 26,
   "metadata": {},
   "outputs": [],
   "source": [
    "def preprocess_data(pipeline, data, columns, train=False):\n",
    "    \n",
    "    if train == True:\n",
    "        data.loc[\n",
    "            :,\n",
    "            ml_features\n",
    "        ] = pipeline.fit_transform(data[ml_features])\n",
    "        \n",
    "    else:\n",
    "        data.loc[\n",
    "            :,\n",
    "            ml_features\n",
    "        ] = pipeline.transform(data[ml_features])\n",
    "        \n",
    "    return data"
   ]
  },
  {
   "cell_type": "code",
   "execution_count": 27,
   "metadata": {},
   "outputs": [],
   "source": [
    "test = noisey_labels.head().index"
   ]
  },
  {
   "cell_type": "code",
   "execution_count": 28,
   "metadata": {},
   "outputs": [
    {
     "data": {
      "text/html": [
       "<div>\n",
       "<style scoped>\n",
       "    .dataframe tbody tr th:only-of-type {\n",
       "        vertical-align: middle;\n",
       "    }\n",
       "\n",
       "    .dataframe tbody tr th {\n",
       "        vertical-align: top;\n",
       "    }\n",
       "\n",
       "    .dataframe thead th {\n",
       "        text-align: right;\n",
       "    }\n",
       "</style>\n",
       "<table border=\"1\" class=\"dataframe\">\n",
       "  <thead>\n",
       "    <tr style=\"text-align: right;\">\n",
       "      <th></th>\n",
       "      <th>transition_group_id</th>\n",
       "      <th>feature_id</th>\n",
       "      <th>exp_rt</th>\n",
       "      <th>norm_rt</th>\n",
       "      <th>delta_rt</th>\n",
       "      <th>mz</th>\n",
       "      <th>charge</th>\n",
       "      <th>decoy</th>\n",
       "      <th>peptide_sequence</th>\n",
       "      <th>modified_peptide_sequence</th>\n",
       "      <th>...</th>\n",
       "      <th>var_manhattan_score</th>\n",
       "      <th>var_massdev_score_weighted</th>\n",
       "      <th>var_norm_rt_score</th>\n",
       "      <th>var_xcorr_coelution</th>\n",
       "      <th>var_xcorr_coelution_weighted</th>\n",
       "      <th>var_xcorr_shape</th>\n",
       "      <th>var_xcorr_shape_weighted</th>\n",
       "      <th>var_yseries_score</th>\n",
       "      <th>d_score</th>\n",
       "      <th>target</th>\n",
       "    </tr>\n",
       "  </thead>\n",
       "  <tbody>\n",
       "    <tr>\n",
       "      <th>3</th>\n",
       "      <td>0</td>\n",
       "      <td>8548614234701341429</td>\n",
       "      <td>4227.05</td>\n",
       "      <td>57.6627</td>\n",
       "      <td>88.1648</td>\n",
       "      <td>778.4130</td>\n",
       "      <td>2</td>\n",
       "      <td>0</td>\n",
       "      <td>AAAAAAAAAAAAAAAASAGGK</td>\n",
       "      <td>AAAAAAAAAAAAAAAASAGGK</td>\n",
       "      <td>...</td>\n",
       "      <td>0.999375</td>\n",
       "      <td>3.651938</td>\n",
       "      <td>0.030072</td>\n",
       "      <td>3.126696</td>\n",
       "      <td>1.459442</td>\n",
       "      <td>0.810617</td>\n",
       "      <td>0.743093</td>\n",
       "      <td>6.0</td>\n",
       "      <td>-0.502877</td>\n",
       "      <td>1.0</td>\n",
       "    </tr>\n",
       "    <tr>\n",
       "      <th>7</th>\n",
       "      <td>1</td>\n",
       "      <td>6047838804092893045</td>\n",
       "      <td>4514.94</td>\n",
       "      <td>67.4983</td>\n",
       "      <td>172.9970</td>\n",
       "      <td>532.9533</td>\n",
       "      <td>3</td>\n",
       "      <td>0</td>\n",
       "      <td>AAAAAAAAAAAAAAAGAGAGAK</td>\n",
       "      <td>AAAAAAAAAAAAAAAGAGAGAK</td>\n",
       "      <td>...</td>\n",
       "      <td>0.716101</td>\n",
       "      <td>19.009321</td>\n",
       "      <td>0.056882</td>\n",
       "      <td>3.016584</td>\n",
       "      <td>1.456016</td>\n",
       "      <td>0.841619</td>\n",
       "      <td>0.823447</td>\n",
       "      <td>6.0</td>\n",
       "      <td>-0.090729</td>\n",
       "      <td>1.0</td>\n",
       "    </tr>\n",
       "    <tr>\n",
       "      <th>12</th>\n",
       "      <td>2</td>\n",
       "      <td>6960795627807264926</td>\n",
       "      <td>3877.68</td>\n",
       "      <td>47.3408</td>\n",
       "      <td>102.2500</td>\n",
       "      <td>823.8739</td>\n",
       "      <td>2</td>\n",
       "      <td>0</td>\n",
       "      <td>AAAAAWEEPSSGNGTAR</td>\n",
       "      <td>AAAAAWEEPSSGN(UniMod:7)GTAR</td>\n",
       "      <td>...</td>\n",
       "      <td>0.918101</td>\n",
       "      <td>20.736291</td>\n",
       "      <td>0.091938</td>\n",
       "      <td>7.018308</td>\n",
       "      <td>4.174707</td>\n",
       "      <td>0.586513</td>\n",
       "      <td>0.485449</td>\n",
       "      <td>4.0</td>\n",
       "      <td>-1.346616</td>\n",
       "      <td>1.0</td>\n",
       "    </tr>\n",
       "    <tr>\n",
       "      <th>17</th>\n",
       "      <td>3</td>\n",
       "      <td>800290446496854400</td>\n",
       "      <td>3879.61</td>\n",
       "      <td>47.3937</td>\n",
       "      <td>88.2213</td>\n",
       "      <td>583.8062</td>\n",
       "      <td>2</td>\n",
       "      <td>0</td>\n",
       "      <td>AAATTAQEYLK</td>\n",
       "      <td>AAATTAQEYLK</td>\n",
       "      <td>...</td>\n",
       "      <td>1.861927</td>\n",
       "      <td>2.156834</td>\n",
       "      <td>0.084188</td>\n",
       "      <td>4.778372</td>\n",
       "      <td>2.451917</td>\n",
       "      <td>0.840551</td>\n",
       "      <td>0.820930</td>\n",
       "      <td>3.0</td>\n",
       "      <td>2.643545</td>\n",
       "      <td>1.0</td>\n",
       "    </tr>\n",
       "    <tr>\n",
       "      <th>20</th>\n",
       "      <td>4</td>\n",
       "      <td>6352943808608682871</td>\n",
       "      <td>4519.88</td>\n",
       "      <td>67.6665</td>\n",
       "      <td>150.0840</td>\n",
       "      <td>697.3212</td>\n",
       "      <td>2</td>\n",
       "      <td>0</td>\n",
       "      <td>ACGNFGIPCELR</td>\n",
       "      <td>AC(UniMod:4)GNFGIPC(UniMod:4)ELR</td>\n",
       "      <td>...</td>\n",
       "      <td>1.143605</td>\n",
       "      <td>5.852349</td>\n",
       "      <td>0.049643</td>\n",
       "      <td>3.964250</td>\n",
       "      <td>2.900596</td>\n",
       "      <td>0.816598</td>\n",
       "      <td>0.813970</td>\n",
       "      <td>6.0</td>\n",
       "      <td>1.880620</td>\n",
       "      <td>1.0</td>\n",
       "    </tr>\n",
       "  </tbody>\n",
       "</table>\n",
       "<p>5 rows × 43 columns</p>\n",
       "</div>"
      ],
      "text/plain": [
       "    transition_group_id           feature_id   exp_rt  norm_rt  delta_rt  \\\n",
       "3                     0  8548614234701341429  4227.05  57.6627   88.1648   \n",
       "7                     1  6047838804092893045  4514.94  67.4983  172.9970   \n",
       "12                    2  6960795627807264926  3877.68  47.3408  102.2500   \n",
       "17                    3   800290446496854400  3879.61  47.3937   88.2213   \n",
       "20                    4  6352943808608682871  4519.88  67.6665  150.0840   \n",
       "\n",
       "          mz  charge  decoy        peptide_sequence  \\\n",
       "3   778.4130       2      0   AAAAAAAAAAAAAAAASAGGK   \n",
       "7   532.9533       3      0  AAAAAAAAAAAAAAAGAGAGAK   \n",
       "12  823.8739       2      0       AAAAAWEEPSSGNGTAR   \n",
       "17  583.8062       2      0             AAATTAQEYLK   \n",
       "20  697.3212       2      0            ACGNFGIPCELR   \n",
       "\n",
       "           modified_peptide_sequence  ... var_manhattan_score  \\\n",
       "3              AAAAAAAAAAAAAAAASAGGK  ...            0.999375   \n",
       "7             AAAAAAAAAAAAAAAGAGAGAK  ...            0.716101   \n",
       "12       AAAAAWEEPSSGN(UniMod:7)GTAR  ...            0.918101   \n",
       "17                       AAATTAQEYLK  ...            1.861927   \n",
       "20  AC(UniMod:4)GNFGIPC(UniMod:4)ELR  ...            1.143605   \n",
       "\n",
       "    var_massdev_score_weighted  var_norm_rt_score  var_xcorr_coelution  \\\n",
       "3                     3.651938           0.030072             3.126696   \n",
       "7                    19.009321           0.056882             3.016584   \n",
       "12                   20.736291           0.091938             7.018308   \n",
       "17                    2.156834           0.084188             4.778372   \n",
       "20                    5.852349           0.049643             3.964250   \n",
       "\n",
       "    var_xcorr_coelution_weighted  var_xcorr_shape  var_xcorr_shape_weighted  \\\n",
       "3                       1.459442         0.810617                  0.743093   \n",
       "7                       1.456016         0.841619                  0.823447   \n",
       "12                      4.174707         0.586513                  0.485449   \n",
       "17                      2.451917         0.840551                  0.820930   \n",
       "20                      2.900596         0.816598                  0.813970   \n",
       "\n",
       "    var_yseries_score   d_score  target  \n",
       "3                 6.0 -0.502877     1.0  \n",
       "7                 6.0 -0.090729     1.0  \n",
       "12                4.0 -1.346616     1.0  \n",
       "17                3.0  2.643545     1.0  \n",
       "20                6.0  1.880620     1.0  \n",
       "\n",
       "[5 rows x 43 columns]"
      ]
     },
     "execution_count": 28,
     "metadata": {},
     "output_type": "execute_result"
    }
   ],
   "source": [
    "noisey_labels.loc[\n",
    "    test\n",
    "]"
   ]
  },
  {
   "cell_type": "code",
   "execution_count": null,
   "metadata": {},
   "outputs": [],
   "source": []
  },
  {
   "cell_type": "code",
   "execution_count": 29,
   "metadata": {},
   "outputs": [],
   "source": [
    "class DenoizingFold:\n",
    "    \n",
    "    def __init__(self, data_indices, classifiers, scaling_pipeline):\n",
    "        self.indices = data_indices\n",
    "        self.classifiers = classifiers\n",
    "        self.scaling_pipeline = scaling_pipeline"
   ]
  },
  {
   "cell_type": "code",
   "execution_count": 30,
   "metadata": {},
   "outputs": [],
   "source": [
    "from sklearn.linear_model import SGDClassifier\n",
    "from sklearn.preprocessing import StandardScaler\n",
    "from sklearn.pipeline import Pipeline\n",
    "from sklearn.utils import resample\n",
    "\n",
    "import numpy as np\n",
    "\n",
    "class DenoizingClassifier:\n",
    "    \n",
    "    def __init__(self, target_label, columns):\n",
    "        self.columns = columns\n",
    "        self.label = target_label\n",
    "        \n",
    "        \n",
    "    def fit(self, data, num_classifiers=250, folds=10):\n",
    "        \n",
    "        self.data = data\n",
    "        \n",
    "        self.denoizing_folds = list()\n",
    "        \n",
    "        shuffled_peak_groups = data.sample(frac=1)\n",
    "        \n",
    "        split_data = np.array_split(shuffled_peak_groups, folds)\n",
    "        \n",
    "        for idx, fold_data in enumerate(split_data):\n",
    "            \n",
    "            training_data = pd.concat(\n",
    "                [df for i, df in enumerate(split_data) if i != idx]\n",
    "            )\n",
    "            \n",
    "            full_pipeline = Pipeline([\n",
    "                ('standard_scaler', StandardScaler()),\n",
    "            ])\n",
    "\n",
    "            swath_training_prepared = training_data.copy()\n",
    "            \n",
    "            swath_training_prepared[self.columns] = full_pipeline.fit_transform(\n",
    "                swath_training_prepared[self.columns]\n",
    "            )\n",
    "            \n",
    "            n_samples = int(len(swath_training_prepared) * 0.10)\n",
    "            \n",
    "            print(\n",
    "                f'''Training for fold {idx=} training size={len(swath_training_prepared)} testing_size={len(fold_data)} {n_samples=} for bagging'''\n",
    "            )\n",
    "            \n",
    "            classifiers = list()\n",
    "            \n",
    "            for bagged_classifier in range(num_classifiers):\n",
    "                \n",
    "                denoizing_classifier = SGDClassifier(\n",
    "                    alpha=1e-05,\n",
    "                    average=True,\n",
    "                    loss='hinge',\n",
    "                    max_iter=1000,\n",
    "                    penalty='l2',\n",
    "                    shuffle=True,\n",
    "                    tol=0.0001,\n",
    "                    learning_rate='adaptive',\n",
    "                    eta0=0.001,\n",
    "                    fit_intercept=True,\n",
    "                    random_state=bagged_classifier\n",
    "                )\n",
    "                \n",
    "                sampled_training_data = resample(\n",
    "                    swath_training_prepared,\n",
    "                    replace=True,\n",
    "                    n_samples=n_samples,\n",
    "                    random_state=bagged_classifier\n",
    "                )\n",
    "\n",
    "                sgd_classifier = denoizing_classifier.fit(\n",
    "                    sampled_training_data[self.columns], \n",
    "                    sampled_training_data[self.label]\n",
    "                )\n",
    "                \n",
    "                \n",
    "                \n",
    "                classifiers.append(sgd_classifier)\n",
    "            \n",
    "            self.denoizing_folds.append(\n",
    "                DenoizingFold(\n",
    "                    data_indices=fold_data.index,\n",
    "                    classifiers=classifiers,\n",
    "                    scaling_pipeline=full_pipeline\n",
    "                )\n",
    "            )\n",
    "            \n",
    "    def vote(self):\n",
    "        \n",
    "        scored_data = list()\n",
    "        \n",
    "        for denoizing_fold in self.denoizing_folds:\n",
    "            \n",
    "            classifier_columns = list()\n",
    "            \n",
    "            subset = self.data.loc[\n",
    "                denoizing_fold.indices\n",
    "            ]\n",
    "            \n",
    "            testing_prepared = subset.copy()\n",
    "            \n",
    "            testing_prepared[self.columns] = denoizing_fold.scaling_pipeline.transform(\n",
    "                testing_prepared[self.columns]\n",
    "            )\n",
    "            \n",
    "            print(len(denoizing_fold.classifiers))\n",
    "            \n",
    "            for num_classifier, classifier in enumerate(denoizing_fold.classifiers):\n",
    "                \n",
    "                \n",
    "                classifier_key = f\"num_{num_classifier}\"\n",
    "                \n",
    "                classifier_columns.append(classifier_key)\n",
    "                \n",
    "                testing_prepared[classifier_key] = classifier.predict(\n",
    "                    testing_prepared[self.columns]\n",
    "                )\n",
    "                \n",
    "            testing_prepared['target_vote_percentage'] = testing_prepared[classifier_columns].sum(axis=1) / len(classifier_columns)\n",
    "\n",
    "            \n",
    "            scored_data.append(\n",
    "                testing_prepared[\n",
    "                    ['transition_group_id', 'target_vote_percentage']\n",
    "                ]\n",
    "            )\n",
    "            \n",
    "        scored_data = pd.concat(\n",
    "            scored_data\n",
    "        )\n",
    "        \n",
    "        return scored_data['target_vote_percentage']\n",
    "    \n",
    "    def predict_average_score(self):\n",
    "        \n",
    "        scored_data = list()\n",
    "        \n",
    "        for denoizing_fold in self.denoizing_folds:\n",
    "            \n",
    "            classifier_columns = list()\n",
    "            \n",
    "            subset = self.data.loc[\n",
    "                denoizing_fold.indices\n",
    "            ]\n",
    "            \n",
    "            testing_prepared = subset.copy()\n",
    "            \n",
    "            testing_prepared[self.columns] = denoizing_fold.scaling_pipeline.transform(\n",
    "                testing_prepared[self.columns]\n",
    "            )\n",
    "            \n",
    "            print(len(denoizing_fold.classifiers))\n",
    "            \n",
    "            for num_classifier, classifier in enumerate(denoizing_fold.classifiers):\n",
    "                \n",
    "                \n",
    "                classifier_key = f\"num_{num_classifier}\"\n",
    "                \n",
    "                classifier_columns.append(classifier_key)\n",
    "                \n",
    "                testing_prepared[classifier_key] = classifier.decision_function(\n",
    "                    testing_prepared[self.columns]\n",
    "                )\n",
    "                \n",
    "            testing_prepared['average_combined_score'] = testing_prepared[classifier_columns].mean(axis=1)\n",
    "\n",
    "            \n",
    "            scored_data.append(\n",
    "                testing_prepared[\n",
    "                    ['transition_group_id', 'average_combined_score']\n",
    "                ]\n",
    "            )\n",
    "            \n",
    "        scored_data = pd.concat(\n",
    "            scored_data\n",
    "        )\n",
    "        \n",
    "        return scored_data['average_combined_score']\n",
    "        \n",
    "            \n",
    "        "
   ]
  },
  {
   "cell_type": "code",
   "execution_count": 31,
   "metadata": {},
   "outputs": [],
   "source": [
    "denoizing_classifier = DenoizingClassifier(target_label='target', columns=peak_groups.ml_features)"
   ]
  },
  {
   "cell_type": "code",
   "execution_count": 32,
   "metadata": {},
   "outputs": [
    {
     "name": "stdout",
     "output_type": "stream",
     "text": [
      "Training for fold idx=0 training size=187600 testing_size=20845 n_samples=18760 for bagging\n",
      "Training for fold idx=1 training size=187600 testing_size=20845 n_samples=18760 for bagging\n",
      "Training for fold idx=2 training size=187600 testing_size=20845 n_samples=18760 for bagging\n",
      "Training for fold idx=3 training size=187600 testing_size=20845 n_samples=18760 for bagging\n",
      "Training for fold idx=4 training size=187600 testing_size=20845 n_samples=18760 for bagging\n",
      "Training for fold idx=5 training size=187601 testing_size=20844 n_samples=18760 for bagging\n",
      "Training for fold idx=6 training size=187601 testing_size=20844 n_samples=18760 for bagging\n",
      "Training for fold idx=7 training size=187601 testing_size=20844 n_samples=18760 for bagging\n",
      "Training for fold idx=8 training size=187601 testing_size=20844 n_samples=18760 for bagging\n",
      "Training for fold idx=9 training size=187601 testing_size=20844 n_samples=18760 for bagging\n"
     ]
    }
   ],
   "source": [
    "denoizing_classifier.fit(\n",
    "    data=noisey_labels,\n",
    "    folds=10,\n",
    "    num_classifiers=250\n",
    ")"
   ]
  },
  {
   "cell_type": "code",
   "execution_count": 33,
   "metadata": {},
   "outputs": [
    {
     "name": "stdout",
     "output_type": "stream",
     "text": [
      "250\n",
      "250\n",
      "250\n",
      "250\n",
      "250\n",
      "250\n",
      "250\n",
      "250\n",
      "250\n",
      "250\n"
     ]
    }
   ],
   "source": [
    "noisey_labels['vote_percentage'] = denoizing_classifier.vote()"
   ]
  },
  {
   "cell_type": "code",
   "execution_count": 29,
   "metadata": {},
   "outputs": [
    {
     "name": "stdout",
     "output_type": "stream",
     "text": [
      "250\n",
      "250\n",
      "250\n",
      "250\n",
      "250\n",
      "250\n",
      "250\n",
      "250\n",
      "250\n",
      "250\n"
     ]
    }
   ],
   "source": [
    "#noisey_labels['average_combined_score'] = denoizing_classifier.predict_average_score()"
   ]
  },
  {
   "cell_type": "code",
   "execution_count": 34,
   "metadata": {},
   "outputs": [
    {
     "data": {
      "text/plain": [
       "1.000    92367\n",
       "0.000    70789\n",
       "0.996     3050\n",
       "0.004     2094\n",
       "0.992     1644\n",
       "         ...  \n",
       "0.328       72\n",
       "0.392       71\n",
       "0.412       70\n",
       "0.520       70\n",
       "0.476       63\n",
       "Name: vote_percentage, Length: 251, dtype: int64"
      ]
     },
     "execution_count": 34,
     "metadata": {},
     "output_type": "execute_result"
    }
   ],
   "source": [
    "noisey_labels['vote_percentage'].value_counts()"
   ]
  },
  {
   "cell_type": "code",
   "execution_count": null,
   "metadata": {},
   "outputs": [],
   "source": []
  },
  {
   "cell_type": "code",
   "execution_count": 35,
   "metadata": {},
   "outputs": [],
   "source": [
    "cutoff = 1.0"
   ]
  },
  {
   "cell_type": "code",
   "execution_count": 36,
   "metadata": {},
   "outputs": [
    {
     "data": {
      "text/plain": [
       "<matplotlib.axes._subplots.AxesSubplot at 0x7f8eeff3fe80>"
      ]
     },
     "execution_count": 36,
     "metadata": {},
     "output_type": "execute_result"
    },
    {
     "data": {
      "image/png": "[encoded data removed]",
      "text/plain": [
       "<Figure size 432x288 with 1 Axes>"
      ]
     },
     "metadata": {
      "needs_background": "light"
     },
     "output_type": "display_data"
    }
   ],
   "source": [
    "noisey_labels['vote_percentage'].hist(bins=50)"
   ]
  },
  {
   "cell_type": "code",
   "execution_count": 37,
   "metadata": {},
   "outputs": [],
   "source": [
    "noisey_labels['alt_d_score'] = np.exp(noisey_labels['vote_percentage']) * noisey_labels['d_score']"
   ]
  },
  {
   "cell_type": "code",
   "execution_count": 38,
   "metadata": {},
   "outputs": [
    {
     "data": {
      "text/plain": [
       "1.0    104227\n",
       "0.0    104218\n",
       "Name: target, dtype: int64"
      ]
     },
     "execution_count": 38,
     "metadata": {},
     "output_type": "execute_result"
    }
   ],
   "source": [
    "noisey_labels.target.value_counts()"
   ]
  },
  {
   "cell_type": "code",
   "execution_count": 39,
   "metadata": {},
   "outputs": [],
   "source": [
    "targets = noisey_labels[noisey_labels['target'] == 1.0].copy()\n"
   ]
  },
  {
   "cell_type": "code",
   "execution_count": 40,
   "metadata": {},
   "outputs": [],
   "source": [
    "true_targets = targets[\n",
    "    targets['vote_percentage'] >= cutoff\n",
    "].copy()"
   ]
  },
  {
   "cell_type": "code",
   "execution_count": 41,
   "metadata": {},
   "outputs": [],
   "source": [
    "false_targets = targets[\n",
    "    targets['vote_percentage'] < cutoff\n",
    "].copy()"
   ]
  },
  {
   "cell_type": "code",
   "execution_count": 51,
   "metadata": {},
   "outputs": [],
   "source": [
    "second_rank = noisey_labels[noisey_labels['target'] == 0.0].copy()"
   ]
  },
  {
   "cell_type": "code",
   "execution_count": 42,
   "metadata": {},
   "outputs": [],
   "source": [
    "false_targets['target'] = 0.0"
   ]
  },
  {
   "cell_type": "code",
   "execution_count": 43,
   "metadata": {},
   "outputs": [],
   "source": [
    "target_data = pd.concat([true_targets, false_targets])"
   ]
  },
  {
   "cell_type": "code",
   "execution_count": 44,
   "metadata": {},
   "outputs": [
    {
     "data": {
      "text/plain": [
       "1.0    60489\n",
       "0.0    43738\n",
       "Name: target, dtype: int64"
      ]
     },
     "execution_count": 44,
     "metadata": {},
     "output_type": "execute_result"
    }
   ],
   "source": [
    "target_data.target.value_counts()"
   ]
  },
  {
   "cell_type": "code",
   "execution_count": null,
   "metadata": {},
   "outputs": [],
   "source": []
  },
  {
   "cell_type": "code",
   "execution_count": 84,
   "metadata": {},
   "outputs": [
    {
     "name": "stderr",
     "output_type": "stream",
     "text": [
      "<ipython-input-84-be25f76da6ca>:26: UserWarning: Matplotlib is currently using module://ipykernel.pylab.backend_inline, which is a non-GUI backend, so cannot show the figure.\n",
      "  test.show()\n"
     ]
    },
    {
     "data": {
      "image/png": "[encoded data removed]",
      "text/plain": [
       "<Figure size 1008x720 with 1 Axes>"
      ]
     },
     "metadata": {
      "needs_background": "light"
     },
     "output_type": "display_data"
    }
   ],
   "source": [
    "import matplotlib.pyplot as pyplot\n",
    "from matplotlib.pyplot import figure\n",
    "\n",
    "test = figure(figsize=(14, 10))\n",
    "\n",
    "bins = 100\n",
    "\n",
    "corr_n, corr_bins, _ = pyplot.hist(\n",
    "    target_data[\n",
    "        target_data['target'] == 1.0\n",
    "    ]['alt_d_score'], bins=bins, histtype='step', alpha=0.5, label='Targets')\n",
    "\n",
    "\n",
    "incorr_n, incorr_bins, _ = pyplot.hist(\n",
    "    target_data[\n",
    "        target_data['target'] == 0.0\n",
    "    ]['alt_d_score'], \n",
    "    bins=bins, \n",
    "    histtype='step', \n",
    "    alpha=0.5, \n",
    "    label='False Targets')\n",
    "\n",
    "\n",
    "test.legend(loc='upper right')\n",
    "#pyplot.axis([-5, 5, 0, 2000])\n",
    "test.show()"
   ]
  },
  {
   "cell_type": "code",
   "execution_count": 85,
   "metadata": {},
   "outputs": [],
   "source": [
    "from scipy.interpolate import InterpolatedUnivariateSpline, CubicSpline\n",
    "\n"
   ]
  },
  {
   "cell_type": "code",
   "execution_count": 86,
   "metadata": {},
   "outputs": [],
   "source": [
    "target_bins = list()\n",
    "lower_edges = range(0, len(corr_bins)-1)\n",
    "upper_edges = range(1, len(corr_bins))\n",
    "\n",
    "for lower_edge, upper_edge in zip(lower_edges, upper_edges):\n",
    "    target_bins.append(((corr_bins[upper_edge] + corr_bins[lower_edge]) / 2))\n",
    "\n",
    "\n",
    "null_bins = list()\n",
    "lower_edges = range(0, len(incorr_bins)-1)\n",
    "upper_edges = range(1, len(incorr_bins))\n",
    "for lower_edge, upper_edge in zip(lower_edges, upper_edges):\n",
    "    null_bins.append(((incorr_bins[upper_edge] + incorr_bins[lower_edge])/2))\n",
    "\n",
    "\n",
    "target_values = list()\n",
    "for idx, value in enumerate(corr_n):\n",
    "    target_values.append(value)\n",
    "\n",
    "\n",
    "null_values = list()\n",
    "for idx, value in enumerate(incorr_n):\n",
    "    null_values.append(value)\n"
   ]
  },
  {
   "cell_type": "code",
   "execution_count": 87,
   "metadata": {},
   "outputs": [],
   "source": [
    "\n",
    "import statsmodels.api as sm\n",
    "\n",
    "target_lowess = sm.nonparametric.lowess(target_values, target_bins, frac=0.03)\n",
    "target_x = list(zip(*target_lowess))[0]\n",
    "target_y = list(zip(*target_lowess))[1]\n",
    "\n",
    "decoy_lowess = sm.nonparametric.lowess(null_values, null_bins, frac=0.03)\n",
    "decoy_x = list(zip(*decoy_lowess))[0]\n",
    "decoy_y = list(zip(*decoy_lowess))[1]\n",
    "\n",
    "\n",
    "target_distribution = InterpolatedUnivariateSpline(target_x, target_y, ext=3, k=1)\n",
    "null_distribution = InterpolatedUnivariateSpline(decoy_x, decoy_y, ext=3, k=1)"
   ]
  },
  {
   "cell_type": "code",
   "execution_count": 88,
   "metadata": {},
   "outputs": [
    {
     "data": {
      "text/plain": [
       "60489"
      ]
     },
     "execution_count": 88,
     "metadata": {},
     "output_type": "execute_result"
    }
   ],
   "source": [
    "len(target_data[target_data['target'] == 1])"
   ]
  },
  {
   "cell_type": "code",
   "execution_count": 91,
   "metadata": {},
   "outputs": [
    {
     "data": {
      "image/png": "[encoded data removed]",
      "text/plain": [
       "<Figure size 1008x720 with 1 Axes>"
      ]
     },
     "metadata": {
      "needs_background": "light"
     },
     "output_type": "display_data"
    }
   ],
   "source": [
    "dist_figure = figure(figsize=(14, 10))\n",
    "\n",
    "corr_n, corr_bins, _ = pyplot.hist(\n",
    "    target_data[\n",
    "        target_data['target'] == 1.0\n",
    "    ]['alt_d_score'], bins=bins, histtype='stepfilled', alpha=0.5, label='Targets')\n",
    "\n",
    "\n",
    "incorr_n, incorr_bins, _ = pyplot.hist(\n",
    "    target_data[\n",
    "        target_data['target'] == 0.0\n",
    "    ]['alt_d_score'], \n",
    "    bins=bins, \n",
    "    histtype='stepfilled', \n",
    "    alpha=0.5, \n",
    "    label='False Targets')\n",
    "\n",
    "\n",
    "pyplot.plot(target_bins, target_distribution(target_bins), )\n",
    "pyplot.plot(null_bins, null_distribution(null_bins))\n",
    "pyplot.legend(loc='upper right')\n",
    "pyplot.show()\n"
   ]
  },
  {
   "cell_type": "code",
   "execution_count": 92,
   "metadata": {},
   "outputs": [],
   "source": [
    "def calc_q_value(prob_score, target_dist, null_dist):\n",
    "    try:\n",
    "        null_area = null_dist.integral(a=prob_score, b=decoy_x[-1])\n",
    "        total_area = null_area + target_dist.integral(a=prob_score, b=target_x[-1])\n",
    "        return null_area / total_area\n",
    "    except ZeroDivisionError:\n",
    "        if prob_score < incorr_bins[0]:\n",
    "            return 1.0\n",
    "        elif prob_score > corr_bins[-1]:\n",
    "            return 0.0"
   ]
  },
  {
   "cell_type": "code",
   "execution_count": 93,
   "metadata": {},
   "outputs": [],
   "source": [
    "target_data['q_value'] = target_data['alt_d_score'].apply(\n",
    "    calc_q_value, \n",
    "    target_dist=target_distribution, \n",
    "    null_dist=null_distribution\n",
    ")"
   ]
  },
  {
   "cell_type": "code",
   "execution_count": 110,
   "metadata": {},
   "outputs": [],
   "source": [
    "cutoff = 0.01"
   ]
  },
  {
   "cell_type": "code",
   "execution_count": 111,
   "metadata": {},
   "outputs": [],
   "source": [
    "pass_threshold = target_data[(target_data['q_value'] <= cutoff)].copy()"
   ]
  },
  {
   "cell_type": "code",
   "execution_count": 112,
   "metadata": {},
   "outputs": [
    {
     "data": {
      "text/plain": [
       "0.022364821855592066"
      ]
     },
     "execution_count": 112,
     "metadata": {},
     "output_type": "execute_result"
    }
   ],
   "source": [
    "len(pass_threshold[pass_threshold['target'] == 0.0]) / len(pass_threshold[pass_threshold['target'] == 1.0])"
   ]
  },
  {
   "cell_type": "code",
   "execution_count": 114,
   "metadata": {},
   "outputs": [],
   "source": [
    "def combined(peptide, charge):\n",
    "    \n",
    "    return '{}_{}'.format(peptide, charge)"
   ]
  },
  {
   "cell_type": "code",
   "execution_count": 115,
   "metadata": {},
   "outputs": [],
   "source": [
    "pass_threshold['peptide_sequence_charge'] = pass_threshold.apply(\n",
    "    lambda row: combined(row['peptide_sequence'], row['charge']),\n",
    "    axis=1\n",
    ")"
   ]
  },
  {
   "cell_type": "code",
   "execution_count": 116,
   "metadata": {},
   "outputs": [],
   "source": [
    "test = pass_threshold['peptide_sequence_charge'].value_counts()"
   ]
  },
  {
   "cell_type": "code",
   "execution_count": 117,
   "metadata": {},
   "outputs": [],
   "source": [
    "test = pd.DataFrame(\n",
    "    test\n",
    ").reset_index()"
   ]
  },
  {
   "cell_type": "code",
   "execution_count": 118,
   "metadata": {},
   "outputs": [],
   "source": [
    "test = test[test['peptide_sequence_charge'] == 1].copy()"
   ]
  },
  {
   "cell_type": "code",
   "execution_count": 119,
   "metadata": {},
   "outputs": [],
   "source": [
    "peptide_list = list(test['index'])"
   ]
  },
  {
   "cell_type": "code",
   "execution_count": 120,
   "metadata": {},
   "outputs": [],
   "source": [
    "pass_threshold = pass_threshold.loc[\n",
    "    pass_threshold.peptide_sequence_charge.isin(peptide_list)\n",
    "].copy()"
   ]
  },
  {
   "cell_type": "code",
   "execution_count": null,
   "metadata": {},
   "outputs": [],
   "source": []
  },
  {
   "cell_type": "code",
   "execution_count": 121,
   "metadata": {},
   "outputs": [
    {
     "data": {
      "text/plain": [
       "9756"
      ]
     },
     "execution_count": 121,
     "metadata": {},
     "output_type": "execute_result"
    }
   ],
   "source": [
    "len(pass_threshold[pass_threshold['target'] == 1.0].groupby(['protein_accession']))"
   ]
  },
  {
   "cell_type": "code",
   "execution_count": 122,
   "metadata": {},
   "outputs": [],
   "source": [
    "protein_groups = pass_threshold[pass_threshold['target'] == 1.0].groupby(['protein_accession'])"
   ]
  },
  {
   "cell_type": "code",
   "execution_count": 123,
   "metadata": {},
   "outputs": [],
   "source": [
    "pg_df = [group for _, group in protein_groups]\n",
    "\n"
   ]
  },
  {
   "cell_type": "code",
   "execution_count": 124,
   "metadata": {},
   "outputs": [],
   "source": [
    "protein_groups = list()\n",
    "for group in pg_df:\n",
    "    if len(group) >= 2:\n",
    "        protein_groups.append(group)"
   ]
  },
  {
   "cell_type": "code",
   "execution_count": 125,
   "metadata": {},
   "outputs": [
    {
     "data": {
      "text/plain": [
       "6668"
      ]
     },
     "execution_count": 125,
     "metadata": {},
     "output_type": "execute_result"
    }
   ],
   "source": [
    "len(protein_groups)"
   ]
  },
  {
   "cell_type": "code",
   "execution_count": null,
   "metadata": {},
   "outputs": [],
   "source": []
  }
 ],
 "metadata": {
  "kernelspec": {
   "display_name": "Python 3",
   "language": "python",
   "name": "python3"
  },
  "language_info": {
   "codemirror_mode": {
    "name": "ipython",
    "version": 3
   },
   "file_extension": ".py",
   "mimetype": "text/x-python",
   "name": "python",
   "nbconvert_exporter": "python",
   "pygments_lexer": "ipython3",
   "version": "3.8.0"
  }
 },
 "nbformat": 4,
 "nbformat_minor": 4
}
