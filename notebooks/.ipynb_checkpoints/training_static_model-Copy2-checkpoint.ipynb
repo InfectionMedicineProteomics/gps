{
 "cells": [
  {
   "cell_type": "code",
   "execution_count": 1,
   "metadata": {},
   "outputs": [],
   "source": [
    "import pandas as pd\n",
    "\n",
    "from gscore.osw.peakgroups import fetch_peak_groups\n",
    "from gscore.osw.queries import (\n",
    "    FETCH_UNSCORED_PEAK_GROUPS,\n",
    "    FETCH_UNSCORED_PEAK_GROUPS_DECOY_FREE,\n",
    "    CREATE_GHOSTSCORE_TABLE\n",
    ")\n",
    "from gscore.models.denoiser import DenoizingClassifier\n",
    "from gscore.osw.connection import create_table"
   ]
  },
  {
   "cell_type": "code",
   "execution_count": 2,
   "metadata": {},
   "outputs": [],
   "source": [
    "osw_path = '/home/aaron/projects/ghost/data/hatlas/openswath/Simon_S1607_248.osw'"
   ]
  },
  {
   "cell_type": "code",
   "execution_count": 3,
   "metadata": {},
   "outputs": [],
   "source": [
    "peak_groups = fetch_peak_groups(\n",
    "    host=osw_path,\n",
    "    query=FETCH_UNSCORED_PEAK_GROUPS_DECOY_FREE\n",
    ")"
   ]
  },
  {
   "cell_type": "code",
   "execution_count": 4,
   "metadata": {},
   "outputs": [
    {
     "data": {
      "text/plain": [
       "0    0.772583\n",
       "1    0.589491\n",
       "2    0.552479\n",
       "3    0.810617\n",
       "4    0.414042\n",
       "Name: var_xcorr_shape, dtype: float64"
      ]
     },
     "execution_count": 4,
     "metadata": {},
     "output_type": "execute_result"
    }
   ],
   "source": [
    "peak_groups.peak_groups[0].peak_group['var_xcorr_shape']"
   ]
  },
  {
   "cell_type": "code",
   "execution_count": 5,
   "metadata": {},
   "outputs": [],
   "source": [
    "peak_groups.rerank_groups(rerank_keys=['var_xcorr_shape'], ascending=False)"
   ]
  },
  {
   "cell_type": "code",
   "execution_count": 6,
   "metadata": {},
   "outputs": [
    {
     "data": {
      "text/plain": [
       "3    0.810617\n",
       "0    0.772583\n",
       "1    0.589491\n",
       "2    0.552479\n",
       "4    0.414042\n",
       "Name: var_xcorr_shape, dtype: float64"
      ]
     },
     "execution_count": 6,
     "metadata": {},
     "output_type": "execute_result"
    }
   ],
   "source": [
    "peak_groups.peak_groups[0].peak_group['var_xcorr_shape']"
   ]
  },
  {
   "cell_type": "code",
   "execution_count": 7,
   "metadata": {},
   "outputs": [],
   "source": [
    "second_ranking = peak_groups.select_peak_group(\n",
    "    rank=2,\n",
    "    rerank_keys=['var_xcorr_shape'], \n",
    "    ascending=False\n",
    ")"
   ]
  },
  {
   "cell_type": "code",
   "execution_count": 8,
   "metadata": {},
   "outputs": [
    {
     "data": {
      "text/plain": [
       "1.0    104218\n",
       "Name: target, dtype: int64"
      ]
     },
     "execution_count": 8,
     "metadata": {},
     "output_type": "execute_result"
    }
   ],
   "source": [
    "second_ranking.target.value_counts()"
   ]
  },
  {
   "cell_type": "code",
   "execution_count": 9,
   "metadata": {},
   "outputs": [],
   "source": [
    "second_ranking['target'] = 0.0"
   ]
  },
  {
   "cell_type": "code",
   "execution_count": 10,
   "metadata": {},
   "outputs": [],
   "source": [
    "highest_ranking = peak_groups.select_peak_group(\n",
    "    rank=1,\n",
    "    rerank_keys=['var_xcorr_shape'], \n",
    "    ascending=False\n",
    ")"
   ]
  },
  {
   "cell_type": "code",
   "execution_count": 11,
   "metadata": {},
   "outputs": [],
   "source": [
    "noisey_labels = pd.concat(\n",
    "    [\n",
    "        highest_ranking,\n",
    "        second_ranking\n",
    "    ]\n",
    ")"
   ]
  },
  {
   "cell_type": "code",
   "execution_count": 12,
   "metadata": {},
   "outputs": [
    {
     "data": {
      "text/plain": [
       "1.0    104227\n",
       "0.0    104218\n",
       "Name: target, dtype: int64"
      ]
     },
     "execution_count": 12,
     "metadata": {},
     "output_type": "execute_result"
    }
   ],
   "source": [
    "noisey_labels.target.value_counts()"
   ]
  },
  {
   "cell_type": "code",
   "execution_count": 13,
   "metadata": {},
   "outputs": [],
   "source": [
    "denoizing_classifier = DenoizingClassifier(target_label='target', columns=peak_groups.ml_features)"
   ]
  },
  {
   "cell_type": "code",
   "execution_count": 14,
   "metadata": {},
   "outputs": [
    {
     "name": "stdout",
     "output_type": "stream",
     "text": [
      "Training for fold idx=0 training size=187600 testing_size=20845 n_samples=18760 for bagging\n",
      "Training for fold idx=1 training size=187600 testing_size=20845 n_samples=18760 for bagging\n",
      "Training for fold idx=2 training size=187600 testing_size=20845 n_samples=18760 for bagging\n",
      "Training for fold idx=3 training size=187600 testing_size=20845 n_samples=18760 for bagging\n",
      "Training for fold idx=4 training size=187600 testing_size=20845 n_samples=18760 for bagging\n",
      "Training for fold idx=5 training size=187601 testing_size=20844 n_samples=18760 for bagging\n",
      "Training for fold idx=6 training size=187601 testing_size=20844 n_samples=18760 for bagging\n",
      "Training for fold idx=7 training size=187601 testing_size=20844 n_samples=18760 for bagging\n",
      "Training for fold idx=8 training size=187601 testing_size=20844 n_samples=18760 for bagging\n",
      "Training for fold idx=9 training size=187601 testing_size=20844 n_samples=18760 for bagging\n"
     ]
    }
   ],
   "source": [
    "denoizing_classifier.fit(\n",
    "    data=noisey_labels,\n",
    "    folds=10,\n",
    "    num_classifiers=500\n",
    ")"
   ]
  },
  {
   "cell_type": "code",
   "execution_count": 15,
   "metadata": {},
   "outputs": [
    {
     "name": "stdout",
     "output_type": "stream",
     "text": [
      "500\n",
      "500\n",
      "500\n",
      "500\n",
      "500\n",
      "500\n",
      "500\n",
      "500\n",
      "500\n",
      "500\n"
     ]
    }
   ],
   "source": [
    "noisey_labels['vote_percentage'] = denoizing_classifier.vote()"
   ]
  },
  {
   "cell_type": "code",
   "execution_count": 17,
   "metadata": {},
   "outputs": [
    {
     "data": {
      "text/plain": [
       "1.000    90642\n",
       "0.000    69221\n",
       "0.998     2871\n",
       "0.002     2017\n",
       "0.996     1555\n",
       "         ...  \n",
       "0.560       32\n",
       "0.422       30\n",
       "0.402       30\n",
       "0.458       29\n",
       "0.466       27\n",
       "Name: vote_percentage, Length: 501, dtype: int64"
      ]
     },
     "execution_count": 17,
     "metadata": {},
     "output_type": "execute_result"
    }
   ],
   "source": [
    "noisey_labels['vote_percentage'].value_counts()"
   ]
  },
  {
   "cell_type": "code",
   "execution_count": 18,
   "metadata": {},
   "outputs": [],
   "source": [
    "create_table(osw_path, CREATE_GHOSTSCORE_TABLE)"
   ]
  },
  {
   "cell_type": "code",
   "execution_count": 19,
   "metadata": {},
   "outputs": [],
   "source": [
    "cutoff = 1.0"
   ]
  },
  {
   "cell_type": "code",
   "execution_count": 20,
   "metadata": {},
   "outputs": [],
   "source": [
    "record_updates = noisey_labels[\n",
    "    [\n",
    "        'feature_id',\n",
    "        'vote_percentage'\n",
    "    ]\n",
    "]"
   ]
  },
  {
   "cell_type": "code",
   "execution_count": 21,
   "metadata": {},
   "outputs": [],
   "source": [
    "feature_ids = list(record_updates['feature_id'])\n",
    "votes = list(record_updates['vote_percentage'])"
   ]
  },
  {
   "cell_type": "code",
   "execution_count": 23,
   "metadata": {},
   "outputs": [],
   "source": [
    "record_updates = list()\n",
    "for feature_id, vote in zip(feature_ids, votes):\n",
    "    record_updates.append(\n",
    "        {'feature_id': feature_id,\n",
    "         'vote_percentage': vote}\n",
    "    )"
   ]
  },
  {
   "cell_type": "code",
   "execution_count": 25,
   "metadata": {},
   "outputs": [],
   "source": [
    "from gscore.osw.connection import OSWConnection\n",
    "\n",
    "with OSWConnection(osw_path) as conn:\n",
    "    conn.add_records(\n",
    "        table_name='ghost_score_table', records=record_updates\n",
    "    )"
   ]
  },
  {
   "cell_type": "markdown",
   "metadata": {},
   "source": [
    "# Train model script"
   ]
  },
  {
   "cell_type": "code",
   "execution_count": 4,
   "metadata": {},
   "outputs": [],
   "source": [
    "from gscore.osw.queries import FETCH_VOTED_DATA"
   ]
  },
  {
   "cell_type": "code",
   "execution_count": 6,
   "metadata": {},
   "outputs": [],
   "source": [
    "peak_groups = fetch_peak_groups(host=osw_path, query=FETCH_VOTED_DATA)"
   ]
  },
  {
   "cell_type": "code",
   "execution_count": 7,
   "metadata": {},
   "outputs": [],
   "source": [
    "peak_groups.rerank_groups(rerank_keys=['var_xcorr_shape'], ascending=False)"
   ]
  },
  {
   "cell_type": "code",
   "execution_count": 8,
   "metadata": {},
   "outputs": [],
   "source": [
    "highest_ranking = peak_groups.select_peak_group(\n",
    "    rank=1,\n",
    "    rerank_keys=['var_xcorr_shape'], \n",
    "    ascending=False\n",
    ")"
   ]
  },
  {
   "cell_type": "code",
   "execution_count": 9,
   "metadata": {},
   "outputs": [
    {
     "data": {
      "text/plain": [
       "1.0    104227\n",
       "Name: target, dtype: int64"
      ]
     },
     "execution_count": 9,
     "metadata": {},
     "output_type": "execute_result"
    }
   ],
   "source": [
    "highest_ranking.target.value_counts()"
   ]
  },
  {
   "cell_type": "code",
   "execution_count": 11,
   "metadata": {},
   "outputs": [],
   "source": [
    "cutoff = 1.0"
   ]
  },
  {
   "cell_type": "code",
   "execution_count": 12,
   "metadata": {},
   "outputs": [],
   "source": [
    "targets = highest_ranking[\n",
    "    (highest_ranking['vote_percentage'] >= cutoff)\n",
    "].copy()"
   ]
  },
  {
   "cell_type": "code",
   "execution_count": 13,
   "metadata": {},
   "outputs": [],
   "source": [
    "import tensorflow as tf\n",
    "\n",
    "from tensorflow import keras\n",
    "\n",
    "from sklearn.model_selection import train_test_split\n",
    "\n",
    "import matplotlib.pyplot as plt"
   ]
  },
  {
   "cell_type": "code",
   "execution_count": 14,
   "metadata": {},
   "outputs": [],
   "source": [
    "decoys = highest_ranking[\n",
    "    (highest_ranking['vote_percentage'] < cutoff)\n",
    "].copy()"
   ]
  },
  {
   "cell_type": "code",
   "execution_count": 15,
   "metadata": {},
   "outputs": [],
   "source": [
    "decoys['target'] = 0.0\n",
    "targets['target'] = 1.0"
   ]
  },
  {
   "cell_type": "code",
   "execution_count": 16,
   "metadata": {},
   "outputs": [],
   "source": [
    "target_data = pd.concat([targets, decoys])"
   ]
  },
  {
   "cell_type": "code",
   "execution_count": 17,
   "metadata": {},
   "outputs": [
    {
     "data": {
      "text/plain": [
       "1.0    59617\n",
       "0.0    44610\n",
       "Name: target, dtype: int64"
      ]
     },
     "execution_count": 17,
     "metadata": {},
     "output_type": "execute_result"
    }
   ],
   "source": [
    "target_data.target.value_counts()"
   ]
  },
  {
   "cell_type": "code",
   "execution_count": 18,
   "metadata": {},
   "outputs": [],
   "source": [
    "training_data, testing_data = train_test_split(target_data, test_size=0.1, random_state=42)"
   ]
  },
  {
   "cell_type": "code",
   "execution_count": 19,
   "metadata": {},
   "outputs": [
    {
     "data": {
      "text/plain": [
       "1.0    53534\n",
       "0.0    40270\n",
       "Name: target, dtype: int64"
      ]
     },
     "execution_count": 19,
     "metadata": {},
     "output_type": "execute_result"
    }
   ],
   "source": [
    "training_data.target.value_counts()"
   ]
  },
  {
   "cell_type": "code",
   "execution_count": 20,
   "metadata": {},
   "outputs": [],
   "source": [
    "def preprocess_data(pipeline, data, columns, train=False):\n",
    "    \n",
    "    if train == True:\n",
    "        \n",
    "        data[columns] = pipeline.fit_transform(data[columns])\n",
    "        \n",
    "        return data, pipeline\n",
    "        \n",
    "    else:\n",
    "        \n",
    "        data[columns] = pipeline.transform(data[columns])\n",
    "        return data\n",
    "        \n",
    "    "
   ]
  },
  {
   "cell_type": "code",
   "execution_count": 22,
   "metadata": {},
   "outputs": [],
   "source": [
    "from gscore.models.preprocess import STANDARD_SCALAR_PIPELINE"
   ]
  },
  {
   "cell_type": "code",
   "execution_count": 26,
   "metadata": {},
   "outputs": [],
   "source": [
    "scaling_pipeline = STANDARD_SCALAR_PIPELINE"
   ]
  },
  {
   "cell_type": "code",
   "execution_count": 27,
   "metadata": {},
   "outputs": [],
   "source": [
    "training_processed, scaling_pipeline = preprocess_data(\n",
    "    pipeline=scaling_pipeline,\n",
    "    data=training_data.copy(),\n",
    "    columns=peak_groups.ml_features,\n",
    "    train=True\n",
    ")"
   ]
  },
  {
   "cell_type": "code",
   "execution_count": 28,
   "metadata": {},
   "outputs": [],
   "source": [
    "import pickle\n",
    "\n",
    "with open('scalers/standard_scaler.pkl', 'wb') as pkl:\n",
    "    pickle.dump(scaling_pipeline, pkl)"
   ]
  },
  {
   "cell_type": "code",
   "execution_count": 29,
   "metadata": {},
   "outputs": [],
   "source": [
    "testing_processed = preprocess_data(\n",
    "    pipeline=scaling_pipeline,\n",
    "    data=testing_data.copy(),\n",
    "    columns=peak_groups.ml_features,\n",
    ")"
   ]
  },
  {
   "cell_type": "code",
   "execution_count": 34,
   "metadata": {},
   "outputs": [],
   "source": [
    "from functools import partial\n",
    "\n",
    "\n",
    "RegularizedDense = partial(\n",
    "    keras.layers.Dense,\n",
    "    activation='elu',\n",
    "    kernel_initializer='he_normal',\n",
    "    kernel_regularizer=keras.regularizers.l2()\n",
    ")\n",
    "\n",
    "optimizer = keras.optimizers.Adam()\n",
    "\n",
    "early_stopping_cb = keras.callbacks.EarlyStopping(patience=2,\n",
    "                                                  restore_best_weights=True)\n",
    "\n",
    "model = keras.models.Sequential([\n",
    "    RegularizedDense(30, input_shape=training_processed[peak_groups.ml_features].shape[1:]),\n",
    "    #keras.layers.Dropout(0.2),\n",
    "    RegularizedDense(30),\n",
    "    #keras.layers.Dropout(0.1),\n",
    "    RegularizedDense(30),\n",
    "    #keras.layers.Dropout(0.1),\n",
    "    RegularizedDense(30),\n",
    "    keras.layers.Dense(1, activation='linear')\n",
    "])\n",
    "\n",
    "model.compile(loss='binary_crossentropy',\n",
    "              optimizer=optimizer,\n",
    "              metrics=['accuracy']\n",
    ")\n"
   ]
  },
  {
   "cell_type": "code",
   "execution_count": 61,
   "metadata": {},
   "outputs": [],
   "source": [
    "ADAM_OPTIMIZER = keras.optimizers.Adam()\n",
    "\n",
    "EARLY_STOPPING_CB = keras.callbacks.EarlyStopping(\n",
    "    patience=2,\n",
    "    restore_best_weights=True\n",
    ")\n",
    "\n",
    "class TargetScoringModel(keras.Model):\n",
    "\n",
    "    RegularizedDense = partial(\n",
    "        keras.layers.Dense,\n",
    "        activation='elu',\n",
    "        kernel_initializer='he_normal',\n",
    "        kernel_regularizer=keras.regularizers.l2(),\n",
    "        dtype='float64'\n",
    "    )\n",
    "\n",
    "    def __init__(self, input_dim, **kwargs):\n",
    "        super().__init__(**kwargs)\n",
    "        self.dense_1 = self.RegularizedDense(30, input_shape=input_dim)\n",
    "        self.dense_2 = self.RegularizedDense(30)\n",
    "        self.dense_3 = self.RegularizedDense(30)\n",
    "        self.dense_4 = self.RegularizedDense(30)\n",
    "        self.score_output = keras.layers.Dense(1, activation='linear', dtype='float64')\n",
    "\n",
    "    def call(self, inputs):\n",
    "        x = self.dense_1(inputs)\n",
    "        x = self.dense_2(x)\n",
    "        x = self.dense_3(x)\n",
    "        x = self.dense_4(x)\n",
    "        return self.score_output(x)"
   ]
  },
  {
   "cell_type": "code",
   "execution_count": 62,
   "metadata": {},
   "outputs": [],
   "source": [
    "input_shape = training_processed[peak_groups.ml_features].shape[1:]"
   ]
  },
  {
   "cell_type": "code",
   "execution_count": 63,
   "metadata": {},
   "outputs": [],
   "source": [
    "model = TargetScoringModel(input_dim=input_shape)"
   ]
  },
  {
   "cell_type": "code",
   "execution_count": 64,
   "metadata": {},
   "outputs": [],
   "source": [
    "model.compile(loss='binary_crossentropy',\n",
    "              optimizer=ADAM_OPTIMIZER,\n",
    "              metrics=['accuracy']\n",
    ")"
   ]
  },
  {
   "cell_type": "code",
   "execution_count": 65,
   "metadata": {},
   "outputs": [
    {
     "name": "stdout",
     "output_type": "stream",
     "text": [
      "Epoch 1/20\n",
      "WARNING:tensorflow:Layer target_scoring_model_5 is casting an input tensor from dtype float64 to the layer's dtype of float32, which is new behavior in TensorFlow 2.  The layer has dtype float32 because its dtype defaults to floatx.\n",
      "\n",
      "If you intended to run this layer in float32, you can safely ignore this warning. If in doubt, this warning is likely only an issue if you are porting a TensorFlow 1.X model to TensorFlow 2.\n",
      "\n",
      "To change all layers to have dtype float64 by default, call `tf.keras.backend.set_floatx('float64')`. To change just this layer, pass dtype='float64' to the layer constructor. If you are the author of this layer, you can disable autocasting by passing autocast=False to the base Layer constructor.\n",
      "\n",
      "2639/2639 [==============================] - 2s 724us/step - loss: 4.8731 - accuracy: 0.7586 - val_loss: 3.5998 - val_accuracy: 0.8467\n",
      "Epoch 2/20\n",
      "2639/2639 [==============================] - 2s 704us/step - loss: 3.2424 - accuracy: 0.8464 - val_loss: 2.5369 - val_accuracy: 0.8694\n",
      "Epoch 3/20\n",
      "2639/2639 [==============================] - 2s 816us/step - loss: 6.2319 - accuracy: 0.6596 - val_loss: 4.8023 - val_accuracy: 0.7477\n",
      "Epoch 4/20\n",
      "2639/2639 [==============================] - 2s 755us/step - loss: 3.5530 - accuracy: 0.8271 - val_loss: 2.5270 - val_accuracy: 0.8860\n",
      "Epoch 5/20\n",
      "2639/2639 [==============================] - 2s 790us/step - loss: 2.1480 - accuracy: 0.9024 - val_loss: 1.7388 - val_accuracy: 0.9388\n",
      "Epoch 6/20\n",
      "2639/2639 [==============================] - 2s 697us/step - loss: 1.5779 - accuracy: 0.9392 - val_loss: 1.2725 - val_accuracy: 0.9471\n",
      "Epoch 7/20\n",
      "2639/2639 [==============================] - 2s 705us/step - loss: 0.9584 - accuracy: 0.9543 - val_loss: 0.6269 - val_accuracy: 0.9652\n",
      "Epoch 8/20\n",
      "2639/2639 [==============================] - 2s 692us/step - loss: 0.4343 - accuracy: 0.9635 - val_loss: 0.2653 - val_accuracy: 0.9687\n",
      "Epoch 9/20\n",
      "2639/2639 [==============================] - 2s 689us/step - loss: 0.3141 - accuracy: 0.9494 - val_loss: 0.2400 - val_accuracy: 0.9621\n",
      "Epoch 10/20\n",
      "2639/2639 [==============================] - 2s 687us/step - loss: 0.2500 - accuracy: 0.9577 - val_loss: 0.1892 - val_accuracy: 0.9692\n",
      "Epoch 11/20\n",
      "2639/2639 [==============================] - 2s 704us/step - loss: 0.2935 - accuracy: 0.9529 - val_loss: 0.1783 - val_accuracy: 0.9722\n",
      "Epoch 12/20\n",
      "2639/2639 [==============================] - 2s 741us/step - loss: 0.1934 - accuracy: 0.9662 - val_loss: 0.1711 - val_accuracy: 0.9675\n",
      "Epoch 13/20\n",
      "2639/2639 [==============================] - 2s 806us/step - loss: 0.1661 - accuracy: 0.9702 - val_loss: 0.1272 - val_accuracy: 0.9775\n",
      "Epoch 14/20\n",
      "2639/2639 [==============================] - 2s 713us/step - loss: 1.0610 - accuracy: 0.8906 - val_loss: 0.2180 - val_accuracy: 0.9665\n",
      "Epoch 15/20\n",
      "2639/2639 [==============================] - 2s 892us/step - loss: 0.1914 - accuracy: 0.9712 - val_loss: 0.2285 - val_accuracy: 0.9570\n"
     ]
    }
   ],
   "source": [
    "history = model.fit(\n",
    "    training_processed[peak_groups.ml_features], \n",
    "    training_processed['target'],\n",
    "    epochs=20,\n",
    "    validation_split=0.10,\n",
    "    callbacks=[EARLY_STOPPING_CB],\n",
    "    batch_size=32\n",
    ")"
   ]
  },
  {
   "cell_type": "code",
   "execution_count": 66,
   "metadata": {},
   "outputs": [
    {
     "name": "stdout",
     "output_type": "stream",
     "text": [
      "326/326 [==============================] - 0s 447us/step - loss: 0.1346 - accuracy: 0.9753\n"
     ]
    },
    {
     "data": {
      "text/plain": [
       "[0.13457804918289185, 0.9753429889678955]"
      ]
     },
     "execution_count": 66,
     "metadata": {},
     "output_type": "execute_result"
    }
   ],
   "source": [
    "model.evaluate(testing_processed[peak_groups.ml_features], testing_processed['target'])"
   ]
  },
  {
   "cell_type": "code",
   "execution_count": 58,
   "metadata": {},
   "outputs": [
    {
     "name": "stdout",
     "output_type": "stream",
     "text": [
      "INFO:tensorflow:Assets written to: models/hatlas.0.1.test/assets\n"
     ]
    }
   ],
   "source": [
    "model.save('models/hatlas.0.1.test')"
   ]
  },
  {
   "cell_type": "code",
   "execution_count": 59,
   "metadata": {},
   "outputs": [],
   "source": [
    "scoring_model = keras.models.load_model('models/hatlas.0.1.test')"
   ]
  },
  {
   "cell_type": "code",
   "execution_count": 60,
   "metadata": {},
   "outputs": [
    {
     "ename": "NameError",
     "evalue": "name 'fetch_decoy_free' is not defined",
     "output_type": "error",
     "traceback": [
      "\u001b[0;31m---------------------------------------------------------------------------\u001b[0m",
      "\u001b[0;31mNameError\u001b[0m                                 Traceback (most recent call last)",
      "\u001b[0;32m<ipython-input-60-5bf6fb87adee>\u001b[0m in \u001b[0;36m<module>\u001b[0;34m\u001b[0m\n\u001b[0;32m----> 1\u001b[0;31m \u001b[0mpeak_groups\u001b[0m \u001b[0;34m=\u001b[0m \u001b[0mfetch_decoy_free\u001b[0m\u001b[0;34m(\u001b[0m\u001b[0mvoted_data\u001b[0m\u001b[0;34m)\u001b[0m\u001b[0;34m\u001b[0m\u001b[0;34m\u001b[0m\u001b[0m\n\u001b[0m",
      "\u001b[0;31mNameError\u001b[0m: name 'fetch_decoy_free' is not defined"
     ]
    }
   ],
   "source": [
    "peak_groups = fetch_decoy_free(voted_data)"
   ]
  },
  {
   "cell_type": "code",
   "execution_count": 61,
   "metadata": {},
   "outputs": [],
   "source": [
    "all_peak_groups = peak_groups.select_peak_group(\n",
    "    return_all=True\n",
    ")"
   ]
  },
  {
   "cell_type": "code",
   "execution_count": 62,
   "metadata": {},
   "outputs": [],
   "source": [
    "all_peak_groups['d_score'] = scoring_model.predict(all_peak_groups[peak_groups.ml_features]).ravel()"
   ]
  },
  {
   "cell_type": "code",
   "execution_count": 63,
   "metadata": {},
   "outputs": [],
   "source": [
    "all_peak_groups['vote_percentage'] = all_peak_groups['vote_percentage'].fillna(0.000)"
   ]
  },
  {
   "cell_type": "code",
   "execution_count": 64,
   "metadata": {},
   "outputs": [],
   "source": [
    "import numpy as np"
   ]
  },
  {
   "cell_type": "code",
   "execution_count": 65,
   "metadata": {},
   "outputs": [],
   "source": [
    "all_peak_groups['alt_d_score'] = np.exp(all_peak_groups['vote_percentage']) * all_peak_groups['d_score']"
   ]
  },
  {
   "cell_type": "code",
   "execution_count": 66,
   "metadata": {},
   "outputs": [
    {
     "data": {
      "text/plain": [
       "0        -1.917926\n",
       "1        -1.710281\n",
       "2        -0.560479\n",
       "3         0.501129\n",
       "4        -0.227804\n",
       "            ...   \n",
       "520911    0.240733\n",
       "520912    0.524230\n",
       "520913    0.572161\n",
       "520914    0.985711\n",
       "520915    0.156030\n",
       "Name: alt_d_score, Length: 520916, dtype: float64"
      ]
     },
     "execution_count": 66,
     "metadata": {},
     "output_type": "execute_result"
    }
   ],
   "source": [
    "all_peak_groups['alt_d_score']"
   ]
  },
  {
   "cell_type": "code",
   "execution_count": 68,
   "metadata": {},
   "outputs": [],
   "source": [
    "highest_ranking_peak_groups = all_peak_groups.loc[\n",
    "    all_peak_groups.groupby(['transition_group_id'])['alt_d_score'].idxmax()\n",
    "]"
   ]
  },
  {
   "cell_type": "code",
   "execution_count": 73,
   "metadata": {},
   "outputs": [],
   "source": [
    "targets = highest_ranking_peak_groups.loc[\n",
    "    highest_ranking_peak_groups['vote_percentage'] >= cutoff\n",
    "].copy()"
   ]
  },
  {
   "cell_type": "code",
   "execution_count": 74,
   "metadata": {},
   "outputs": [],
   "source": [
    "decoys = highest_ranking_peak_groups.loc[\n",
    "    highest_ranking_peak_groups['vote_percentage'] < cutoff\n",
    "].copy()"
   ]
  },
  {
   "cell_type": "code",
   "execution_count": 76,
   "metadata": {},
   "outputs": [],
   "source": [
    "decoys['target'] = 0.0"
   ]
  },
  {
   "cell_type": "code",
   "execution_count": 77,
   "metadata": {},
   "outputs": [],
   "source": [
    "all_peak_groups = pd.concat([targets, decoys])"
   ]
  },
  {
   "cell_type": "code",
   "execution_count": 78,
   "metadata": {},
   "outputs": [
    {
     "data": {
      "text/plain": [
       "0.0    82580\n",
       "1.0    21647\n",
       "Name: target, dtype: int64"
      ]
     },
     "execution_count": 78,
     "metadata": {},
     "output_type": "execute_result"
    }
   ],
   "source": [
    "all_peak_groups.target.value_counts()"
   ]
  },
  {
   "cell_type": "code",
   "execution_count": 80,
   "metadata": {},
   "outputs": [
    {
     "name": "stderr",
     "output_type": "stream",
     "text": [
      "<ipython-input-80-b4fa81556da3>:34: UserWarning: Matplotlib is currently using module://ipykernel.pylab.backend_inline, which is a non-GUI backend, so cannot show the figure.\n",
      "  test.show()\n"
     ]
    },
    {
     "data": {
      "image/png": "[encoded data removed]",
      "text/plain": [
       "<Figure size 1008x720 with 1 Axes>"
      ]
     },
     "metadata": {
      "needs_background": "light"
     },
     "output_type": "display_data"
    }
   ],
   "source": [
    "import matplotlib.pyplot as pyplot\n",
    "from matplotlib.pyplot import figure\n",
    "\n",
    "test = figure(figsize=(14, 10))\n",
    "\n",
    "bins = 500\n",
    "\n",
    "corr_n, corr_bins, _ = pyplot.hist(\n",
    "    all_peak_groups['d_score'], bins=bins, histtype='step', alpha=0.5, label='Targets')\n",
    "\n",
    "\n",
    "incorr_n, incorr_bins, _ = pyplot.hist(\n",
    "    all_peak_groups[\n",
    "        all_peak_groups['target'] == 0.0\n",
    "    ]['d_score'], \n",
    "    bins=bins, \n",
    "    histtype='step', \n",
    "    alpha=0.5, \n",
    "    label='False Targets')\n",
    "\n",
    "# pyplot.hist(\n",
    "#     scoring_target_data[\n",
    "#         scoring_target_data['target'] == 0.0\n",
    "#     ]['altered_score'], \n",
    "#     bins=bins, \n",
    "#     histtype='step', \n",
    "#     alpha=0.5, \n",
    "#     label='Decoys')\n",
    "\n",
    "\n",
    "\n",
    "test.legend(loc='upper right')\n",
    "#pyplot.axis([-5, 5, 0, 2000])\n",
    "test.show()"
   ]
  },
  {
   "cell_type": "code",
   "execution_count": null,
   "metadata": {},
   "outputs": [],
   "source": []
  }
 ],
 "metadata": {
  "kernelspec": {
   "display_name": "Python 3",
   "language": "python",
   "name": "python3"
  },
  "language_info": {
   "codemirror_mode": {
    "name": "ipython",
    "version": 3
   },
   "file_extension": ".py",
   "mimetype": "text/x-python",
   "name": "python",
   "nbconvert_exporter": "python",
   "pygments_lexer": "ipython3",
   "version": "3.8.5"
  }
 },
 "nbformat": 4,
 "nbformat_minor": 4
}
