{
 "metadata": {
  "language_info": {
   "codemirror_mode": {
    "name": "ipython",
    "version": 3
   },
   "file_extension": ".py",
   "mimetype": "text/x-python",
   "name": "python",
   "nbconvert_exporter": "python",
   "pygments_lexer": "ipython3",
   "version": "3.8.0-final"
  },
  "orig_nbformat": 2,
  "kernelspec": {
   "name": "python3",
   "display_name": "Python 3"
  }
 },
 "nbformat": 4,
 "nbformat_minor": 2,
 "cells": [
  {
   "cell_type": "code",
   "execution_count": 1,
   "metadata": {},
   "outputs": [],
   "source": [
    "import pandas as pd\n",
    "import numpy as np\n",
    "\n",
    "from gscore.osw.peakgroups import fetch_peak_groups\n",
    "from gscore.osw.queries import (\n",
    "    FETCH_UNSCORED_PEAK_GROUPS\n",
    ")\n",
    "from gscore.models.denoiser import DenoizingClassifier\n",
    "from gscore.osw.connection import OSWConnection\n",
    "\n",
    "from gscore.models.preprocess import STANDARD_SCALAR_PIPELINE\n",
    "from gscore.models.distributions import build_false_target_protein_distributions, ScoreDistribution\n",
    "\n",
    "from gscore.workflows.model_single_run import format_model_distribution\n",
    "from gscore.osw.peakgroups import PeakGroupList"
   ]
  },
  {
   "cell_type": "code",
   "execution_count": 2,
   "metadata": {},
   "outputs": [],
   "source": [
    "import seaborn as sns "
   ]
  },
  {
   "cell_type": "code",
   "execution_count": 4,
   "metadata": {},
   "outputs": [],
   "source": [
    "osw_path = '/home/aaron/projects/gscorer/data/openswath/    '"
   ]
  },
  {
   "cell_type": "code",
   "execution_count": 7,
   "metadata": {},
   "outputs": [],
   "source": [
    "peak_groups = fetch_peak_groups(\n",
    "    host=osw_path,\n",
    "    query=FETCH_UNSCORED_PEAK_GROUPS\n",
    ")\n",
    "\n",
    "all_peak_groups = peak_groups.select_peak_group(\n",
    "    return_all=True\n",
    ")"
   ]
  },
  {
   "cell_type": "code",
   "execution_count": 9,
   "metadata": {},
   "outputs": [
    {
     "output_type": "execute_result",
     "data": {
      "text/plain": [
       "Index(['transition_group_id', 'feature_id', 'exp_rt', 'norm_rt', 'delta_rt',\n",
       "       'mz', 'charge', 'decoy', 'peptide_sequence',\n",
       "       'modified_peptide_sequence', 'protein_accession', 'protein_decoy',\n",
       "       'area_intensity', 'apex_intensity', 'ms2_area_intensity',\n",
       "       'total_area_intensity', 'var_massdev_score_ms1',\n",
       "       'var_isotope_correlation_score_ms1', 'var_isotope_overlap_score_ms1',\n",
       "       'var_xcorr_coelution_contrast_ms1', 'var_xcorr_coelution_combined_ms1',\n",
       "       'var_xcorr_shape_contrast_ms1', 'var_xcorr_shape_combined_ms1',\n",
       "       'var_bseries_score', 'var_dotprod_score', 'var_intensity_score',\n",
       "       'var_isotope_correlation_score', 'var_isotope_overlap_score',\n",
       "       'var_library_corr', 'var_library_dotprod', 'var_library_manhattan',\n",
       "       'var_library_rmsd', 'var_library_rootmeansquare', 'var_library_sangle',\n",
       "       'var_log_sn_score', 'var_manhattan_score', 'var_massdev_score',\n",
       "       'var_massdev_score_weighted', 'var_norm_rt_score',\n",
       "       'var_xcorr_coelution', 'var_xcorr_coelution_weighted',\n",
       "       'var_xcorr_shape', 'var_xcorr_shape_weighted', 'var_yseries_score',\n",
       "       'target'],\n",
       "      dtype='object')"
      ]
     },
     "metadata": {},
     "execution_count": 9
    }
   ],
   "source": [
    "all_peak_groups.columns"
   ]
  },
  {
   "cell_type": "code",
   "execution_count": 8,
   "metadata": {},
   "outputs": [
    {
     "output_type": "execute_result",
     "data": {
      "text/plain": [
       "['var_massdev_score_ms1',\n",
       " 'var_isotope_correlation_score_ms1',\n",
       " 'var_isotope_overlap_score_ms1',\n",
       " 'var_xcorr_coelution_contrast_ms1',\n",
       " 'var_xcorr_coelution_combined_ms1',\n",
       " 'var_xcorr_shape_contrast_ms1',\n",
       " 'var_xcorr_shape_combined_ms1',\n",
       " 'var_bseries_score',\n",
       " 'var_dotprod_score',\n",
       " 'var_intensity_score',\n",
       " 'var_isotope_correlation_score',\n",
       " 'var_isotope_overlap_score',\n",
       " 'var_library_corr',\n",
       " 'var_library_dotprod',\n",
       " 'var_library_manhattan',\n",
       " 'var_library_rmsd',\n",
       " 'var_library_rootmeansquare',\n",
       " 'var_library_sangle',\n",
       " 'var_log_sn_score',\n",
       " 'var_manhattan_score',\n",
       " 'var_massdev_score',\n",
       " 'var_massdev_score_weighted',\n",
       " 'var_norm_rt_score',\n",
       " 'var_xcorr_coelution',\n",
       " 'var_xcorr_coelution_weighted',\n",
       " 'var_xcorr_shape',\n",
       " 'var_xcorr_shape_weighted',\n",
       " 'var_yseries_score']"
      ]
     },
     "metadata": {},
     "execution_count": 8
    }
   ],
   "source": [
    "peak_groups.ml_features"
   ]
  },
  {
   "cell_type": "code",
   "execution_count": 11,
   "metadata": {},
   "outputs": [
    {
     "output_type": "execute_result",
     "data": {
      "text/plain": [
       "<seaborn.axisgrid.PairGrid at 0x7f107f9a99d0>"
      ]
     },
     "metadata": {},
     "execution_count": 11
    }
   ],
   "source": [
    "test = sns.pairplot(\n",
    "    all_peak_groups[\n",
    "        [\n",
    "            'target',\n",
    "            'var_massdev_score_ms1', \n",
    "            'var_isotope_correlation_score_ms1', \n",
    "            'var_isotope_overlap_score_ms1',\n",
    "            'var_xcorr_coelution_contrast_ms1',\n",
    "            'var_xcorr_coelution_combined_ms1',\n",
    "            'var_xcorr_shape_contrast_ms1',\n",
    "            'var_xcorr_shape_combined_ms1',\n",
    "        ]\n",
    "    ],\n",
    "    hue=\"target\"\n",
    ")"
   ]
  },
  {
   "cell_type": "code",
   "execution_count": null,
   "metadata": {},
   "outputs": [],
   "source": [
    "test.savfig('ms1_scores.pdf')"
   ]
  },
  {
   "cell_type": "code",
   "execution_count": null,
   "metadata": {},
   "outputs": [],
   "source": [
    "sns.pairplot(\n",
    "    all_peak_groups[\n",
    "        [\n",
    "            'target',\n",
    "            'var_bseries_score',\n",
    "            'var_yseries_score',\n",
    "            'var_intensity_score',\n",
    "            'var_isotope_correlation_score',\n",
    "            'var_isotope_overlap_score',\n",
    "            'var_dotprod_score',\n",
    "            'var_log_sn_score',\n",
    "            'var_manhattan_score',\n",
    "            'var_manhattan_score',\n",
    "            'var_massdev_score',\n",
    "            'var_massdev_score_weighted',\n",
    "            'var_norm_rt_score'\n",
    "        ]\n",
    "    ],\n",
    "    hue=\"target\"\n",
    ")"
   ]
  },
  {
   "cell_type": "code",
   "execution_count": null,
   "metadata": {},
   "outputs": [],
   "source": [
    "sns.pairplot(\n",
    "    all_peak_groups[\n",
    "        [\n",
    "            'target',\n",
    "            'var_library_corr',\n",
    "            'var_library_dotprod',\n",
    "            'var_library_manhattan',\n",
    "            'var_library_rmsd',\n",
    "            'var_library_rootmeansquare',\n",
    "            'var_library_sangle',\n",
    "        ]\n",
    "    ],\n",
    "    hue=\"target\"\n",
    ")"
   ]
  },
  {
   "cell_type": "code",
   "execution_count": null,
   "metadata": {},
   "outputs": [],
   "source": [
    "sns.pairplot(\n",
    "    all_peak_groups[\n",
    "        [\n",
    "            'target',\n",
    "            'var_xcorr_coelution',\n",
    "            'var_xcorr_coelution_weighted',\n",
    "            'var_xcorr_shape',\n",
    "            'var_xcorr_shape_weighted',\n",
    "        ]\n",
    "    ],\n",
    "    hue=\"target\"\n",
    ")"
   ]
  },
  {
   "cell_type": "code",
   "execution_count": null,
   "metadata": {},
   "outputs": [],
   "source": [
    "del all_peak_groups"
   ]
  },
  {
   "cell_type": "code",
   "execution_count": null,
   "metadata": {},
   "outputs": [],
   "source": []
  }
 ]
}