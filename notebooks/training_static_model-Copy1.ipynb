{
 "cells": [
  {
   "cell_type": "code",
   "execution_count": 1,
   "metadata": {},
   "outputs": [],
   "source": [
    "import pandas as pd\n",
    "\n",
    "from gscore.osw.peakgroups import fetch_peak_groups\n",
    "from gscore.osw.queries import (\n",
    "    FETCH_UNSCORED_PEAK_GROUPS,\n",
    "    FETCH_UNSCORED_PEAK_GROUPS_DECOY_FREE,\n",
    "    CREATE_GHOSTSCORE_TABLE\n",
    ")\n",
    "from gscore.models.denoiser import DenoizingClassifier\n",
    "from gscore.osw.connection import create_table"
   ]
  },
  {
   "cell_type": "code",
   "execution_count": 2,
   "metadata": {},
   "outputs": [],
   "source": [
    "osw_path = '/home/aaron/projects/ghost/data/hatlas/openswath/Simon_S1607_248.osw'"
   ]
  },
  {
   "cell_type": "code",
   "execution_count": 3,
   "metadata": {},
   "outputs": [],
   "source": [
    "peak_groups = fetch_peak_groups(\n",
    "    host=osw_path,\n",
    "    query=FETCH_UNSCORED_PEAK_GROUPS\n",
    ")"
   ]
  },
  {
   "cell_type": "code",
   "execution_count": 4,
   "metadata": {},
   "outputs": [
    {
     "data": {
      "text/plain": [
       "0    0.772583\n",
       "1    0.589491\n",
       "2    0.552479\n",
       "3    0.810617\n",
       "4    0.414042\n",
       "Name: var_xcorr_shape, dtype: float64"
      ]
     },
     "execution_count": 4,
     "metadata": {},
     "output_type": "execute_result"
    }
   ],
   "source": [
    "peak_groups.peak_groups[0].peak_group['var_xcorr_shape']"
   ]
  },
  {
   "cell_type": "code",
   "execution_count": 5,
   "metadata": {},
   "outputs": [],
   "source": [
    "peak_groups.rerank_groups(rerank_keys=['var_xcorr_shape'], ascending=False)"
   ]
  },
  {
   "cell_type": "code",
   "execution_count": 6,
   "metadata": {},
   "outputs": [
    {
     "data": {
      "text/plain": [
       "3    0.810617\n",
       "0    0.772583\n",
       "1    0.589491\n",
       "2    0.552479\n",
       "4    0.414042\n",
       "Name: var_xcorr_shape, dtype: float64"
      ]
     },
     "execution_count": 6,
     "metadata": {},
     "output_type": "execute_result"
    }
   ],
   "source": [
    "peak_groups.peak_groups[0].peak_group['var_xcorr_shape']"
   ]
  },
  {
   "cell_type": "code",
   "execution_count": 7,
   "metadata": {},
   "outputs": [],
   "source": [
    "second_ranking = peak_groups.select_peak_group(\n",
    "    rank=2,\n",
    "    rerank_keys=['var_xcorr_shape'], \n",
    "    ascending=False\n",
    ")"
   ]
  },
  {
   "cell_type": "code",
   "execution_count": 8,
   "metadata": {},
   "outputs": [
    {
     "data": {
      "text/plain": [
       "1.0    104218\n",
       "0.0    103146\n",
       "Name: target, dtype: int64"
      ]
     },
     "execution_count": 8,
     "metadata": {},
     "output_type": "execute_result"
    }
   ],
   "source": [
    "second_ranking.target.value_counts()"
   ]
  },
  {
   "cell_type": "code",
   "execution_count": 9,
   "metadata": {},
   "outputs": [],
   "source": [
    "second_ranking['target'] = 0.0"
   ]
  },
  {
   "cell_type": "code",
   "execution_count": 10,
   "metadata": {},
   "outputs": [],
   "source": [
    "highest_ranking = peak_groups.select_peak_group(\n",
    "    rank=1,\n",
    "    rerank_keys=['var_xcorr_shape'], \n",
    "    ascending=False\n",
    ")"
   ]
  },
  {
   "cell_type": "code",
   "execution_count": 11,
   "metadata": {},
   "outputs": [],
   "source": [
    "noisey_labels = pd.concat(\n",
    "    [\n",
    "        highest_ranking,\n",
    "        #second_ranking\n",
    "    ]\n",
    ")"
   ]
  },
  {
   "cell_type": "code",
   "execution_count": 12,
   "metadata": {},
   "outputs": [
    {
     "data": {
      "text/plain": [
       "1.0    104227\n",
       "0.0    103156\n",
       "Name: target, dtype: int64"
      ]
     },
     "execution_count": 12,
     "metadata": {},
     "output_type": "execute_result"
    }
   ],
   "source": [
    "noisey_labels.target.value_counts()"
   ]
  },
  {
   "cell_type": "code",
   "execution_count": 13,
   "metadata": {},
   "outputs": [],
   "source": [
    "from gscore.workflows.denoise import denoise"
   ]
  },
  {
   "cell_type": "code",
   "execution_count": 14,
   "metadata": {},
   "outputs": [
    {
     "name": "stdout",
     "output_type": "stream",
     "text": [
      "Training for fold idx=0 training size=186644 testing_size=20739 n_samples=18664 for bagging\n",
      "Training for fold idx=1 training size=186644 testing_size=20739 n_samples=18664 for bagging\n",
      "Training for fold idx=2 training size=186644 testing_size=20739 n_samples=18664 for bagging\n",
      "Training for fold idx=3 training size=186645 testing_size=20738 n_samples=18664 for bagging\n",
      "Training for fold idx=4 training size=186645 testing_size=20738 n_samples=18664 for bagging\n",
      "Training for fold idx=5 training size=186645 testing_size=20738 n_samples=18664 for bagging\n",
      "Training for fold idx=6 training size=186645 testing_size=20738 n_samples=18664 for bagging\n",
      "Training for fold idx=7 training size=186645 testing_size=20738 n_samples=18664 for bagging\n",
      "Training for fold idx=8 training size=186645 testing_size=20738 n_samples=18664 for bagging\n",
      "Training for fold idx=9 training size=186645 testing_size=20738 n_samples=18664 for bagging\n"
     ]
    }
   ],
   "source": [
    "all_peak_groups = denoise(\n",
    "        training_data=noisey_labels,\n",
    "        peak_groups=peak_groups,\n",
    "        columns=peak_groups.ml_features,\n",
    "        num_folds=10,\n",
    "        num_classifiers=250\n",
    "    )"
   ]
  },
  {
   "cell_type": "code",
   "execution_count": 15,
   "metadata": {},
   "outputs": [
    {
     "data": {
      "text/plain": [
       "0.000    354608\n",
       "0.004     55388\n",
       "1.000     34464\n",
       "0.008     32285\n",
       "0.012     23043\n",
       "          ...  \n",
       "0.756      1076\n",
       "0.712      1068\n",
       "0.652      1063\n",
       "0.660      1058\n",
       "0.640      1057\n",
       "Name: vote_percentage, Length: 251, dtype: int64"
      ]
     },
     "execution_count": 15,
     "metadata": {},
     "output_type": "execute_result"
    }
   ],
   "source": [
    "all_peak_groups.vote_percentage.value_counts()"
   ]
  },
  {
   "cell_type": "code",
   "execution_count": 16,
   "metadata": {},
   "outputs": [
    {
     "data": {
      "text/html": [
       "<div>\n",
       "<style scoped>\n",
       "    .dataframe tbody tr th:only-of-type {\n",
       "        vertical-align: middle;\n",
       "    }\n",
       "\n",
       "    .dataframe tbody tr th {\n",
       "        vertical-align: top;\n",
       "    }\n",
       "\n",
       "    .dataframe thead th {\n",
       "        text-align: right;\n",
       "    }\n",
       "</style>\n",
       "<table border=\"1\" class=\"dataframe\">\n",
       "  <thead>\n",
       "    <tr style=\"text-align: right;\">\n",
       "      <th></th>\n",
       "      <th>transition_group_id</th>\n",
       "      <th>feature_id</th>\n",
       "      <th>exp_rt</th>\n",
       "      <th>norm_rt</th>\n",
       "      <th>delta_rt</th>\n",
       "      <th>mz</th>\n",
       "      <th>charge</th>\n",
       "      <th>decoy</th>\n",
       "      <th>peptide_sequence</th>\n",
       "      <th>modified_peptide_sequence</th>\n",
       "      <th>...</th>\n",
       "      <th>var_manhattan_score</th>\n",
       "      <th>var_massdev_score_weighted</th>\n",
       "      <th>var_norm_rt_score</th>\n",
       "      <th>var_xcorr_coelution</th>\n",
       "      <th>var_xcorr_coelution_weighted</th>\n",
       "      <th>var_xcorr_shape</th>\n",
       "      <th>var_xcorr_shape_weighted</th>\n",
       "      <th>var_yseries_score</th>\n",
       "      <th>target</th>\n",
       "      <th>vote_percentage</th>\n",
       "    </tr>\n",
       "  </thead>\n",
       "  <tbody>\n",
       "    <tr>\n",
       "      <th>3</th>\n",
       "      <td>0</td>\n",
       "      <td>8548614234701341429</td>\n",
       "      <td>4227.05</td>\n",
       "      <td>57.6627</td>\n",
       "      <td>88.1648</td>\n",
       "      <td>778.413000</td>\n",
       "      <td>2</td>\n",
       "      <td>0</td>\n",
       "      <td>AAAAAAAAAAAAAAAASAGGK</td>\n",
       "      <td>AAAAAAAAAAAAAAAASAGGK</td>\n",
       "      <td>...</td>\n",
       "      <td>0.999375</td>\n",
       "      <td>3.651938</td>\n",
       "      <td>0.030072</td>\n",
       "      <td>3.126696</td>\n",
       "      <td>1.459442</td>\n",
       "      <td>0.810617</td>\n",
       "      <td>0.743093</td>\n",
       "      <td>6.0</td>\n",
       "      <td>1.0</td>\n",
       "      <td>0.096</td>\n",
       "    </tr>\n",
       "    <tr>\n",
       "      <th>0</th>\n",
       "      <td>0</td>\n",
       "      <td>3023809260587732107</td>\n",
       "      <td>4015.70</td>\n",
       "      <td>51.1870</td>\n",
       "      <td>-123.1910</td>\n",
       "      <td>778.413000</td>\n",
       "      <td>2</td>\n",
       "      <td>0</td>\n",
       "      <td>AAAAAAAAAAAAAAAASAGGK</td>\n",
       "      <td>AAAAAAAAAAAAAAAASAGGK</td>\n",
       "      <td>...</td>\n",
       "      <td>0.918827</td>\n",
       "      <td>2.716016</td>\n",
       "      <td>0.034684</td>\n",
       "      <td>5.116549</td>\n",
       "      <td>1.907637</td>\n",
       "      <td>0.772583</td>\n",
       "      <td>0.780455</td>\n",
       "      <td>10.0</td>\n",
       "      <td>1.0</td>\n",
       "      <td>0.532</td>\n",
       "    </tr>\n",
       "    <tr>\n",
       "      <th>1</th>\n",
       "      <td>0</td>\n",
       "      <td>4654644004292494820</td>\n",
       "      <td>4353.45</td>\n",
       "      <td>61.9703</td>\n",
       "      <td>214.5670</td>\n",
       "      <td>778.413000</td>\n",
       "      <td>2</td>\n",
       "      <td>0</td>\n",
       "      <td>AAAAAAAAAAAAAAAASAGGK</td>\n",
       "      <td>AAAAAAAAAAAAAAAASAGGK</td>\n",
       "      <td>...</td>\n",
       "      <td>1.018444</td>\n",
       "      <td>7.264212</td>\n",
       "      <td>0.073148</td>\n",
       "      <td>6.012101</td>\n",
       "      <td>0.038501</td>\n",
       "      <td>0.589491</td>\n",
       "      <td>0.822176</td>\n",
       "      <td>6.0</td>\n",
       "      <td>1.0</td>\n",
       "      <td>0.872</td>\n",
       "    </tr>\n",
       "    <tr>\n",
       "      <th>2</th>\n",
       "      <td>0</td>\n",
       "      <td>4536578386852593533</td>\n",
       "      <td>4242.24</td>\n",
       "      <td>58.1670</td>\n",
       "      <td>103.3540</td>\n",
       "      <td>778.413000</td>\n",
       "      <td>2</td>\n",
       "      <td>0</td>\n",
       "      <td>AAAAAAAAAAAAAAAASAGGK</td>\n",
       "      <td>AAAAAAAAAAAAAAAASAGGK</td>\n",
       "      <td>...</td>\n",
       "      <td>1.389410</td>\n",
       "      <td>11.155628</td>\n",
       "      <td>0.035115</td>\n",
       "      <td>5.738613</td>\n",
       "      <td>2.756684</td>\n",
       "      <td>0.552479</td>\n",
       "      <td>0.477758</td>\n",
       "      <td>7.0</td>\n",
       "      <td>1.0</td>\n",
       "      <td>0.932</td>\n",
       "    </tr>\n",
       "    <tr>\n",
       "      <th>4</th>\n",
       "      <td>0</td>\n",
       "      <td>1544303645555666077</td>\n",
       "      <td>3936.34</td>\n",
       "      <td>48.9537</td>\n",
       "      <td>-202.5510</td>\n",
       "      <td>778.413000</td>\n",
       "      <td>2</td>\n",
       "      <td>0</td>\n",
       "      <td>AAAAAAAAAAAAAAAASAGGK</td>\n",
       "      <td>AAAAAAAAAAAAAAAASAGGK</td>\n",
       "      <td>...</td>\n",
       "      <td>1.268366</td>\n",
       "      <td>3.296539</td>\n",
       "      <td>0.057018</td>\n",
       "      <td>6.220725</td>\n",
       "      <td>2.211979</td>\n",
       "      <td>0.414042</td>\n",
       "      <td>0.560799</td>\n",
       "      <td>8.0</td>\n",
       "      <td>1.0</td>\n",
       "      <td>1.000</td>\n",
       "    </tr>\n",
       "    <tr>\n",
       "      <th>...</th>\n",
       "      <td>...</td>\n",
       "      <td>...</td>\n",
       "      <td>...</td>\n",
       "      <td>...</td>\n",
       "      <td>...</td>\n",
       "      <td>...</td>\n",
       "      <td>...</td>\n",
       "      <td>...</td>\n",
       "      <td>...</td>\n",
       "      <td>...</td>\n",
       "      <td>...</td>\n",
       "      <td>...</td>\n",
       "      <td>...</td>\n",
       "      <td>...</td>\n",
       "      <td>...</td>\n",
       "      <td>...</td>\n",
       "      <td>...</td>\n",
       "      <td>...</td>\n",
       "      <td>...</td>\n",
       "      <td>...</td>\n",
       "      <td>...</td>\n",
       "    </tr>\n",
       "    <tr>\n",
       "      <th>1036473</th>\n",
       "      <td>217749</td>\n",
       "      <td>830335801640044063</td>\n",
       "      <td>4346.38</td>\n",
       "      <td>61.7273</td>\n",
       "      <td>106.8240</td>\n",
       "      <td>813.937254</td>\n",
       "      <td>2</td>\n",
       "      <td>1</td>\n",
       "      <td>VMTQGVNYGLLYLR</td>\n",
       "      <td>VMTQGVNYGLLYLR</td>\n",
       "      <td>...</td>\n",
       "      <td>1.634783</td>\n",
       "      <td>0.137720</td>\n",
       "      <td>0.033684</td>\n",
       "      <td>8.169047</td>\n",
       "      <td>5.414557</td>\n",
       "      <td>0.239667</td>\n",
       "      <td>0.209055</td>\n",
       "      <td>5.0</td>\n",
       "      <td>0.0</td>\n",
       "      <td>0.004</td>\n",
       "    </tr>\n",
       "    <tr>\n",
       "      <th>1036477</th>\n",
       "      <td>217749</td>\n",
       "      <td>446962731839660730</td>\n",
       "      <td>4121.67</td>\n",
       "      <td>54.3016</td>\n",
       "      <td>-117.8820</td>\n",
       "      <td>813.937254</td>\n",
       "      <td>2</td>\n",
       "      <td>1</td>\n",
       "      <td>VMTQGVNYGLLYLR</td>\n",
       "      <td>VMTQGVNYGLLYLR</td>\n",
       "      <td>...</td>\n",
       "      <td>1.771925</td>\n",
       "      <td>3.596574</td>\n",
       "      <td>0.040573</td>\n",
       "      <td>10.941403</td>\n",
       "      <td>8.532222</td>\n",
       "      <td>0.136791</td>\n",
       "      <td>0.049131</td>\n",
       "      <td>2.0</td>\n",
       "      <td>0.0</td>\n",
       "      <td>0.148</td>\n",
       "    </tr>\n",
       "    <tr>\n",
       "      <th>1036474</th>\n",
       "      <td>217749</td>\n",
       "      <td>7793088631235569718</td>\n",
       "      <td>4231.77</td>\n",
       "      <td>57.8193</td>\n",
       "      <td>-7.7893</td>\n",
       "      <td>813.937254</td>\n",
       "      <td>2</td>\n",
       "      <td>1</td>\n",
       "      <td>VMTQGVNYGLLYLR</td>\n",
       "      <td>VMTQGVNYGLLYLR</td>\n",
       "      <td>...</td>\n",
       "      <td>1.758020</td>\n",
       "      <td>1.391825</td>\n",
       "      <td>0.005396</td>\n",
       "      <td>9.659844</td>\n",
       "      <td>7.463140</td>\n",
       "      <td>0.135887</td>\n",
       "      <td>0.066367</td>\n",
       "      <td>3.0</td>\n",
       "      <td>0.0</td>\n",
       "      <td>0.128</td>\n",
       "    </tr>\n",
       "    <tr>\n",
       "      <th>1036475</th>\n",
       "      <td>217749</td>\n",
       "      <td>1178561238339451171</td>\n",
       "      <td>4489.06</td>\n",
       "      <td>66.6154</td>\n",
       "      <td>249.5090</td>\n",
       "      <td>813.937254</td>\n",
       "      <td>2</td>\n",
       "      <td>1</td>\n",
       "      <td>VMTQGVNYGLLYLR</td>\n",
       "      <td>VMTQGVNYGLLYLR</td>\n",
       "      <td>...</td>\n",
       "      <td>1.454771</td>\n",
       "      <td>0.545334</td>\n",
       "      <td>0.082565</td>\n",
       "      <td>10.777515</td>\n",
       "      <td>8.080338</td>\n",
       "      <td>0.131738</td>\n",
       "      <td>0.107374</td>\n",
       "      <td>3.0</td>\n",
       "      <td>0.0</td>\n",
       "      <td>0.000</td>\n",
       "    </tr>\n",
       "    <tr>\n",
       "      <th>1036476</th>\n",
       "      <td>217749</td>\n",
       "      <td>87711394693558159</td>\n",
       "      <td>4188.04</td>\n",
       "      <td>56.3905</td>\n",
       "      <td>-51.5168</td>\n",
       "      <td>813.937254</td>\n",
       "      <td>2</td>\n",
       "      <td>1</td>\n",
       "      <td>VMTQGVNYGLLYLR</td>\n",
       "      <td>VMTQGVNYGLLYLR</td>\n",
       "      <td>...</td>\n",
       "      <td>1.338952</td>\n",
       "      <td>0.901847</td>\n",
       "      <td>0.019683</td>\n",
       "      <td>8.194192</td>\n",
       "      <td>6.914505</td>\n",
       "      <td>0.047619</td>\n",
       "      <td>0.012214</td>\n",
       "      <td>3.0</td>\n",
       "      <td>0.0</td>\n",
       "      <td>0.000</td>\n",
       "    </tr>\n",
       "  </tbody>\n",
       "</table>\n",
       "<p>1036478 rows × 43 columns</p>\n",
       "</div>"
      ],
      "text/plain": [
       "         transition_group_id           feature_id   exp_rt  norm_rt  delta_rt  \\\n",
       "3                          0  8548614234701341429  4227.05  57.6627   88.1648   \n",
       "0                          0  3023809260587732107  4015.70  51.1870 -123.1910   \n",
       "1                          0  4654644004292494820  4353.45  61.9703  214.5670   \n",
       "2                          0  4536578386852593533  4242.24  58.1670  103.3540   \n",
       "4                          0  1544303645555666077  3936.34  48.9537 -202.5510   \n",
       "...                      ...                  ...      ...      ...       ...   \n",
       "1036473               217749   830335801640044063  4346.38  61.7273  106.8240   \n",
       "1036477               217749   446962731839660730  4121.67  54.3016 -117.8820   \n",
       "1036474               217749  7793088631235569718  4231.77  57.8193   -7.7893   \n",
       "1036475               217749  1178561238339451171  4489.06  66.6154  249.5090   \n",
       "1036476               217749    87711394693558159  4188.04  56.3905  -51.5168   \n",
       "\n",
       "                 mz  charge  decoy       peptide_sequence  \\\n",
       "3        778.413000       2      0  AAAAAAAAAAAAAAAASAGGK   \n",
       "0        778.413000       2      0  AAAAAAAAAAAAAAAASAGGK   \n",
       "1        778.413000       2      0  AAAAAAAAAAAAAAAASAGGK   \n",
       "2        778.413000       2      0  AAAAAAAAAAAAAAAASAGGK   \n",
       "4        778.413000       2      0  AAAAAAAAAAAAAAAASAGGK   \n",
       "...             ...     ...    ...                    ...   \n",
       "1036473  813.937254       2      1         VMTQGVNYGLLYLR   \n",
       "1036477  813.937254       2      1         VMTQGVNYGLLYLR   \n",
       "1036474  813.937254       2      1         VMTQGVNYGLLYLR   \n",
       "1036475  813.937254       2      1         VMTQGVNYGLLYLR   \n",
       "1036476  813.937254       2      1         VMTQGVNYGLLYLR   \n",
       "\n",
       "        modified_peptide_sequence  ... var_manhattan_score  \\\n",
       "3           AAAAAAAAAAAAAAAASAGGK  ...            0.999375   \n",
       "0           AAAAAAAAAAAAAAAASAGGK  ...            0.918827   \n",
       "1           AAAAAAAAAAAAAAAASAGGK  ...            1.018444   \n",
       "2           AAAAAAAAAAAAAAAASAGGK  ...            1.389410   \n",
       "4           AAAAAAAAAAAAAAAASAGGK  ...            1.268366   \n",
       "...                           ...  ...                 ...   \n",
       "1036473            VMTQGVNYGLLYLR  ...            1.634783   \n",
       "1036477            VMTQGVNYGLLYLR  ...            1.771925   \n",
       "1036474            VMTQGVNYGLLYLR  ...            1.758020   \n",
       "1036475            VMTQGVNYGLLYLR  ...            1.454771   \n",
       "1036476            VMTQGVNYGLLYLR  ...            1.338952   \n",
       "\n",
       "         var_massdev_score_weighted  var_norm_rt_score  var_xcorr_coelution  \\\n",
       "3                          3.651938           0.030072             3.126696   \n",
       "0                          2.716016           0.034684             5.116549   \n",
       "1                          7.264212           0.073148             6.012101   \n",
       "2                         11.155628           0.035115             5.738613   \n",
       "4                          3.296539           0.057018             6.220725   \n",
       "...                             ...                ...                  ...   \n",
       "1036473                    0.137720           0.033684             8.169047   \n",
       "1036477                    3.596574           0.040573            10.941403   \n",
       "1036474                    1.391825           0.005396             9.659844   \n",
       "1036475                    0.545334           0.082565            10.777515   \n",
       "1036476                    0.901847           0.019683             8.194192   \n",
       "\n",
       "         var_xcorr_coelution_weighted  var_xcorr_shape  \\\n",
       "3                            1.459442         0.810617   \n",
       "0                            1.907637         0.772583   \n",
       "1                            0.038501         0.589491   \n",
       "2                            2.756684         0.552479   \n",
       "4                            2.211979         0.414042   \n",
       "...                               ...              ...   \n",
       "1036473                      5.414557         0.239667   \n",
       "1036477                      8.532222         0.136791   \n",
       "1036474                      7.463140         0.135887   \n",
       "1036475                      8.080338         0.131738   \n",
       "1036476                      6.914505         0.047619   \n",
       "\n",
       "         var_xcorr_shape_weighted  var_yseries_score  target  vote_percentage  \n",
       "3                        0.743093                6.0     1.0            0.096  \n",
       "0                        0.780455               10.0     1.0            0.532  \n",
       "1                        0.822176                6.0     1.0            0.872  \n",
       "2                        0.477758                7.0     1.0            0.932  \n",
       "4                        0.560799                8.0     1.0            1.000  \n",
       "...                           ...                ...     ...              ...  \n",
       "1036473                  0.209055                5.0     0.0            0.004  \n",
       "1036477                  0.049131                2.0     0.0            0.148  \n",
       "1036474                  0.066367                3.0     0.0            0.128  \n",
       "1036475                  0.107374                3.0     0.0            0.000  \n",
       "1036476                  0.012214                3.0     0.0            0.000  \n",
       "\n",
       "[1036478 rows x 43 columns]"
      ]
     },
     "execution_count": 16,
     "metadata": {},
     "output_type": "execute_result"
    }
   ],
   "source": [
    "all_peak_groups"
   ]
  },
  {
   "cell_type": "code",
   "execution_count": 17,
   "metadata": {},
   "outputs": [],
   "source": [
    "highest_ranking_swath_data = all_peak_groups.loc[\n",
    "    all_peak_groups.groupby(['transition_group_id'])[\"var_xcorr_shape\"].idxmax()\n",
    "]"
   ]
  },
  {
   "cell_type": "code",
   "execution_count": 18,
   "metadata": {},
   "outputs": [
    {
     "data": {
      "text/plain": [
       "0.000    34914\n",
       "0.004     5416\n",
       "1.000     3726\n",
       "0.008     3280\n",
       "0.012     2293\n",
       "         ...  \n",
       "0.836      101\n",
       "0.844      100\n",
       "0.572       99\n",
       "0.652       98\n",
       "0.848       98\n",
       "Name: vote_percentage, Length: 251, dtype: int64"
      ]
     },
     "execution_count": 18,
     "metadata": {},
     "output_type": "execute_result"
    }
   ],
   "source": [
    "highest_ranking_swath_data[\n",
    "    highest_ranking_swath_data.target == 1.0\n",
    "].vote_percentage.value_counts()"
   ]
  },
  {
   "cell_type": "code",
   "execution_count": 19,
   "metadata": {},
   "outputs": [],
   "source": [
    "targets = highest_ranking_swath_data[\n",
    "    (highest_ranking_swath_data.vote_percentage >= 1.0) &\n",
    "    (highest_ranking_swath_data.target == 1.0)\n",
    "].copy()"
   ]
  },
  {
   "cell_type": "code",
   "execution_count": 20,
   "metadata": {},
   "outputs": [],
   "source": [
    "decoys = highest_ranking_swath_data[\n",
    "    (highest_ranking_swath_data.vote_percentage < 1.0) &\n",
    "    (highest_ranking_swath_data.target == 1.0)\n",
    "].copy()"
   ]
  },
  {
   "cell_type": "code",
   "execution_count": null,
   "metadata": {},
   "outputs": [],
   "source": []
  },
  {
   "cell_type": "code",
   "execution_count": 21,
   "metadata": {},
   "outputs": [
    {
     "name": "stderr",
     "output_type": "stream",
     "text": [
      "<ipython-input-21-da7fabd652c3>:22: UserWarning: Matplotlib is currently using module://ipykernel.pylab.backend_inline, which is a non-GUI backend, so cannot show the figure.\n",
      "  test.show()\n"
     ]
    },
    {
     "data": {
      "image/png": "[encoded data removed]",
      "text/plain": [
       "<Figure size 1008x720 with 1 Axes>"
      ]
     },
     "metadata": {
      "needs_background": "light"
     },
     "output_type": "display_data"
    }
   ],
   "source": [
    "import matplotlib.pyplot as pyplot\n",
    "from matplotlib.pyplot import figure\n",
    "\n",
    "test = figure(figsize=(14, 10))\n",
    "\n",
    "bins = 100\n",
    "\n",
    "corr_n, corr_bins, _ = pyplot.hist(\n",
    "    targets['var_xcorr_shape'], bins=bins, histtype='step', alpha=0.5, label='Targets')\n",
    "\n",
    "\n",
    "incorr_n, incorr_bins, _ = pyplot.hist(\n",
    "    decoys['var_xcorr_shape'], \n",
    "    bins=bins, \n",
    "    histtype='step', \n",
    "    alpha=0.5, \n",
    "    label='False Targets')\n",
    "\n",
    "\n",
    "test.legend(loc='upper right')\n",
    "#pyplot.axis([-5, 5, 0, 2000])\n",
    "test.show()"
   ]
  },
  {
   "cell_type": "code",
   "execution_count": 18,
   "metadata": {},
   "outputs": [],
   "source": [
    "create_table(osw_path, CREATE_GHOSTSCORE_TABLE)"
   ]
  },
  {
   "cell_type": "code",
   "execution_count": 19,
   "metadata": {},
   "outputs": [],
   "source": [
    "cutoff = 1.0"
   ]
  },
  {
   "cell_type": "code",
   "execution_count": 20,
   "metadata": {},
   "outputs": [],
   "source": [
    "record_updates = noisey_labels[\n",
    "    [\n",
    "        'feature_id',\n",
    "        'vote_percentage'\n",
    "    ]\n",
    "]"
   ]
  },
  {
   "cell_type": "code",
   "execution_count": 21,
   "metadata": {},
   "outputs": [],
   "source": [
    "feature_ids = list(record_updates['feature_id'])\n",
    "votes = list(record_updates['vote_percentage'])"
   ]
  },
  {
   "cell_type": "code",
   "execution_count": 23,
   "metadata": {},
   "outputs": [],
   "source": [
    "record_updates = list()\n",
    "for feature_id, vote in zip(feature_ids, votes):\n",
    "    record_updates.append(\n",
    "        {'feature_id': feature_id,\n",
    "         'vote_percentage': vote}\n",
    "    )"
   ]
  },
  {
   "cell_type": "code",
   "execution_count": 25,
   "metadata": {},
   "outputs": [],
   "source": [
    "from gscore.osw.connection import OSWConnection\n",
    "\n",
    "with OSWConnection(osw_path) as conn:\n",
    "    conn.add_records(\n",
    "        table_name='ghost_score_table', records=record_updates\n",
    "    )"
   ]
  },
  {
   "cell_type": "markdown",
   "metadata": {},
   "source": [
    "# Train model script"
   ]
  },
  {
   "cell_type": "code",
   "execution_count": 4,
   "metadata": {},
   "outputs": [],
   "source": [
    "from gscore.osw.queries import FETCH_VOTED_DATA"
   ]
  },
  {
   "cell_type": "code",
   "execution_count": 6,
   "metadata": {},
   "outputs": [],
   "source": [
    "peak_groups = fetch_peak_groups(host=osw_path, query=FETCH_VOTED_DATA)"
   ]
  },
  {
   "cell_type": "code",
   "execution_count": 7,
   "metadata": {},
   "outputs": [],
   "source": [
    "peak_groups.rerank_groups(rerank_keys=['var_xcorr_shape'], ascending=False)"
   ]
  },
  {
   "cell_type": "code",
   "execution_count": 8,
   "metadata": {},
   "outputs": [],
   "source": [
    "highest_ranking = peak_groups.select_peak_group(\n",
    "    rank=1,\n",
    "    rerank_keys=['var_xcorr_shape'], \n",
    "    ascending=False\n",
    ")"
   ]
  },
  {
   "cell_type": "code",
   "execution_count": 9,
   "metadata": {},
   "outputs": [
    {
     "data": {
      "text/plain": [
       "1.0    104227\n",
       "Name: target, dtype: int64"
      ]
     },
     "execution_count": 9,
     "metadata": {},
     "output_type": "execute_result"
    }
   ],
   "source": [
    "highest_ranking.target.value_counts()"
   ]
  },
  {
   "cell_type": "code",
   "execution_count": 11,
   "metadata": {},
   "outputs": [],
   "source": [
    "cutoff = 1.0"
   ]
  },
  {
   "cell_type": "code",
   "execution_count": 12,
   "metadata": {},
   "outputs": [],
   "source": [
    "targets = highest_ranking[\n",
    "    (highest_ranking['vote_percentage'] >= cutoff)\n",
    "].copy()"
   ]
  },
  {
   "cell_type": "code",
   "execution_count": 13,
   "metadata": {},
   "outputs": [],
   "source": [
    "import tensorflow as tf\n",
    "\n",
    "from tensorflow import keras\n",
    "\n",
    "from sklearn.model_selection import train_test_split\n",
    "\n",
    "import matplotlib.pyplot as plt"
   ]
  },
  {
   "cell_type": "code",
   "execution_count": 14,
   "metadata": {},
   "outputs": [],
   "source": [
    "decoys = highest_ranking[\n",
    "    (highest_ranking['vote_percentage'] < cutoff)\n",
    "].copy()"
   ]
  },
  {
   "cell_type": "code",
   "execution_count": 15,
   "metadata": {},
   "outputs": [],
   "source": [
    "decoys['target'] = 0.0\n",
    "targets['target'] = 1.0"
   ]
  },
  {
   "cell_type": "code",
   "execution_count": 16,
   "metadata": {},
   "outputs": [],
   "source": [
    "target_data = pd.concat([targets, decoys])"
   ]
  },
  {
   "cell_type": "code",
   "execution_count": 17,
   "metadata": {},
   "outputs": [
    {
     "data": {
      "text/plain": [
       "1.0    59617\n",
       "0.0    44610\n",
       "Name: target, dtype: int64"
      ]
     },
     "execution_count": 17,
     "metadata": {},
     "output_type": "execute_result"
    }
   ],
   "source": [
    "target_data.target.value_counts()"
   ]
  },
  {
   "cell_type": "code",
   "execution_count": 18,
   "metadata": {},
   "outputs": [],
   "source": [
    "training_data, testing_data = train_test_split(target_data, test_size=0.1, random_state=42)"
   ]
  },
  {
   "cell_type": "code",
   "execution_count": 19,
   "metadata": {},
   "outputs": [
    {
     "data": {
      "text/plain": [
       "1.0    53534\n",
       "0.0    40270\n",
       "Name: target, dtype: int64"
      ]
     },
     "execution_count": 19,
     "metadata": {},
     "output_type": "execute_result"
    }
   ],
   "source": [
    "training_data.target.value_counts()"
   ]
  },
  {
   "cell_type": "code",
   "execution_count": 20,
   "metadata": {},
   "outputs": [],
   "source": [
    "def preprocess_data(pipeline, data, columns, train=False):\n",
    "    \n",
    "    if train == True:\n",
    "        \n",
    "        data[columns] = pipeline.fit_transform(data[columns])\n",
    "        \n",
    "        return data, pipeline\n",
    "        \n",
    "    else:\n",
    "        \n",
    "        data[columns] = pipeline.transform(data[columns])\n",
    "        return data\n",
    "        \n",
    "    "
   ]
  },
  {
   "cell_type": "code",
   "execution_count": 22,
   "metadata": {},
   "outputs": [],
   "source": [
    "from gscore.models.preprocess import STANDARD_SCALAR_PIPELINE"
   ]
  },
  {
   "cell_type": "code",
   "execution_count": 26,
   "metadata": {},
   "outputs": [],
   "source": [
    "scaling_pipeline = STANDARD_SCALAR_PIPELINE"
   ]
  },
  {
   "cell_type": "code",
   "execution_count": 27,
   "metadata": {},
   "outputs": [],
   "source": [
    "training_processed, scaling_pipeline = preprocess_data(\n",
    "    pipeline=scaling_pipeline,\n",
    "    data=training_data.copy(),\n",
    "    columns=peak_groups.ml_features,\n",
    "    train=True\n",
    ")"
   ]
  },
  {
   "cell_type": "code",
   "execution_count": 28,
   "metadata": {},
   "outputs": [],
   "source": [
    "import pickle\n",
    "\n",
    "with open('scalers/standard_scaler.pkl', 'wb') as pkl:\n",
    "    pickle.dump(scaling_pipeline, pkl)"
   ]
  },
  {
   "cell_type": "code",
   "execution_count": 29,
   "metadata": {},
   "outputs": [],
   "source": [
    "testing_processed = preprocess_data(\n",
    "    pipeline=scaling_pipeline,\n",
    "    data=testing_data.copy(),\n",
    "    columns=peak_groups.ml_features,\n",
    ")"
   ]
  },
  {
   "cell_type": "code",
   "execution_count": 34,
   "metadata": {},
   "outputs": [],
   "source": [
    "from functools import partial\n",
    "\n",
    "\n",
    "RegularizedDense = partial(\n",
    "    keras.layers.Dense,\n",
    "    activation='elu',\n",
    "    kernel_initializer='he_normal',\n",
    "    kernel_regularizer=keras.regularizers.l2()\n",
    ")\n",
    "\n",
    "optimizer = keras.optimizers.Adam()\n",
    "\n",
    "early_stopping_cb = keras.callbacks.EarlyStopping(patience=2,\n",
    "                                                  restore_best_weights=True)\n",
    "\n",
    "model = keras.models.Sequential([\n",
    "    RegularizedDense(30, input_shape=training_processed[peak_groups.ml_features].shape[1:]),\n",
    "    #keras.layers.Dropout(0.2),\n",
    "    RegularizedDense(30),\n",
    "    #keras.layers.Dropout(0.1),\n",
    "    RegularizedDense(30),\n",
    "    #keras.layers.Dropout(0.1),\n",
    "    RegularizedDense(30),\n",
    "    keras.layers.Dense(1, activation='linear')\n",
    "])\n",
    "\n",
    "model.compile(loss='binary_crossentropy',\n",
    "              optimizer=optimizer,\n",
    "              metrics=['accuracy']\n",
    ")\n"
   ]
  },
  {
   "cell_type": "code",
   "execution_count": 61,
   "metadata": {},
   "outputs": [],
   "source": [
    "ADAM_OPTIMIZER = keras.optimizers.Adam()\n",
    "\n",
    "EARLY_STOPPING_CB = keras.callbacks.EarlyStopping(\n",
    "    patience=2,\n",
    "    restore_best_weights=True\n",
    ")\n",
    "\n",
    "class TargetScoringModel(keras.Model):\n",
    "\n",
    "    RegularizedDense = partial(\n",
    "        keras.layers.Dense,\n",
    "        activation='elu',\n",
    "        kernel_initializer='he_normal',\n",
    "        kernel_regularizer=keras.regularizers.l2(),\n",
    "        dtype='float64'\n",
    "    )\n",
    "\n",
    "    def __init__(self, input_dim, **kwargs):\n",
    "        super().__init__(**kwargs)\n",
    "        self.dense_1 = self.RegularizedDense(30, input_shape=input_dim)\n",
    "        self.dense_2 = self.RegularizedDense(30)\n",
    "        self.dense_3 = self.RegularizedDense(30)\n",
    "        self.dense_4 = self.RegularizedDense(30)\n",
    "        self.score_output = keras.layers.Dense(1, activation='linear', dtype='float64')\n",
    "\n",
    "    def call(self, inputs):\n",
    "        x = self.dense_1(inputs)\n",
    "        x = self.dense_2(x)\n",
    "        x = self.dense_3(x)\n",
    "        x = self.dense_4(x)\n",
    "        return self.score_output(x)"
   ]
  },
  {
   "cell_type": "code",
   "execution_count": 62,
   "metadata": {},
   "outputs": [],
   "source": [
    "input_shape = training_processed[peak_groups.ml_features].shape[1:]"
   ]
  },
  {
   "cell_type": "code",
   "execution_count": 63,
   "metadata": {},
   "outputs": [],
   "source": [
    "model = TargetScoringModel(input_dim=input_shape)"
   ]
  },
  {
   "cell_type": "code",
   "execution_count": 64,
   "metadata": {},
   "outputs": [],
   "source": [
    "model.compile(loss='binary_crossentropy',\n",
    "              optimizer=ADAM_OPTIMIZER,\n",
    "              metrics=['accuracy']\n",
    ")"
   ]
  },
  {
   "cell_type": "code",
   "execution_count": 65,
   "metadata": {},
   "outputs": [
    {
     "name": "stdout",
     "output_type": "stream",
     "text": [
      "Epoch 1/20\n",
      "WARNING:tensorflow:Layer target_scoring_model_5 is casting an input tensor from dtype float64 to the layer's dtype of float32, which is new behavior in TensorFlow 2.  The layer has dtype float32 because its dtype defaults to floatx.\n",
      "\n",
      "If you intended to run this layer in float32, you can safely ignore this warning. If in doubt, this warning is likely only an issue if you are porting a TensorFlow 1.X model to TensorFlow 2.\n",
      "\n",
      "To change all layers to have dtype float64 by default, call `tf.keras.backend.set_floatx('float64')`. To change just this layer, pass dtype='float64' to the layer constructor. If you are the author of this layer, you can disable autocasting by passing autocast=False to the base Layer constructor.\n",
      "\n",
      "2639/2639 [==============================] - 2s 724us/step - loss: 4.8731 - accuracy: 0.7586 - val_loss: 3.5998 - val_accuracy: 0.8467\n",
      "Epoch 2/20\n",
      "2639/2639 [==============================] - 2s 704us/step - loss: 3.2424 - accuracy: 0.8464 - val_loss: 2.5369 - val_accuracy: 0.8694\n",
      "Epoch 3/20\n",
      "2639/2639 [==============================] - 2s 816us/step - loss: 6.2319 - accuracy: 0.6596 - val_loss: 4.8023 - val_accuracy: 0.7477\n",
      "Epoch 4/20\n",
      "2639/2639 [==============================] - 2s 755us/step - loss: 3.5530 - accuracy: 0.8271 - val_loss: 2.5270 - val_accuracy: 0.8860\n",
      "Epoch 5/20\n",
      "2639/2639 [==============================] - 2s 790us/step - loss: 2.1480 - accuracy: 0.9024 - val_loss: 1.7388 - val_accuracy: 0.9388\n",
      "Epoch 6/20\n",
      "2639/2639 [==============================] - 2s 697us/step - loss: 1.5779 - accuracy: 0.9392 - val_loss: 1.2725 - val_accuracy: 0.9471\n",
      "Epoch 7/20\n",
      "2639/2639 [==============================] - 2s 705us/step - loss: 0.9584 - accuracy: 0.9543 - val_loss: 0.6269 - val_accuracy: 0.9652\n",
      "Epoch 8/20\n",
      "2639/2639 [==============================] - 2s 692us/step - loss: 0.4343 - accuracy: 0.9635 - val_loss: 0.2653 - val_accuracy: 0.9687\n",
      "Epoch 9/20\n",
      "2639/2639 [==============================] - 2s 689us/step - loss: 0.3141 - accuracy: 0.9494 - val_loss: 0.2400 - val_accuracy: 0.9621\n",
      "Epoch 10/20\n",
      "2639/2639 [==============================] - 2s 687us/step - loss: 0.2500 - accuracy: 0.9577 - val_loss: 0.1892 - val_accuracy: 0.9692\n",
      "Epoch 11/20\n",
      "2639/2639 [==============================] - 2s 704us/step - loss: 0.2935 - accuracy: 0.9529 - val_loss: 0.1783 - val_accuracy: 0.9722\n",
      "Epoch 12/20\n",
      "2639/2639 [==============================] - 2s 741us/step - loss: 0.1934 - accuracy: 0.9662 - val_loss: 0.1711 - val_accuracy: 0.9675\n",
      "Epoch 13/20\n",
      "2639/2639 [==============================] - 2s 806us/step - loss: 0.1661 - accuracy: 0.9702 - val_loss: 0.1272 - val_accuracy: 0.9775\n",
      "Epoch 14/20\n",
      "2639/2639 [==============================] - 2s 713us/step - loss: 1.0610 - accuracy: 0.8906 - val_loss: 0.2180 - val_accuracy: 0.9665\n",
      "Epoch 15/20\n",
      "2639/2639 [==============================] - 2s 892us/step - loss: 0.1914 - accuracy: 0.9712 - val_loss: 0.2285 - val_accuracy: 0.9570\n"
     ]
    }
   ],
   "source": [
    "history = model.fit(\n",
    "    training_processed[peak_groups.ml_features], \n",
    "    training_processed['target'],\n",
    "    epochs=20,\n",
    "    validation_split=0.10,\n",
    "    callbacks=[EARLY_STOPPING_CB],\n",
    "    batch_size=32\n",
    ")"
   ]
  },
  {
   "cell_type": "code",
   "execution_count": 66,
   "metadata": {},
   "outputs": [
    {
     "name": "stdout",
     "output_type": "stream",
     "text": [
      "326/326 [==============================] - 0s 447us/step - loss: 0.1346 - accuracy: 0.9753\n"
     ]
    },
    {
     "data": {
      "text/plain": [
       "[0.13457804918289185, 0.9753429889678955]"
      ]
     },
     "execution_count": 66,
     "metadata": {},
     "output_type": "execute_result"
    }
   ],
   "source": [
    "model.evaluate(testing_processed[peak_groups.ml_features], testing_processed['target'])"
   ]
  },
  {
   "cell_type": "code",
   "execution_count": 58,
   "metadata": {},
   "outputs": [
    {
     "name": "stdout",
     "output_type": "stream",
     "text": [
      "INFO:tensorflow:Assets written to: models/hatlas.0.1.test/assets\n"
     ]
    }
   ],
   "source": [
    "model.save('models/hatlas.0.1.test')"
   ]
  },
  {
   "cell_type": "code",
   "execution_count": 59,
   "metadata": {},
   "outputs": [],
   "source": [
    "scoring_model = keras.models.load_model('models/hatlas.0.1.test')"
   ]
  },
  {
   "cell_type": "code",
   "execution_count": 60,
   "metadata": {},
   "outputs": [
    {
     "ename": "NameError",
     "evalue": "name 'fetch_decoy_free' is not defined",
     "output_type": "error",
     "traceback": [
      "\u001b[0;31m---------------------------------------------------------------------------\u001b[0m",
      "\u001b[0;31mNameError\u001b[0m                                 Traceback (most recent call last)",
      "\u001b[0;32m<ipython-input-60-5bf6fb87adee>\u001b[0m in \u001b[0;36m<module>\u001b[0;34m\u001b[0m\n\u001b[0;32m----> 1\u001b[0;31m \u001b[0mpeak_groups\u001b[0m \u001b[0;34m=\u001b[0m \u001b[0mfetch_decoy_free\u001b[0m\u001b[0;34m(\u001b[0m\u001b[0mvoted_data\u001b[0m\u001b[0;34m)\u001b[0m\u001b[0;34m\u001b[0m\u001b[0;34m\u001b[0m\u001b[0m\n\u001b[0m",
      "\u001b[0;31mNameError\u001b[0m: name 'fetch_decoy_free' is not defined"
     ]
    }
   ],
   "source": [
    "peak_groups = fetch_decoy_free(voted_data)"
   ]
  },
  {
   "cell_type": "code",
   "execution_count": 61,
   "metadata": {},
   "outputs": [],
   "source": [
    "all_peak_groups = peak_groups.select_peak_group(\n",
    "    return_all=True\n",
    ")"
   ]
  },
  {
   "cell_type": "code",
   "execution_count": 62,
   "metadata": {},
   "outputs": [],
   "source": [
    "all_peak_groups['d_score'] = scoring_model.predict(all_peak_groups[peak_groups.ml_features]).ravel()"
   ]
  },
  {
   "cell_type": "code",
   "execution_count": 63,
   "metadata": {},
   "outputs": [],
   "source": [
    "all_peak_groups['vote_percentage'] = all_peak_groups['vote_percentage'].fillna(0.000)"
   ]
  },
  {
   "cell_type": "code",
   "execution_count": 64,
   "metadata": {},
   "outputs": [],
   "source": [
    "import numpy as np"
   ]
  },
  {
   "cell_type": "code",
   "execution_count": 65,
   "metadata": {},
   "outputs": [],
   "source": [
    "all_peak_groups['alt_d_score'] = np.exp(all_peak_groups['vote_percentage']) * all_peak_groups['d_score']"
   ]
  },
  {
   "cell_type": "code",
   "execution_count": 66,
   "metadata": {},
   "outputs": [
    {
     "data": {
      "text/plain": [
       "0        -1.917926\n",
       "1        -1.710281\n",
       "2        -0.560479\n",
       "3         0.501129\n",
       "4        -0.227804\n",
       "            ...   \n",
       "520911    0.240733\n",
       "520912    0.524230\n",
       "520913    0.572161\n",
       "520914    0.985711\n",
       "520915    0.156030\n",
       "Name: alt_d_score, Length: 520916, dtype: float64"
      ]
     },
     "execution_count": 66,
     "metadata": {},
     "output_type": "execute_result"
    }
   ],
   "source": [
    "all_peak_groups['alt_d_score']"
   ]
  },
  {
   "cell_type": "code",
   "execution_count": 68,
   "metadata": {},
   "outputs": [],
   "source": [
    "highest_ranking_peak_groups = all_peak_groups.loc[\n",
    "    all_peak_groups.groupby(['transition_group_id'])['alt_d_score'].idxmax()\n",
    "]"
   ]
  },
  {
   "cell_type": "code",
   "execution_count": 73,
   "metadata": {},
   "outputs": [],
   "source": [
    "targets = highest_ranking_peak_groups.loc[\n",
    "    highest_ranking_peak_groups['vote_percentage'] >= cutoff\n",
    "].copy()"
   ]
  },
  {
   "cell_type": "code",
   "execution_count": 74,
   "metadata": {},
   "outputs": [],
   "source": [
    "decoys = highest_ranking_peak_groups.loc[\n",
    "    highest_ranking_peak_groups['vote_percentage'] < cutoff\n",
    "].copy()"
   ]
  },
  {
   "cell_type": "code",
   "execution_count": 76,
   "metadata": {},
   "outputs": [],
   "source": [
    "decoys['target'] = 0.0"
   ]
  },
  {
   "cell_type": "code",
   "execution_count": 77,
   "metadata": {},
   "outputs": [],
   "source": [
    "all_peak_groups = pd.concat([targets, decoys])"
   ]
  },
  {
   "cell_type": "code",
   "execution_count": 78,
   "metadata": {},
   "outputs": [
    {
     "data": {
      "text/plain": [
       "0.0    82580\n",
       "1.0    21647\n",
       "Name: target, dtype: int64"
      ]
     },
     "execution_count": 78,
     "metadata": {},
     "output_type": "execute_result"
    }
   ],
   "source": [
    "all_peak_groups.target.value_counts()"
   ]
  },
  {
   "cell_type": "code",
   "execution_count": 80,
   "metadata": {},
   "outputs": [
    {
     "name": "stderr",
     "output_type": "stream",
     "text": [
      "<ipython-input-80-b4fa81556da3>:34: UserWarning: Matplotlib is currently using module://ipykernel.pylab.backend_inline, which is a non-GUI backend, so cannot show the figure.\n",
      "  test.show()\n"
     ]
    },
    {
     "data": {
      "image/png": "[encoded data removed]",
      "text/plain": [
       "<Figure size 1008x720 with 1 Axes>"
      ]
     },
     "metadata": {
      "needs_background": "light"
     },
     "output_type": "display_data"
    }
   ],
   "source": [
    "import matplotlib.pyplot as pyplot\n",
    "from matplotlib.pyplot import figure\n",
    "\n",
    "test = figure(figsize=(14, 10))\n",
    "\n",
    "bins = 500\n",
    "\n",
    "corr_n, corr_bins, _ = pyplot.hist(\n",
    "    all_peak_groups['d_score'], bins=bins, histtype='step', alpha=0.5, label='Targets')\n",
    "\n",
    "\n",
    "incorr_n, incorr_bins, _ = pyplot.hist(\n",
    "    all_peak_groups[\n",
    "        all_peak_groups['target'] == 0.0\n",
    "    ]['d_score'], \n",
    "    bins=bins, \n",
    "    histtype='step', \n",
    "    alpha=0.5, \n",
    "    label='False Targets')\n",
    "\n",
    "# pyplot.hist(\n",
    "#     scoring_target_data[\n",
    "#         scoring_target_data['target'] == 0.0\n",
    "#     ]['altered_score'], \n",
    "#     bins=bins, \n",
    "#     histtype='step', \n",
    "#     alpha=0.5, \n",
    "#     label='Decoys')\n",
    "\n",
    "\n",
    "\n",
    "test.legend(loc='upper right')\n",
    "#pyplot.axis([-5, 5, 0, 2000])\n",
    "test.show()"
   ]
  },
  {
   "cell_type": "code",
   "execution_count": null,
   "metadata": {},
   "outputs": [],
   "source": []
  }
 ],
 "metadata": {
  "kernelspec": {
   "display_name": "Python 3",
   "language": "python",
   "name": "python3"
  },
  "language_info": {
   "codemirror_mode": {
    "name": "ipython",
    "version": 3
   },
   "file_extension": ".py",
   "mimetype": "text/x-python",
   "name": "python",
   "nbconvert_exporter": "python",
   "pygments_lexer": "ipython3",
   "version": "3.8.5"
  }
 },
 "nbformat": 4,
 "nbformat_minor": 4
}
