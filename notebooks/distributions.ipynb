{
 "cells": [
  {
   "cell_type": "code",
   "execution_count": 48,
   "metadata": {
    "collapsed": true
   },
   "outputs": [],
   "source": [
    "import numpy as np\n",
    "\n",
    "from gscore.fdr import GlobalDistribution"
   ]
  },
  {
   "cell_type": "code",
   "execution_count": 153,
   "outputs": [],
   "source": [
    "model_path = \"/home/aaron/projects/ghost/data/spike_in/models/peptide.test\""
   ],
   "metadata": {
    "collapsed": false,
    "pycharm": {
     "name": "#%%\n"
    }
   }
  },
  {
   "cell_type": "code",
   "execution_count": 154,
   "outputs": [],
   "source": [
    "global_model = GlobalDistribution.load(model_path)"
   ],
   "metadata": {
    "collapsed": false,
    "pycharm": {
     "name": "#%%\n"
    }
   }
  },
  {
   "cell_type": "code",
   "execution_count": 155,
   "outputs": [],
   "source": [
    "import pandas as pd\n",
    "\n",
    "check = pd.DataFrame(\n",
    "    {\n",
    "        \"label\": global_model.labels.ravel(),\n",
    "        \"scores\": global_model.scores.ravel()\n",
    "    }\n",
    ")"
   ],
   "metadata": {
    "collapsed": false,
    "pycharm": {
     "name": "#%%\n"
    }
   }
  },
  {
   "cell_type": "code",
   "execution_count": 156,
   "outputs": [
    {
     "data": {
      "text/plain": "<seaborn.axisgrid.FacetGrid at 0x7f5c13415f10>"
     },
     "execution_count": 156,
     "metadata": {},
     "output_type": "execute_result"
    },
    {
     "data": {
      "text/plain": "<Figure size 402.375x360 with 1 Axes>",
      "image/png": "[encoded data removed]"
     },
     "metadata": {
      "needs_background": "light"
     },
     "output_type": "display_data"
    }
   ],
   "source": [
    "import seaborn as sns\n",
    "\n",
    "sns.displot(check, x=\"scores\", hue=\"label\")"
   ],
   "metadata": {
    "collapsed": false,
    "pycharm": {
     "name": "#%%\n"
    }
   }
  },
  {
   "cell_type": "code",
   "execution_count": 157,
   "outputs": [],
   "source": [
    "function_check = pd.DataFrame(\n",
    "    {\n",
    "        \"label\": global_model.score_distribution.x_axis.ravel(),\n",
    "        \"scores\": global_model.score_distribution.target_scores.ravel(),\n",
    "        \"type\": [\"Target\" for _ in range(global_model.score_distribution.x_axis.shape[0])]\n",
    "    }\n",
    "\n",
    ")"
   ],
   "metadata": {
    "collapsed": false,
    "pycharm": {
     "name": "#%%\n"
    }
   }
  },
  {
   "cell_type": "code",
   "execution_count": 158,
   "outputs": [
    {
     "data": {
      "text/plain": "        label  scores    type\n0   -5.605170     0.0  Target\n1   -5.596254     0.0  Target\n2   -5.587337     0.0  Target\n3   -5.578420     0.0  Target\n4   -5.569503     0.0  Target\n..        ...     ...     ...\n995  3.266918     0.0  Target\n996  3.275835     0.0  Target\n997  3.284752     0.0  Target\n998  3.293668     0.0  Target\n999  3.302585     0.0  Target\n\n[1000 rows x 3 columns]",
      "text/html": "<div>\n<style scoped>\n    .dataframe tbody tr th:only-of-type {\n        vertical-align: middle;\n    }\n\n    .dataframe tbody tr th {\n        vertical-align: top;\n    }\n\n    .dataframe thead th {\n        text-align: right;\n    }\n</style>\n<table border=\"1\" class=\"dataframe\">\n  <thead>\n    <tr style=\"text-align: right;\">\n      <th></th>\n      <th>label</th>\n      <th>scores</th>\n      <th>type</th>\n    </tr>\n  </thead>\n  <tbody>\n    <tr>\n      <th>0</th>\n      <td>-5.605170</td>\n      <td>0.0</td>\n      <td>Target</td>\n    </tr>\n    <tr>\n      <th>1</th>\n      <td>-5.596254</td>\n      <td>0.0</td>\n      <td>Target</td>\n    </tr>\n    <tr>\n      <th>2</th>\n      <td>-5.587337</td>\n      <td>0.0</td>\n      <td>Target</td>\n    </tr>\n    <tr>\n      <th>3</th>\n      <td>-5.578420</td>\n      <td>0.0</td>\n      <td>Target</td>\n    </tr>\n    <tr>\n      <th>4</th>\n      <td>-5.569503</td>\n      <td>0.0</td>\n      <td>Target</td>\n    </tr>\n    <tr>\n      <th>...</th>\n      <td>...</td>\n      <td>...</td>\n      <td>...</td>\n    </tr>\n    <tr>\n      <th>995</th>\n      <td>3.266918</td>\n      <td>0.0</td>\n      <td>Target</td>\n    </tr>\n    <tr>\n      <th>996</th>\n      <td>3.275835</td>\n      <td>0.0</td>\n      <td>Target</td>\n    </tr>\n    <tr>\n      <th>997</th>\n      <td>3.284752</td>\n      <td>0.0</td>\n      <td>Target</td>\n    </tr>\n    <tr>\n      <th>998</th>\n      <td>3.293668</td>\n      <td>0.0</td>\n      <td>Target</td>\n    </tr>\n    <tr>\n      <th>999</th>\n      <td>3.302585</td>\n      <td>0.0</td>\n      <td>Target</td>\n    </tr>\n  </tbody>\n</table>\n<p>1000 rows × 3 columns</p>\n</div>"
     },
     "execution_count": 158,
     "metadata": {},
     "output_type": "execute_result"
    }
   ],
   "source": [
    "function_check"
   ],
   "metadata": {
    "collapsed": false,
    "pycharm": {
     "name": "#%%\n"
    }
   }
  },
  {
   "cell_type": "code",
   "execution_count": 159,
   "outputs": [],
   "source": [
    "decoy_check = pd.DataFrame(\n",
    "    {\n",
    "        \"label\": global_model.score_distribution.x_axis.ravel(),\n",
    "        \"scores\": global_model.score_distribution.decoy_scores.ravel(),\n",
    "        \"type\": [\"Decoy\" for _ in range(global_model.score_distribution.x_axis.shape[0])]\n",
    "    }\n",
    "\n",
    ")\n",
    "\n",
    "all_scores = pd.concat(\n",
    "    [\n",
    "        function_check,\n",
    "        decoy_check\n",
    "    ]\n",
    ").reset_index()"
   ],
   "metadata": {
    "collapsed": false,
    "pycharm": {
     "name": "#%%\n"
    }
   }
  },
  {
   "cell_type": "code",
   "execution_count": 160,
   "outputs": [
    {
     "data": {
      "text/plain": "<AxesSubplot:xlabel='label', ylabel='scores'>"
     },
     "execution_count": 160,
     "metadata": {},
     "output_type": "execute_result"
    },
    {
     "data": {
      "text/plain": "<Figure size 432x288 with 1 Axes>",
      "image/png": "[encoded data removed]"
     },
     "metadata": {
      "needs_background": "light"
     },
     "output_type": "display_data"
    }
   ],
   "source": [
    "sns.lineplot(data=all_scores, x=\"label\", y=\"scores\", hue=\"type\")"
   ],
   "metadata": {
    "collapsed": false,
    "pycharm": {
     "name": "#%%\n"
    }
   }
  },
  {
   "cell_type": "code",
   "execution_count": 161,
   "outputs": [
    {
     "data": {
      "text/plain": "array([0.00108812, 0.        , 0.0029641 , ..., 0.00915771, 0.00760249,\n       0.00821945])"
     },
     "execution_count": 161,
     "metadata": {},
     "output_type": "execute_result"
    }
   ],
   "source": [
    "global_model.q_values[global_model.q_values <= 0.01]"
   ],
   "metadata": {
    "collapsed": false,
    "pycharm": {
     "name": "#%%\n"
    }
   }
  },
  {
   "cell_type": "code",
   "execution_count": 162,
   "outputs": [
    {
     "data": {
      "text/plain": "array([0.00108812, 0.        , 0.0029641 , ..., 0.00915771, 0.00760249,\n       0.00821945])"
     },
     "execution_count": 162,
     "metadata": {},
     "output_type": "execute_result"
    }
   ],
   "source": [
    "global_model.q_values[global_model.q_values <= 0.01]"
   ],
   "metadata": {
    "collapsed": false,
    "pycharm": {
     "name": "#%%\n"
    }
   }
  },
  {
   "cell_type": "code",
   "execution_count": null,
   "outputs": [],
   "source": [],
   "metadata": {
    "collapsed": false,
    "pycharm": {
     "name": "#%%\n"
    }
   }
  }
 ],
 "metadata": {
  "kernelspec": {
   "display_name": "Python 3",
   "language": "python",
   "name": "python3"
  },
  "language_info": {
   "codemirror_mode": {
    "name": "ipython",
    "version": 2
   },
   "file_extension": ".py",
   "mimetype": "text/x-python",
   "name": "python",
   "nbconvert_exporter": "python",
   "pygments_lexer": "ipython2",
   "version": "2.7.6"
  }
 },
 "nbformat": 4,
 "nbformat_minor": 0
}