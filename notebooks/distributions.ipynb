{
 "cells": [
  {
   "cell_type": "code",
   "execution_count": 46,
   "metadata": {
    "collapsed": true
   },
   "outputs": [],
   "source": [
    "import numpy as np\n",
    "\n",
    "from gscore.fdr import GlobalDistribution"
   ]
  },
  {
   "cell_type": "code",
   "execution_count": 59,
   "outputs": [],
   "source": [
    "model_path = \"/home/aaron/projects/ghost/data/spike_in/models/protein.test\""
   ],
   "metadata": {
    "collapsed": false,
    "pycharm": {
     "name": "#%%\n"
    }
   }
  },
  {
   "cell_type": "code",
   "execution_count": 60,
   "outputs": [],
   "source": [
    "global_model = GlobalDistribution.load(model_path)"
   ],
   "metadata": {
    "collapsed": false,
    "pycharm": {
     "name": "#%%\n"
    }
   }
  },
  {
   "cell_type": "code",
   "execution_count": 61,
   "outputs": [],
   "source": [
    "import pandas as pd\n",
    "\n",
    "check = pd.DataFrame(\n",
    "    {\n",
    "        \"label\": global_model.labels.ravel(),\n",
    "        \"scores\": global_model.scores.ravel()\n",
    "    }\n",
    ")"
   ],
   "metadata": {
    "collapsed": false,
    "pycharm": {
     "name": "#%%\n"
    }
   }
  },
  {
   "cell_type": "code",
   "execution_count": 62,
   "outputs": [
    {
     "data": {
      "text/plain": "<seaborn.axisgrid.FacetGrid at 0x7fc0b470a220>"
     },
     "execution_count": 62,
     "metadata": {},
     "output_type": "execute_result"
    },
    {
     "data": {
      "text/plain": "<Figure size 402.375x360 with 1 Axes>",
      "image/png": "[encoded data removed]"
     },
     "metadata": {
      "needs_background": "light"
     },
     "output_type": "display_data"
    }
   ],
   "source": [
    "import seaborn as sns\n",
    "\n",
    "sns.displot(check, x=\"scores\", hue=\"label\")"
   ],
   "metadata": {
    "collapsed": false,
    "pycharm": {
     "name": "#%%\n"
    }
   }
  },
  {
   "cell_type": "code",
   "execution_count": 63,
   "outputs": [],
   "source": [
    "decoy_values = check[check[\"scores\"] >= 0.50][\"label\"].value_counts()"
   ],
   "metadata": {
    "collapsed": false,
    "pycharm": {
     "name": "#%%\n"
    }
   }
  },
  {
   "cell_type": "code",
   "execution_count": 64,
   "outputs": [
    {
     "data": {
      "text/plain": "0.2072880908370742"
     },
     "execution_count": 64,
     "metadata": {},
     "output_type": "execute_result"
    }
   ],
   "source": [
    "decoy_values[0] / decoy_values[1]"
   ],
   "metadata": {
    "collapsed": false,
    "pycharm": {
     "name": "#%%\n"
    }
   }
  },
  {
   "cell_type": "code",
   "execution_count": 65,
   "outputs": [],
   "source": [
    "function_check = pd.DataFrame(\n",
    "    {\n",
    "        \"label\": global_model.score_distribution.x_axis.ravel(),\n",
    "        \"scores\": global_model.score_distribution.target_scores.ravel(),\n",
    "        \"type\": [\"Target\" for _ in range(global_model.score_distribution.x_axis.shape[0])]\n",
    "    }\n",
    "\n",
    ")"
   ],
   "metadata": {
    "collapsed": false,
    "pycharm": {
     "name": "#%%\n"
    }
   }
  },
  {
   "cell_type": "code",
   "execution_count": 66,
   "outputs": [
    {
     "data": {
      "text/plain": "         label    scores    type\n0    -2.584470  0.000000  Target\n1    -2.567404  0.000000  Target\n2    -2.550338  0.000000  Target\n3    -2.533272  0.000000  Target\n4    -2.516205  0.000000  Target\n..         ...       ...     ...\n995  14.396285  0.003176  Target\n996  14.413351  0.003050  Target\n997  14.430417  0.002923  Target\n998  14.447483  0.002805  Target\n999  14.464549  0.002689  Target\n\n[1000 rows x 3 columns]",
      "text/html": "<div>\n<style scoped>\n    .dataframe tbody tr th:only-of-type {\n        vertical-align: middle;\n    }\n\n    .dataframe tbody tr th {\n        vertical-align: top;\n    }\n\n    .dataframe thead th {\n        text-align: right;\n    }\n</style>\n<table border=\"1\" class=\"dataframe\">\n  <thead>\n    <tr style=\"text-align: right;\">\n      <th></th>\n      <th>label</th>\n      <th>scores</th>\n      <th>type</th>\n    </tr>\n  </thead>\n  <tbody>\n    <tr>\n      <th>0</th>\n      <td>-2.584470</td>\n      <td>0.000000</td>\n      <td>Target</td>\n    </tr>\n    <tr>\n      <th>1</th>\n      <td>-2.567404</td>\n      <td>0.000000</td>\n      <td>Target</td>\n    </tr>\n    <tr>\n      <th>2</th>\n      <td>-2.550338</td>\n      <td>0.000000</td>\n      <td>Target</td>\n    </tr>\n    <tr>\n      <th>3</th>\n      <td>-2.533272</td>\n      <td>0.000000</td>\n      <td>Target</td>\n    </tr>\n    <tr>\n      <th>4</th>\n      <td>-2.516205</td>\n      <td>0.000000</td>\n      <td>Target</td>\n    </tr>\n    <tr>\n      <th>...</th>\n      <td>...</td>\n      <td>...</td>\n      <td>...</td>\n    </tr>\n    <tr>\n      <th>995</th>\n      <td>14.396285</td>\n      <td>0.003176</td>\n      <td>Target</td>\n    </tr>\n    <tr>\n      <th>996</th>\n      <td>14.413351</td>\n      <td>0.003050</td>\n      <td>Target</td>\n    </tr>\n    <tr>\n      <th>997</th>\n      <td>14.430417</td>\n      <td>0.002923</td>\n      <td>Target</td>\n    </tr>\n    <tr>\n      <th>998</th>\n      <td>14.447483</td>\n      <td>0.002805</td>\n      <td>Target</td>\n    </tr>\n    <tr>\n      <th>999</th>\n      <td>14.464549</td>\n      <td>0.002689</td>\n      <td>Target</td>\n    </tr>\n  </tbody>\n</table>\n<p>1000 rows × 3 columns</p>\n</div>"
     },
     "execution_count": 66,
     "metadata": {},
     "output_type": "execute_result"
    }
   ],
   "source": [
    "function_check"
   ],
   "metadata": {
    "collapsed": false,
    "pycharm": {
     "name": "#%%\n"
    }
   }
  },
  {
   "cell_type": "code",
   "execution_count": 67,
   "outputs": [],
   "source": [
    "decoy_check = pd.DataFrame(\n",
    "    {\n",
    "        \"label\": global_model.score_distribution.x_axis.ravel(),\n",
    "        \"scores\": global_model.score_distribution.decoy_scores.ravel(),\n",
    "        \"type\": [\"Decoy\" for _ in range(global_model.score_distribution.x_axis.shape[0])]\n",
    "    }\n",
    "\n",
    ")\n",
    "\n",
    "all_scores = pd.concat(\n",
    "    [\n",
    "        function_check,\n",
    "        decoy_check\n",
    "    ]\n",
    ").reset_index()"
   ],
   "metadata": {
    "collapsed": false,
    "pycharm": {
     "name": "#%%\n"
    }
   }
  },
  {
   "cell_type": "code",
   "execution_count": 68,
   "outputs": [
    {
     "data": {
      "text/plain": "<AxesSubplot:xlabel='label', ylabel='scores'>"
     },
     "execution_count": 68,
     "metadata": {},
     "output_type": "execute_result"
    },
    {
     "data": {
      "text/plain": "<Figure size 432x288 with 1 Axes>",
      "image/png": "[encoded data removed]"
     },
     "metadata": {
      "needs_background": "light"
     },
     "output_type": "display_data"
    }
   ],
   "source": [
    "sns.lineplot(data=all_scores, x=\"label\", y=\"scores\", hue=\"type\")"
   ],
   "metadata": {
    "collapsed": false,
    "pycharm": {
     "name": "#%%\n"
    }
   }
  },
  {
   "cell_type": "code",
   "execution_count": 69,
   "outputs": [
    {
     "data": {
      "text/plain": "array([0.        , 0.        , 0.        , ..., 0.00751226, 0.00872631,\n       0.00094425])"
     },
     "execution_count": 69,
     "metadata": {},
     "output_type": "execute_result"
    }
   ],
   "source": [
    "global_model.q_values[global_model.q_values <= 0.01]"
   ],
   "metadata": {
    "collapsed": false,
    "pycharm": {
     "name": "#%%\n"
    }
   }
  },
  {
   "cell_type": "code",
   "execution_count": null,
   "outputs": [],
   "source": [],
   "metadata": {
    "collapsed": false,
    "pycharm": {
     "name": "#%%\n"
    }
   }
  }
 ],
 "metadata": {
  "kernelspec": {
   "display_name": "Python 3",
   "language": "python",
   "name": "python3"
  },
  "language_info": {
   "codemirror_mode": {
    "name": "ipython",
    "version": 2
   },
   "file_extension": ".py",
   "mimetype": "text/x-python",
   "name": "python",
   "nbconvert_exporter": "python",
   "pygments_lexer": "ipython2",
   "version": "2.7.6"
  }
 },
 "nbformat": 4,
 "nbformat_minor": 0
}