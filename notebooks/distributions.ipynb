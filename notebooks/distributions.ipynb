{
 "cells": [
  {
   "cell_type": "code",
   "execution_count": 3,
   "metadata": {
    "collapsed": true
   },
   "outputs": [],
   "source": [
    "import numpy as np\n",
    "\n",
    "from gscore.fdr import GlobalDistribution"
   ]
  },
  {
   "cell_type": "code",
   "execution_count": 4,
   "outputs": [],
   "source": [
    "model_path = \"/home/aaron/projects/ghost/data/spike_in/models/peptide.test\""
   ],
   "metadata": {
    "collapsed": false,
    "pycharm": {
     "name": "#%%\n"
    }
   }
  },
  {
   "cell_type": "code",
   "execution_count": 5,
   "outputs": [],
   "source": [
    "global_model = GlobalDistribution.load(model_path)"
   ],
   "metadata": {
    "collapsed": false,
    "pycharm": {
     "name": "#%%\n"
    }
   }
  },
  {
   "cell_type": "code",
   "execution_count": 6,
   "outputs": [],
   "source": [
    "import pandas as pd\n",
    "\n",
    "check = pd.DataFrame(\n",
    "    {\n",
    "        \"label\": global_model.labels.ravel(),\n",
    "        \"scores\": global_model.scores.ravel()\n",
    "    }\n",
    ")"
   ],
   "metadata": {
    "collapsed": false,
    "pycharm": {
     "name": "#%%\n"
    }
   }
  },
  {
   "cell_type": "code",
   "execution_count": 7,
   "outputs": [
    {
     "data": {
      "text/plain": "<seaborn.axisgrid.FacetGrid at 0x7f7c13f362b0>"
     },
     "execution_count": 7,
     "metadata": {},
     "output_type": "execute_result"
    },
    {
     "data": {
      "text/plain": "<Figure size 402.375x360 with 1 Axes>",
      "image/png": "[encoded data removed]"
     },
     "metadata": {
      "needs_background": "light"
     },
     "output_type": "display_data"
    }
   ],
   "source": [
    "import seaborn as sns\n",
    "\n",
    "sns.displot(check, x=\"scores\", hue=\"label\")"
   ],
   "metadata": {
    "collapsed": false,
    "pycharm": {
     "name": "#%%\n"
    }
   }
  },
  {
   "cell_type": "code",
   "execution_count": 8,
   "outputs": [],
   "source": [
    "decoy_values = check[check[\"scores\"] >= 0.50][\"label\"].value_counts()"
   ],
   "metadata": {
    "collapsed": false,
    "pycharm": {
     "name": "#%%\n"
    }
   }
  },
  {
   "cell_type": "code",
   "execution_count": 9,
   "outputs": [
    {
     "data": {
      "text/plain": "0.01054323368691739"
     },
     "execution_count": 9,
     "metadata": {},
     "output_type": "execute_result"
    }
   ],
   "source": [
    "decoy_values[0] / decoy_values[1]"
   ],
   "metadata": {
    "collapsed": false,
    "pycharm": {
     "name": "#%%\n"
    }
   }
  },
  {
   "cell_type": "code",
   "execution_count": 10,
   "outputs": [],
   "source": [
    "function_check = pd.DataFrame(\n",
    "    {\n",
    "        \"label\": global_model.score_distribution.x_axis.ravel(),\n",
    "        \"scores\": global_model.score_distribution.target_scores.ravel(),\n",
    "        \"type\": [\"Target\" for _ in range(global_model.score_distribution.x_axis.shape[0])]\n",
    "    }\n",
    "\n",
    ")"
   ],
   "metadata": {
    "collapsed": false,
    "pycharm": {
     "name": "#%%\n"
    }
   }
  },
  {
   "cell_type": "code",
   "execution_count": 11,
   "outputs": [
    {
     "data": {
      "text/plain": "          label    scores    type\n0    -11.176222  0.000000  Target\n1    -10.856914  0.000000  Target\n2    -10.537605  0.000007  Target\n3    -10.218297  0.000103  Target\n4     -9.898989  0.000238  Target\n..          ...       ...     ...\n995  306.535450  0.000000  Target\n996  306.854758  0.000000  Target\n997  307.174067  0.000000  Target\n998  307.493375  0.000035  Target\n999  307.812683  0.000060  Target\n\n[1000 rows x 3 columns]",
      "text/html": "<div>\n<style scoped>\n    .dataframe tbody tr th:only-of-type {\n        vertical-align: middle;\n    }\n\n    .dataframe tbody tr th {\n        vertical-align: top;\n    }\n\n    .dataframe thead th {\n        text-align: right;\n    }\n</style>\n<table border=\"1\" class=\"dataframe\">\n  <thead>\n    <tr style=\"text-align: right;\">\n      <th></th>\n      <th>label</th>\n      <th>scores</th>\n      <th>type</th>\n    </tr>\n  </thead>\n  <tbody>\n    <tr>\n      <th>0</th>\n      <td>-11.176222</td>\n      <td>0.000000</td>\n      <td>Target</td>\n    </tr>\n    <tr>\n      <th>1</th>\n      <td>-10.856914</td>\n      <td>0.000000</td>\n      <td>Target</td>\n    </tr>\n    <tr>\n      <th>2</th>\n      <td>-10.537605</td>\n      <td>0.000007</td>\n      <td>Target</td>\n    </tr>\n    <tr>\n      <th>3</th>\n      <td>-10.218297</td>\n      <td>0.000103</td>\n      <td>Target</td>\n    </tr>\n    <tr>\n      <th>4</th>\n      <td>-9.898989</td>\n      <td>0.000238</td>\n      <td>Target</td>\n    </tr>\n    <tr>\n      <th>...</th>\n      <td>...</td>\n      <td>...</td>\n      <td>...</td>\n    </tr>\n    <tr>\n      <th>995</th>\n      <td>306.535450</td>\n      <td>0.000000</td>\n      <td>Target</td>\n    </tr>\n    <tr>\n      <th>996</th>\n      <td>306.854758</td>\n      <td>0.000000</td>\n      <td>Target</td>\n    </tr>\n    <tr>\n      <th>997</th>\n      <td>307.174067</td>\n      <td>0.000000</td>\n      <td>Target</td>\n    </tr>\n    <tr>\n      <th>998</th>\n      <td>307.493375</td>\n      <td>0.000035</td>\n      <td>Target</td>\n    </tr>\n    <tr>\n      <th>999</th>\n      <td>307.812683</td>\n      <td>0.000060</td>\n      <td>Target</td>\n    </tr>\n  </tbody>\n</table>\n<p>1000 rows × 3 columns</p>\n</div>"
     },
     "execution_count": 11,
     "metadata": {},
     "output_type": "execute_result"
    }
   ],
   "source": [
    "function_check"
   ],
   "metadata": {
    "collapsed": false,
    "pycharm": {
     "name": "#%%\n"
    }
   }
  },
  {
   "cell_type": "code",
   "execution_count": 12,
   "outputs": [],
   "source": [
    "decoy_check = pd.DataFrame(\n",
    "    {\n",
    "        \"label\": global_model.score_distribution.x_axis.ravel(),\n",
    "        \"scores\": global_model.score_distribution.decoy_scores.ravel(),\n",
    "        \"type\": [\"Decoy\" for _ in range(global_model.score_distribution.x_axis.shape[0])]\n",
    "    }\n",
    "\n",
    ")\n",
    "\n",
    "all_scores = pd.concat(\n",
    "    [\n",
    "        function_check,\n",
    "        decoy_check\n",
    "    ]\n",
    ").reset_index()"
   ],
   "metadata": {
    "collapsed": false,
    "pycharm": {
     "name": "#%%\n"
    }
   }
  },
  {
   "cell_type": "code",
   "execution_count": 13,
   "outputs": [
    {
     "data": {
      "text/plain": "<AxesSubplot:xlabel='label', ylabel='scores'>"
     },
     "execution_count": 13,
     "metadata": {},
     "output_type": "execute_result"
    },
    {
     "data": {
      "text/plain": "<Figure size 432x288 with 1 Axes>",
      "image/png": "[encoded data removed]"
     },
     "metadata": {
      "needs_background": "light"
     },
     "output_type": "display_data"
    }
   ],
   "source": [
    "sns.lineplot(data=all_scores, x=\"label\", y=\"scores\", hue=\"type\")"
   ],
   "metadata": {
    "collapsed": false,
    "pycharm": {
     "name": "#%%\n"
    }
   }
  },
  {
   "cell_type": "code",
   "execution_count": 14,
   "outputs": [
    {
     "data": {
      "text/plain": "array([0.        , 0.        , 0.        , ..., 0.00404619, 0.00062597,\n       0.00999315])"
     },
     "execution_count": 14,
     "metadata": {},
     "output_type": "execute_result"
    }
   ],
   "source": [
    "global_model.q_values[global_model.q_values <= 0.01]"
   ],
   "metadata": {
    "collapsed": false,
    "pycharm": {
     "name": "#%%\n"
    }
   }
  },
  {
   "cell_type": "code",
   "execution_count": null,
   "outputs": [],
   "source": [],
   "metadata": {
    "collapsed": false,
    "pycharm": {
     "name": "#%%\n"
    }
   }
  }
 ],
 "metadata": {
  "kernelspec": {
   "display_name": "Python 3",
   "language": "python",
   "name": "python3"
  },
  "language_info": {
   "codemirror_mode": {
    "name": "ipython",
    "version": 2
   },
   "file_extension": ".py",
   "mimetype": "text/x-python",
   "name": "python",
   "nbconvert_exporter": "python",
   "pygments_lexer": "ipython2",
   "version": "2.7.6"
  }
 },
 "nbformat": 4,
 "nbformat_minor": 0
}