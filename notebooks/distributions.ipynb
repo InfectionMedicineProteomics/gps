{
 "cells": [
  {
   "cell_type": "code",
   "execution_count": 1,
   "metadata": {
    "collapsed": true
   },
   "outputs": [],
   "source": [
    "from gscore.fdr import GlobalDistribution"
   ]
  },
  {
   "cell_type": "code",
   "execution_count": 41,
   "outputs": [],
   "source": [
    "model_path = \"/home/aaron/projects/ghost/data/spike_in/models/peptide.test\""
   ],
   "metadata": {
    "collapsed": false,
    "pycharm": {
     "name": "#%%\n"
    }
   }
  },
  {
   "cell_type": "code",
   "execution_count": 42,
   "outputs": [],
   "source": [
    "global_model = GlobalDistribution.load(model_path)"
   ],
   "metadata": {
    "collapsed": false,
    "pycharm": {
     "name": "#%%\n"
    }
   }
  },
  {
   "cell_type": "code",
   "execution_count": 43,
   "outputs": [],
   "source": [
    "import pandas as pd\n",
    "\n",
    "check = pd.DataFrame(\n",
    "    {\n",
    "        \"label\": global_model.labels.ravel(),\n",
    "        \"scores\": global_model.scores.ravel()\n",
    "    }\n",
    ")"
   ],
   "metadata": {
    "collapsed": false,
    "pycharm": {
     "name": "#%%\n"
    }
   }
  },
  {
   "cell_type": "code",
   "execution_count": 44,
   "outputs": [
    {
     "data": {
      "text/plain": "<seaborn.axisgrid.FacetGrid at 0x7fd84c4c0910>"
     },
     "execution_count": 44,
     "metadata": {},
     "output_type": "execute_result"
    },
    {
     "data": {
      "text/plain": "<Figure size 402.375x360 with 1 Axes>",
      "image/png": "[encoded data removed]"
     },
     "metadata": {
      "needs_background": "light"
     },
     "output_type": "display_data"
    }
   ],
   "source": [
    "import seaborn as sns\n",
    "\n",
    "sns.displot(check, x=\"scores\", hue=\"label\")"
   ],
   "metadata": {
    "collapsed": false,
    "pycharm": {
     "name": "#%%\n"
    }
   }
  },
  {
   "cell_type": "code",
   "execution_count": 45,
   "outputs": [],
   "source": [
    "function_check = pd.DataFrame(\n",
    "    {\n",
    "        \"label\": global_model.score_distribution.x_axis.ravel(),\n",
    "        \"scores\": global_model.score_distribution.target_scores.ravel(),\n",
    "        \"type\": [\"Target\" for _ in range(global_model.score_distribution.x_axis.shape[0])]\n",
    "    }\n",
    "\n",
    ")"
   ],
   "metadata": {
    "collapsed": false,
    "pycharm": {
     "name": "#%%\n"
    }
   }
  },
  {
   "cell_type": "code",
   "execution_count": 46,
   "outputs": [
    {
     "data": {
      "text/plain": "        label        scores    type\n0   -2.000000  1.237805e-09  Target\n1   -1.995996  1.384078e-09  Target\n2   -1.991992  1.547160e-09  Target\n3   -1.987988  1.728925e-09  Target\n4   -1.983984  1.931448e-09  Target\n..        ...           ...     ...\n995  1.983984  4.113670e-09  Target\n996  1.987988  3.700641e-09  Target\n997  1.991992  3.327886e-09  Target\n998  1.995996  2.991602e-09  Target\n999  2.000000  2.688332e-09  Target\n\n[1000 rows x 3 columns]",
      "text/html": "<div>\n<style scoped>\n    .dataframe tbody tr th:only-of-type {\n        vertical-align: middle;\n    }\n\n    .dataframe tbody tr th {\n        vertical-align: top;\n    }\n\n    .dataframe thead th {\n        text-align: right;\n    }\n</style>\n<table border=\"1\" class=\"dataframe\">\n  <thead>\n    <tr style=\"text-align: right;\">\n      <th></th>\n      <th>label</th>\n      <th>scores</th>\n      <th>type</th>\n    </tr>\n  </thead>\n  <tbody>\n    <tr>\n      <th>0</th>\n      <td>-2.000000</td>\n      <td>1.237805e-09</td>\n      <td>Target</td>\n    </tr>\n    <tr>\n      <th>1</th>\n      <td>-1.995996</td>\n      <td>1.384078e-09</td>\n      <td>Target</td>\n    </tr>\n    <tr>\n      <th>2</th>\n      <td>-1.991992</td>\n      <td>1.547160e-09</td>\n      <td>Target</td>\n    </tr>\n    <tr>\n      <th>3</th>\n      <td>-1.987988</td>\n      <td>1.728925e-09</td>\n      <td>Target</td>\n    </tr>\n    <tr>\n      <th>4</th>\n      <td>-1.983984</td>\n      <td>1.931448e-09</td>\n      <td>Target</td>\n    </tr>\n    <tr>\n      <th>...</th>\n      <td>...</td>\n      <td>...</td>\n      <td>...</td>\n    </tr>\n    <tr>\n      <th>995</th>\n      <td>1.983984</td>\n      <td>4.113670e-09</td>\n      <td>Target</td>\n    </tr>\n    <tr>\n      <th>996</th>\n      <td>1.987988</td>\n      <td>3.700641e-09</td>\n      <td>Target</td>\n    </tr>\n    <tr>\n      <th>997</th>\n      <td>1.991992</td>\n      <td>3.327886e-09</td>\n      <td>Target</td>\n    </tr>\n    <tr>\n      <th>998</th>\n      <td>1.995996</td>\n      <td>2.991602e-09</td>\n      <td>Target</td>\n    </tr>\n    <tr>\n      <th>999</th>\n      <td>2.000000</td>\n      <td>2.688332e-09</td>\n      <td>Target</td>\n    </tr>\n  </tbody>\n</table>\n<p>1000 rows × 3 columns</p>\n</div>"
     },
     "execution_count": 46,
     "metadata": {},
     "output_type": "execute_result"
    }
   ],
   "source": [
    "function_check"
   ],
   "metadata": {
    "collapsed": false,
    "pycharm": {
     "name": "#%%\n"
    }
   }
  },
  {
   "cell_type": "code",
   "execution_count": 47,
   "outputs": [],
   "source": [
    "decoy_check = pd.DataFrame(\n",
    "    {\n",
    "        \"label\": global_model.score_distribution.x_axis.ravel(),\n",
    "        \"scores\": global_model.score_distribution.decoy_scores.ravel(),\n",
    "        \"type\": [\"Decoy\" for _ in range(global_model.score_distribution.x_axis.shape[0])]\n",
    "    }\n",
    "\n",
    ")\n",
    "\n",
    "all_scores = pd.concat(\n",
    "    [\n",
    "        function_check,\n",
    "        decoy_check\n",
    "    ]\n",
    ").reset_index()"
   ],
   "metadata": {
    "collapsed": false,
    "pycharm": {
     "name": "#%%\n"
    }
   }
  },
  {
   "cell_type": "code",
   "execution_count": 48,
   "outputs": [
    {
     "data": {
      "text/plain": "<AxesSubplot:xlabel='label', ylabel='scores'>"
     },
     "execution_count": 48,
     "metadata": {},
     "output_type": "execute_result"
    },
    {
     "data": {
      "text/plain": "<Figure size 432x288 with 1 Axes>",
      "image/png": "[encoded data removed]"
     },
     "metadata": {
      "needs_background": "light"
     },
     "output_type": "display_data"
    }
   ],
   "source": [
    "sns.lineplot(data=all_scores, x=\"label\", y=\"scores\", hue=\"type\")"
   ],
   "metadata": {
    "collapsed": false,
    "pycharm": {
     "name": "#%%\n"
    }
   }
  },
  {
   "cell_type": "code",
   "execution_count": 37,
   "outputs": [
    {
     "data": {
      "text/plain": "         label        scores   type\n0    -3.857257  1.633322e-48  Decoy\n1    -3.839204  5.967475e-48  Decoy\n2    -3.821151  2.162713e-47  Decoy\n3    -3.803098  7.774937e-47  Decoy\n4    -3.785045  2.772582e-46  Decoy\n..         ...           ...    ...\n995  14.105648  0.000000e+00  Decoy\n996  14.123701  0.000000e+00  Decoy\n997  14.141754  0.000000e+00  Decoy\n998  14.159807  0.000000e+00  Decoy\n999  14.177860  0.000000e+00  Decoy\n\n[1000 rows x 3 columns]",
      "text/html": "<div>\n<style scoped>\n    .dataframe tbody tr th:only-of-type {\n        vertical-align: middle;\n    }\n\n    .dataframe tbody tr th {\n        vertical-align: top;\n    }\n\n    .dataframe thead th {\n        text-align: right;\n    }\n</style>\n<table border=\"1\" class=\"dataframe\">\n  <thead>\n    <tr style=\"text-align: right;\">\n      <th></th>\n      <th>label</th>\n      <th>scores</th>\n      <th>type</th>\n    </tr>\n  </thead>\n  <tbody>\n    <tr>\n      <th>0</th>\n      <td>-3.857257</td>\n      <td>1.633322e-48</td>\n      <td>Decoy</td>\n    </tr>\n    <tr>\n      <th>1</th>\n      <td>-3.839204</td>\n      <td>5.967475e-48</td>\n      <td>Decoy</td>\n    </tr>\n    <tr>\n      <th>2</th>\n      <td>-3.821151</td>\n      <td>2.162713e-47</td>\n      <td>Decoy</td>\n    </tr>\n    <tr>\n      <th>3</th>\n      <td>-3.803098</td>\n      <td>7.774937e-47</td>\n      <td>Decoy</td>\n    </tr>\n    <tr>\n      <th>4</th>\n      <td>-3.785045</td>\n      <td>2.772582e-46</td>\n      <td>Decoy</td>\n    </tr>\n    <tr>\n      <th>...</th>\n      <td>...</td>\n      <td>...</td>\n      <td>...</td>\n    </tr>\n    <tr>\n      <th>995</th>\n      <td>14.105648</td>\n      <td>0.000000e+00</td>\n      <td>Decoy</td>\n    </tr>\n    <tr>\n      <th>996</th>\n      <td>14.123701</td>\n      <td>0.000000e+00</td>\n      <td>Decoy</td>\n    </tr>\n    <tr>\n      <th>997</th>\n      <td>14.141754</td>\n      <td>0.000000e+00</td>\n      <td>Decoy</td>\n    </tr>\n    <tr>\n      <th>998</th>\n      <td>14.159807</td>\n      <td>0.000000e+00</td>\n      <td>Decoy</td>\n    </tr>\n    <tr>\n      <th>999</th>\n      <td>14.177860</td>\n      <td>0.000000e+00</td>\n      <td>Decoy</td>\n    </tr>\n  </tbody>\n</table>\n<p>1000 rows × 3 columns</p>\n</div>"
     },
     "execution_count": 37,
     "metadata": {},
     "output_type": "execute_result"
    }
   ],
   "source": [
    "decoy_check"
   ],
   "metadata": {
    "collapsed": false,
    "pycharm": {
     "name": "#%%\n"
    }
   }
  },
  {
   "cell_type": "code",
   "execution_count": null,
   "outputs": [],
   "source": [],
   "metadata": {
    "collapsed": false,
    "pycharm": {
     "name": "#%%\n"
    }
   }
  }
 ],
 "metadata": {
  "kernelspec": {
   "display_name": "Python 3",
   "language": "python",
   "name": "python3"
  },
  "language_info": {
   "codemirror_mode": {
    "name": "ipython",
    "version": 2
   },
   "file_extension": ".py",
   "mimetype": "text/x-python",
   "name": "python",
   "nbconvert_exporter": "python",
   "pygments_lexer": "ipython2",
   "version": "2.7.6"
  }
 },
 "nbformat": 4,
 "nbformat_minor": 0
}